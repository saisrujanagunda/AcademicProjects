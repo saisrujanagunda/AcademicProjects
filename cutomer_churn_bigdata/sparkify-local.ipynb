{
  "cells": [
    {
      "cell_type": "code",
      "execution_count": 1,
      "metadata": {
        "colab": {
          "base_uri": "https://localhost:8080/"
        },
        "id": "H0-4Rz5IkJ7a",
        "outputId": "583fe331-c733-4e99-f5f6-9a899c530af3"
      },
      "outputs": [
        {
          "output_type": "stream",
          "name": "stdout",
          "text": [
            "Collecting pyspark\n",
            "  Downloading pyspark-3.5.1.tar.gz (317.0 MB)\n",
            "\u001b[2K     \u001b[90m━━━━━━━━━━━━━━━━━━━━━━━━━━━━━━━━━━━━━━━━\u001b[0m \u001b[32m317.0/317.0 MB\u001b[0m \u001b[31m2.0 MB/s\u001b[0m eta \u001b[36m0:00:00\u001b[0m\n",
            "\u001b[?25h  Preparing metadata (setup.py) ... \u001b[?25l\u001b[?25hdone\n",
            "Requirement already satisfied: py4j in /usr/local/lib/python3.10/dist-packages (0.10.9.7)\n",
            "Building wheels for collected packages: pyspark\n",
            "  Building wheel for pyspark (setup.py) ... \u001b[?25l\u001b[?25hdone\n",
            "  Created wheel for pyspark: filename=pyspark-3.5.1-py2.py3-none-any.whl size=317488491 sha256=b1c25eac09cf08f50b887e65116e2b1b0e412ceee31f0365262de98388d278fa\n",
            "  Stored in directory: /root/.cache/pip/wheels/80/1d/60/2c256ed38dddce2fdd93be545214a63e02fbd8d74fb0b7f3a6\n",
            "Successfully built pyspark\n",
            "Installing collected packages: pyspark\n",
            "Successfully installed pyspark-3.5.1\n"
          ]
        }
      ],
      "source": [
        "!pip install pyspark py4j"
      ]
    },
    {
      "cell_type": "code",
      "execution_count": 2,
      "metadata": {
        "id": "IAiKhLLZlCEz"
      },
      "outputs": [],
      "source": [
        "# import libraries\n",
        "from pyspark import SparkConf, SparkContext\n",
        "from pyspark.sql import SparkSession,Window\n",
        "from pyspark.sql.types import *\n",
        "from pyspark.sql.functions import *\n",
        "\n",
        "from pyspark.ml import Pipeline\n",
        "from pyspark.ml.classification import LogisticRegression,GBTClassifier, RandomForestClassifier\n",
        "from pyspark.ml.evaluation import BinaryClassificationEvaluator,MulticlassClassificationEvaluator\n",
        "from pyspark.ml.feature import StandardScaler, StringIndexer, VectorAssembler\n",
        "from pyspark.ml.tuning import CrossValidator, ParamGridBuilder\n",
        "\n",
        "import re\n",
        "import datetime\n",
        "\n",
        "import numpy as np\n",
        "import pandas as pd\n",
        "import seaborn as sb\n",
        "import seaborn as sns\n",
        "import matplotlib.pyplot as plt"
      ]
    },
    {
      "cell_type": "code",
      "execution_count": 3,
      "metadata": {
        "id": "Q81_ZJk-lb1h"
      },
      "outputs": [],
      "source": [
        "# Set color palette for graphs\n",
        "sns.set_palette('pastel')"
      ]
    },
    {
      "cell_type": "code",
      "execution_count": 4,
      "metadata": {
        "colab": {
          "base_uri": "https://localhost:8080/"
        },
        "id": "4ywypK8GskBS",
        "outputId": "53468aeb-7885-47ce-f81a-32fdea05a641"
      },
      "outputs": [
        {
          "output_type": "stream",
          "name": "stdout",
          "text": [
            "Requirement already satisfied: seaborn in /usr/local/lib/python3.10/dist-packages (0.13.1)\n",
            "Requirement already satisfied: numpy!=1.24.0,>=1.20 in /usr/local/lib/python3.10/dist-packages (from seaborn) (1.25.2)\n",
            "Requirement already satisfied: pandas>=1.2 in /usr/local/lib/python3.10/dist-packages (from seaborn) (2.0.3)\n",
            "Requirement already satisfied: matplotlib!=3.6.1,>=3.4 in /usr/local/lib/python3.10/dist-packages (from seaborn) (3.7.1)\n",
            "Requirement already satisfied: contourpy>=1.0.1 in /usr/local/lib/python3.10/dist-packages (from matplotlib!=3.6.1,>=3.4->seaborn) (1.2.1)\n",
            "Requirement already satisfied: cycler>=0.10 in /usr/local/lib/python3.10/dist-packages (from matplotlib!=3.6.1,>=3.4->seaborn) (0.12.1)\n",
            "Requirement already satisfied: fonttools>=4.22.0 in /usr/local/lib/python3.10/dist-packages (from matplotlib!=3.6.1,>=3.4->seaborn) (4.51.0)\n",
            "Requirement already satisfied: kiwisolver>=1.0.1 in /usr/local/lib/python3.10/dist-packages (from matplotlib!=3.6.1,>=3.4->seaborn) (1.4.5)\n",
            "Requirement already satisfied: packaging>=20.0 in /usr/local/lib/python3.10/dist-packages (from matplotlib!=3.6.1,>=3.4->seaborn) (24.0)\n",
            "Requirement already satisfied: pillow>=6.2.0 in /usr/local/lib/python3.10/dist-packages (from matplotlib!=3.6.1,>=3.4->seaborn) (9.4.0)\n",
            "Requirement already satisfied: pyparsing>=2.3.1 in /usr/local/lib/python3.10/dist-packages (from matplotlib!=3.6.1,>=3.4->seaborn) (3.1.2)\n",
            "Requirement already satisfied: python-dateutil>=2.7 in /usr/local/lib/python3.10/dist-packages (from matplotlib!=3.6.1,>=3.4->seaborn) (2.8.2)\n",
            "Requirement already satisfied: pytz>=2020.1 in /usr/local/lib/python3.10/dist-packages (from pandas>=1.2->seaborn) (2023.4)\n",
            "Requirement already satisfied: tzdata>=2022.1 in /usr/local/lib/python3.10/dist-packages (from pandas>=1.2->seaborn) (2024.1)\n",
            "Requirement already satisfied: six>=1.5 in /usr/local/lib/python3.10/dist-packages (from python-dateutil>=2.7->matplotlib!=3.6.1,>=3.4->seaborn) (1.16.0)\n"
          ]
        }
      ],
      "source": [
        "pip install seaborn"
      ]
    },
    {
      "cell_type": "code",
      "execution_count": 5,
      "metadata": {
        "id": "AxalTB9NleVV"
      },
      "outputs": [],
      "source": [
        "pd.set_option('display.max_columns', None)\n",
        "pd.set_option('display.expand_frame_repr', False)\n",
        "pd.set_option('max_colwidth', None)"
      ]
    },
    {
      "cell_type": "code",
      "execution_count": 6,
      "metadata": {
        "id": "tXU9YwC2SOSD"
      },
      "outputs": [],
      "source": [
        "# create a Spark session\n",
        "spark = SparkSession \\\n",
        "    .builder \\\n",
        "    .appName(\"Sparkify\") \\\n",
        "    .getOrCreate()"
      ]
    },
    {
      "cell_type": "code",
      "execution_count": 7,
      "metadata": {
        "colab": {
          "base_uri": "https://localhost:8080/",
          "height": 219
        },
        "id": "Uy7fOBJ-TKpw",
        "outputId": "94e068a0-7734-40d8-e096-a202fd9b8104"
      },
      "outputs": [
        {
          "output_type": "execute_result",
          "data": {
            "text/plain": [
              "<pyspark.sql.session.SparkSession at 0x79b1df2e9030>"
            ],
            "text/html": [
              "\n",
              "            <div>\n",
              "                <p><b>SparkSession - in-memory</b></p>\n",
              "                \n",
              "        <div>\n",
              "            <p><b>SparkContext</b></p>\n",
              "\n",
              "            <p><a href=\"http://2c4863a4439f:4040\">Spark UI</a></p>\n",
              "\n",
              "            <dl>\n",
              "              <dt>Version</dt>\n",
              "                <dd><code>v3.5.1</code></dd>\n",
              "              <dt>Master</dt>\n",
              "                <dd><code>local[*]</code></dd>\n",
              "              <dt>AppName</dt>\n",
              "                <dd><code>Sparkify</code></dd>\n",
              "            </dl>\n",
              "        </div>\n",
              "        \n",
              "            </div>\n",
              "        "
            ]
          },
          "metadata": {},
          "execution_count": 7
        }
      ],
      "source": [
        "# check that our Spark session has been created\n",
        "spark.sparkContext.getConf().getAll()\n",
        "spark"
      ]
    },
    {
      "cell_type": "code",
      "execution_count": 8,
      "metadata": {
        "id": "U7IJ45xGTPVu"
      },
      "outputs": [],
      "source": [
        "# Download the JSON file locally\n",
        "import requests\n",
        "\n",
        "url = \"https://udacity-dsnd.s3.amazonaws.com/sparkify/mini_sparkify_event_data.json\"\n",
        "response = requests.get(url)\n",
        "\n",
        "# Save the content to a local file\n",
        "with open(\"mini_sparkify_event_data.json\", \"wb\") as file:\n",
        "    file.write(response.content)\n",
        "\n",
        "# Read the local JSON file into a PySpark DataFrame\n",
        "df = spark.read.json(\"mini_sparkify_event_data.json\")"
      ]
    },
    {
      "cell_type": "code",
      "execution_count": 9,
      "metadata": {
        "colab": {
          "base_uri": "https://localhost:8080/"
        },
        "id": "qnZgzPncYcn9",
        "outputId": "f7eeb764-2b02-4531-ccc4-81ba8271cb50"
      },
      "outputs": [
        {
          "output_type": "stream",
          "name": "stdout",
          "text": [
            "root\n",
            " |-- artist: string (nullable = true)\n",
            " |-- auth: string (nullable = true)\n",
            " |-- firstName: string (nullable = true)\n",
            " |-- gender: string (nullable = true)\n",
            " |-- itemInSession: long (nullable = true)\n",
            " |-- lastName: string (nullable = true)\n",
            " |-- length: double (nullable = true)\n",
            " |-- level: string (nullable = true)\n",
            " |-- location: string (nullable = true)\n",
            " |-- method: string (nullable = true)\n",
            " |-- page: string (nullable = true)\n",
            " |-- registration: long (nullable = true)\n",
            " |-- sessionId: long (nullable = true)\n",
            " |-- song: string (nullable = true)\n",
            " |-- status: long (nullable = true)\n",
            " |-- ts: long (nullable = true)\n",
            " |-- userAgent: string (nullable = true)\n",
            " |-- userId: string (nullable = true)\n",
            "\n"
          ]
        }
      ],
      "source": [
        "# Print the schema of the DataFrame\n",
        "df.printSchema()"
      ]
    },
    {
      "cell_type": "code",
      "execution_count": 10,
      "metadata": {
        "colab": {
          "base_uri": "https://localhost:8080/"
        },
        "id": "5P8-BEwYYeXL",
        "outputId": "c1fcf633-8d46-4811-90b1-d5681b4d66d8"
      },
      "outputs": [
        {
          "output_type": "stream",
          "name": "stdout",
          "text": [
            "+-------+------------------+----------+---------+------+------------------+--------+------------------+------+-----------------+------+-------+--------------------+-----------------+--------------------+------------------+--------------------+--------------------+------------------+\n",
            "|summary|            artist|      auth|firstName|gender|     itemInSession|lastName|            length| level|         location|method|   page|        registration|        sessionId|                song|            status|                  ts|           userAgent|            userId|\n",
            "+-------+------------------+----------+---------+------+------------------+--------+------------------+------+-----------------+------+-------+--------------------+-----------------+--------------------+------------------+--------------------+--------------------+------------------+\n",
            "|  count|            228108|    286500|   278154|278154|            286500|  278154|            228108|286500|           278154|286500| 286500|              278154|           286500|              228108|            286500|              286500|              278154|            286500|\n",
            "|   mean| 551.0852017937219|      NULL|     NULL|  NULL|114.41421291448516|    NULL|249.11718197783662|  NULL|             NULL|  NULL|   NULL|1.535358834085650...|1041.526554973822|            Infinity|210.05459685863875|1.540956889810432E12|                NULL| 59682.02278593872|\n",
            "| stddev|1217.7693079161374|      NULL|     NULL|  NULL|129.76726201141042|    NULL| 99.23517921058307|  NULL|             NULL|  NULL|   NULL|  3.29132161632862E9|726.7762634630783|                 NaN|31.505078488422217| 1.507543960818767E9|                NULL|109091.94999910527|\n",
            "|    min|               !!!| Cancelled| Adelaida|     F|                 0|   Adams|           0.78322|  free|       Albany, OR|   GET|  About|       1521380675000|                1|\u001cÃÂg ÃÂtti Gr...|               200|       1538352117000|\"Mozilla/5.0 (Mac...|                  |\n",
            "|    max| ÃÂlafur Arnalds|Logged Out|   Zyonna|     M|              1321|  Wright|        3024.66567|  paid|Winston-Salem, NC|   PUT|Upgrade|       1543247354000|             2474|ÃÂau hafa slopp...|               404|       1543799476000|Mozilla/5.0 (comp...|                99|\n",
            "+-------+------------------+----------+---------+------+------------------+--------+------------------+------+-----------------+------+-------+--------------------+-----------------+--------------------+------------------+--------------------+--------------------+------------------+\n",
            "\n"
          ]
        }
      ],
      "source": [
        "# Describe the DataFrame to understand its structure and summary statistics\n",
        "df.describe().show()"
      ]
    },
    {
      "cell_type": "code",
      "execution_count": 11,
      "metadata": {
        "colab": {
          "base_uri": "https://localhost:8080/"
        },
        "id": "xb2w-8HNeTok",
        "outputId": "62930934-fdcb-48ab-d11e-9334a92ce100"
      },
      "outputs": [
        {
          "output_type": "execute_result",
          "data": {
            "text/plain": [
              "18"
            ]
          },
          "metadata": {},
          "execution_count": 11
        }
      ],
      "source": [
        "# number of columns in dataframe\n",
        "len(df.columns)"
      ]
    },
    {
      "cell_type": "code",
      "execution_count": 12,
      "metadata": {
        "colab": {
          "base_uri": "https://localhost:8080/"
        },
        "id": "OvMFhWyHeXpY",
        "outputId": "ad886e41-2a9f-4c95-88e4-a651b6819dc6"
      },
      "outputs": [
        {
          "output_type": "execute_result",
          "data": {
            "text/plain": [
              "286500"
            ]
          },
          "metadata": {},
          "execution_count": 12
        }
      ],
      "source": [
        "# number of samples in dataframe\n",
        "df.count()"
      ]
    },
    {
      "cell_type": "code",
      "execution_count": 13,
      "metadata": {
        "colab": {
          "base_uri": "https://localhost:8080/",
          "height": 608
        },
        "id": "S4p-QSmUeZXM",
        "outputId": "f1869a8b-d403-4d60-b3ed-8c930ca23ce9"
      },
      "outputs": [
        {
          "output_type": "execute_result",
          "data": {
            "text/plain": [
              "             artist       auth firstName gender  itemInSession lastName     length level                        location method      page  registration  sessionId                           song  status             ts                                                                                                        userAgent userId\n",
              "0    Martha Tilston  Logged In     Colin      M             50  Freeman  277.89016  paid                 Bakersfield, CA    PUT  NextSong  1.538173e+12         29                      Rockpools     200  1538352117000                                         Mozilla/5.0 (Windows NT 6.1; WOW64; rv:31.0) Gecko/20100101 Firefox/31.0     30\n",
              "1  Five Iron Frenzy  Logged In     Micah      M             79     Long  236.09424  free  Boston-Cambridge-Newton, MA-NH    PUT  NextSong  1.538332e+12          8                         Canada     200  1538352180000  \"Mozilla/5.0 (Windows NT 6.1; WOW64) AppleWebKit/537.36 (KHTML, like Gecko) Chrome/37.0.2062.103 Safari/537.36\"      9\n",
              "2      Adam Lambert  Logged In     Colin      M             51  Freeman  282.82730  paid                 Bakersfield, CA    PUT  NextSong  1.538173e+12         29              Time For Miracles     200  1538352394000                                         Mozilla/5.0 (Windows NT 6.1; WOW64; rv:31.0) Gecko/20100101 Firefox/31.0     30\n",
              "3            Enigma  Logged In     Micah      M             80     Long  262.71302  free  Boston-Cambridge-Newton, MA-NH    PUT  NextSong  1.538332e+12          8    Knocking On Forbidden Doors     200  1538352416000  \"Mozilla/5.0 (Windows NT 6.1; WOW64) AppleWebKit/537.36 (KHTML, like Gecko) Chrome/37.0.2062.103 Safari/537.36\"      9\n",
              "4         Daft Punk  Logged In     Colin      M             52  Freeman  223.60771  paid                 Bakersfield, CA    PUT  NextSong  1.538173e+12         29  Harder Better Faster Stronger     200  1538352676000                                         Mozilla/5.0 (Windows NT 6.1; WOW64; rv:31.0) Gecko/20100101 Firefox/31.0     30"
            ],
            "text/html": [
              "\n",
              "  <div id=\"df-e65c92a1-327f-4adf-bb27-779444a560f8\" class=\"colab-df-container\">\n",
              "    <div>\n",
              "<style scoped>\n",
              "    .dataframe tbody tr th:only-of-type {\n",
              "        vertical-align: middle;\n",
              "    }\n",
              "\n",
              "    .dataframe tbody tr th {\n",
              "        vertical-align: top;\n",
              "    }\n",
              "\n",
              "    .dataframe thead th {\n",
              "        text-align: right;\n",
              "    }\n",
              "</style>\n",
              "<table border=\"1\" class=\"dataframe\">\n",
              "  <thead>\n",
              "    <tr style=\"text-align: right;\">\n",
              "      <th></th>\n",
              "      <th>artist</th>\n",
              "      <th>auth</th>\n",
              "      <th>firstName</th>\n",
              "      <th>gender</th>\n",
              "      <th>itemInSession</th>\n",
              "      <th>lastName</th>\n",
              "      <th>length</th>\n",
              "      <th>level</th>\n",
              "      <th>location</th>\n",
              "      <th>method</th>\n",
              "      <th>page</th>\n",
              "      <th>registration</th>\n",
              "      <th>sessionId</th>\n",
              "      <th>song</th>\n",
              "      <th>status</th>\n",
              "      <th>ts</th>\n",
              "      <th>userAgent</th>\n",
              "      <th>userId</th>\n",
              "    </tr>\n",
              "  </thead>\n",
              "  <tbody>\n",
              "    <tr>\n",
              "      <th>0</th>\n",
              "      <td>Martha Tilston</td>\n",
              "      <td>Logged In</td>\n",
              "      <td>Colin</td>\n",
              "      <td>M</td>\n",
              "      <td>50</td>\n",
              "      <td>Freeman</td>\n",
              "      <td>277.89016</td>\n",
              "      <td>paid</td>\n",
              "      <td>Bakersfield, CA</td>\n",
              "      <td>PUT</td>\n",
              "      <td>NextSong</td>\n",
              "      <td>1.538173e+12</td>\n",
              "      <td>29</td>\n",
              "      <td>Rockpools</td>\n",
              "      <td>200</td>\n",
              "      <td>1538352117000</td>\n",
              "      <td>Mozilla/5.0 (Windows NT 6.1; WOW64; rv:31.0) Gecko/20100101 Firefox/31.0</td>\n",
              "      <td>30</td>\n",
              "    </tr>\n",
              "    <tr>\n",
              "      <th>1</th>\n",
              "      <td>Five Iron Frenzy</td>\n",
              "      <td>Logged In</td>\n",
              "      <td>Micah</td>\n",
              "      <td>M</td>\n",
              "      <td>79</td>\n",
              "      <td>Long</td>\n",
              "      <td>236.09424</td>\n",
              "      <td>free</td>\n",
              "      <td>Boston-Cambridge-Newton, MA-NH</td>\n",
              "      <td>PUT</td>\n",
              "      <td>NextSong</td>\n",
              "      <td>1.538332e+12</td>\n",
              "      <td>8</td>\n",
              "      <td>Canada</td>\n",
              "      <td>200</td>\n",
              "      <td>1538352180000</td>\n",
              "      <td>\"Mozilla/5.0 (Windows NT 6.1; WOW64) AppleWebKit/537.36 (KHTML, like Gecko) Chrome/37.0.2062.103 Safari/537.36\"</td>\n",
              "      <td>9</td>\n",
              "    </tr>\n",
              "    <tr>\n",
              "      <th>2</th>\n",
              "      <td>Adam Lambert</td>\n",
              "      <td>Logged In</td>\n",
              "      <td>Colin</td>\n",
              "      <td>M</td>\n",
              "      <td>51</td>\n",
              "      <td>Freeman</td>\n",
              "      <td>282.82730</td>\n",
              "      <td>paid</td>\n",
              "      <td>Bakersfield, CA</td>\n",
              "      <td>PUT</td>\n",
              "      <td>NextSong</td>\n",
              "      <td>1.538173e+12</td>\n",
              "      <td>29</td>\n",
              "      <td>Time For Miracles</td>\n",
              "      <td>200</td>\n",
              "      <td>1538352394000</td>\n",
              "      <td>Mozilla/5.0 (Windows NT 6.1; WOW64; rv:31.0) Gecko/20100101 Firefox/31.0</td>\n",
              "      <td>30</td>\n",
              "    </tr>\n",
              "    <tr>\n",
              "      <th>3</th>\n",
              "      <td>Enigma</td>\n",
              "      <td>Logged In</td>\n",
              "      <td>Micah</td>\n",
              "      <td>M</td>\n",
              "      <td>80</td>\n",
              "      <td>Long</td>\n",
              "      <td>262.71302</td>\n",
              "      <td>free</td>\n",
              "      <td>Boston-Cambridge-Newton, MA-NH</td>\n",
              "      <td>PUT</td>\n",
              "      <td>NextSong</td>\n",
              "      <td>1.538332e+12</td>\n",
              "      <td>8</td>\n",
              "      <td>Knocking On Forbidden Doors</td>\n",
              "      <td>200</td>\n",
              "      <td>1538352416000</td>\n",
              "      <td>\"Mozilla/5.0 (Windows NT 6.1; WOW64) AppleWebKit/537.36 (KHTML, like Gecko) Chrome/37.0.2062.103 Safari/537.36\"</td>\n",
              "      <td>9</td>\n",
              "    </tr>\n",
              "    <tr>\n",
              "      <th>4</th>\n",
              "      <td>Daft Punk</td>\n",
              "      <td>Logged In</td>\n",
              "      <td>Colin</td>\n",
              "      <td>M</td>\n",
              "      <td>52</td>\n",
              "      <td>Freeman</td>\n",
              "      <td>223.60771</td>\n",
              "      <td>paid</td>\n",
              "      <td>Bakersfield, CA</td>\n",
              "      <td>PUT</td>\n",
              "      <td>NextSong</td>\n",
              "      <td>1.538173e+12</td>\n",
              "      <td>29</td>\n",
              "      <td>Harder Better Faster Stronger</td>\n",
              "      <td>200</td>\n",
              "      <td>1538352676000</td>\n",
              "      <td>Mozilla/5.0 (Windows NT 6.1; WOW64; rv:31.0) Gecko/20100101 Firefox/31.0</td>\n",
              "      <td>30</td>\n",
              "    </tr>\n",
              "  </tbody>\n",
              "</table>\n",
              "</div>\n",
              "    <div class=\"colab-df-buttons\">\n",
              "\n",
              "  <div class=\"colab-df-container\">\n",
              "    <button class=\"colab-df-convert\" onclick=\"convertToInteractive('df-e65c92a1-327f-4adf-bb27-779444a560f8')\"\n",
              "            title=\"Convert this dataframe to an interactive table.\"\n",
              "            style=\"display:none;\">\n",
              "\n",
              "  <svg xmlns=\"http://www.w3.org/2000/svg\" height=\"24px\" viewBox=\"0 -960 960 960\">\n",
              "    <path d=\"M120-120v-720h720v720H120Zm60-500h600v-160H180v160Zm220 220h160v-160H400v160Zm0 220h160v-160H400v160ZM180-400h160v-160H180v160Zm440 0h160v-160H620v160ZM180-180h160v-160H180v160Zm440 0h160v-160H620v160Z\"/>\n",
              "  </svg>\n",
              "    </button>\n",
              "\n",
              "  <style>\n",
              "    .colab-df-container {\n",
              "      display:flex;\n",
              "      gap: 12px;\n",
              "    }\n",
              "\n",
              "    .colab-df-convert {\n",
              "      background-color: #E8F0FE;\n",
              "      border: none;\n",
              "      border-radius: 50%;\n",
              "      cursor: pointer;\n",
              "      display: none;\n",
              "      fill: #1967D2;\n",
              "      height: 32px;\n",
              "      padding: 0 0 0 0;\n",
              "      width: 32px;\n",
              "    }\n",
              "\n",
              "    .colab-df-convert:hover {\n",
              "      background-color: #E2EBFA;\n",
              "      box-shadow: 0px 1px 2px rgba(60, 64, 67, 0.3), 0px 1px 3px 1px rgba(60, 64, 67, 0.15);\n",
              "      fill: #174EA6;\n",
              "    }\n",
              "\n",
              "    .colab-df-buttons div {\n",
              "      margin-bottom: 4px;\n",
              "    }\n",
              "\n",
              "    [theme=dark] .colab-df-convert {\n",
              "      background-color: #3B4455;\n",
              "      fill: #D2E3FC;\n",
              "    }\n",
              "\n",
              "    [theme=dark] .colab-df-convert:hover {\n",
              "      background-color: #434B5C;\n",
              "      box-shadow: 0px 1px 3px 1px rgba(0, 0, 0, 0.15);\n",
              "      filter: drop-shadow(0px 1px 2px rgba(0, 0, 0, 0.3));\n",
              "      fill: #FFFFFF;\n",
              "    }\n",
              "  </style>\n",
              "\n",
              "    <script>\n",
              "      const buttonEl =\n",
              "        document.querySelector('#df-e65c92a1-327f-4adf-bb27-779444a560f8 button.colab-df-convert');\n",
              "      buttonEl.style.display =\n",
              "        google.colab.kernel.accessAllowed ? 'block' : 'none';\n",
              "\n",
              "      async function convertToInteractive(key) {\n",
              "        const element = document.querySelector('#df-e65c92a1-327f-4adf-bb27-779444a560f8');\n",
              "        const dataTable =\n",
              "          await google.colab.kernel.invokeFunction('convertToInteractive',\n",
              "                                                    [key], {});\n",
              "        if (!dataTable) return;\n",
              "\n",
              "        const docLinkHtml = 'Like what you see? Visit the ' +\n",
              "          '<a target=\"_blank\" href=https://colab.research.google.com/notebooks/data_table.ipynb>data table notebook</a>'\n",
              "          + ' to learn more about interactive tables.';\n",
              "        element.innerHTML = '';\n",
              "        dataTable['output_type'] = 'display_data';\n",
              "        await google.colab.output.renderOutput(dataTable, element);\n",
              "        const docLink = document.createElement('div');\n",
              "        docLink.innerHTML = docLinkHtml;\n",
              "        element.appendChild(docLink);\n",
              "      }\n",
              "    </script>\n",
              "  </div>\n",
              "\n",
              "\n",
              "<div id=\"df-d5624b6f-ca3d-4ffc-84d7-84dbbda0a31c\">\n",
              "  <button class=\"colab-df-quickchart\" onclick=\"quickchart('df-d5624b6f-ca3d-4ffc-84d7-84dbbda0a31c')\"\n",
              "            title=\"Suggest charts\"\n",
              "            style=\"display:none;\">\n",
              "\n",
              "<svg xmlns=\"http://www.w3.org/2000/svg\" height=\"24px\"viewBox=\"0 0 24 24\"\n",
              "     width=\"24px\">\n",
              "    <g>\n",
              "        <path d=\"M19 3H5c-1.1 0-2 .9-2 2v14c0 1.1.9 2 2 2h14c1.1 0 2-.9 2-2V5c0-1.1-.9-2-2-2zM9 17H7v-7h2v7zm4 0h-2V7h2v10zm4 0h-2v-4h2v4z\"/>\n",
              "    </g>\n",
              "</svg>\n",
              "  </button>\n",
              "\n",
              "<style>\n",
              "  .colab-df-quickchart {\n",
              "      --bg-color: #E8F0FE;\n",
              "      --fill-color: #1967D2;\n",
              "      --hover-bg-color: #E2EBFA;\n",
              "      --hover-fill-color: #174EA6;\n",
              "      --disabled-fill-color: #AAA;\n",
              "      --disabled-bg-color: #DDD;\n",
              "  }\n",
              "\n",
              "  [theme=dark] .colab-df-quickchart {\n",
              "      --bg-color: #3B4455;\n",
              "      --fill-color: #D2E3FC;\n",
              "      --hover-bg-color: #434B5C;\n",
              "      --hover-fill-color: #FFFFFF;\n",
              "      --disabled-bg-color: #3B4455;\n",
              "      --disabled-fill-color: #666;\n",
              "  }\n",
              "\n",
              "  .colab-df-quickchart {\n",
              "    background-color: var(--bg-color);\n",
              "    border: none;\n",
              "    border-radius: 50%;\n",
              "    cursor: pointer;\n",
              "    display: none;\n",
              "    fill: var(--fill-color);\n",
              "    height: 32px;\n",
              "    padding: 0;\n",
              "    width: 32px;\n",
              "  }\n",
              "\n",
              "  .colab-df-quickchart:hover {\n",
              "    background-color: var(--hover-bg-color);\n",
              "    box-shadow: 0 1px 2px rgba(60, 64, 67, 0.3), 0 1px 3px 1px rgba(60, 64, 67, 0.15);\n",
              "    fill: var(--button-hover-fill-color);\n",
              "  }\n",
              "\n",
              "  .colab-df-quickchart-complete:disabled,\n",
              "  .colab-df-quickchart-complete:disabled:hover {\n",
              "    background-color: var(--disabled-bg-color);\n",
              "    fill: var(--disabled-fill-color);\n",
              "    box-shadow: none;\n",
              "  }\n",
              "\n",
              "  .colab-df-spinner {\n",
              "    border: 2px solid var(--fill-color);\n",
              "    border-color: transparent;\n",
              "    border-bottom-color: var(--fill-color);\n",
              "    animation:\n",
              "      spin 1s steps(1) infinite;\n",
              "  }\n",
              "\n",
              "  @keyframes spin {\n",
              "    0% {\n",
              "      border-color: transparent;\n",
              "      border-bottom-color: var(--fill-color);\n",
              "      border-left-color: var(--fill-color);\n",
              "    }\n",
              "    20% {\n",
              "      border-color: transparent;\n",
              "      border-left-color: var(--fill-color);\n",
              "      border-top-color: var(--fill-color);\n",
              "    }\n",
              "    30% {\n",
              "      border-color: transparent;\n",
              "      border-left-color: var(--fill-color);\n",
              "      border-top-color: var(--fill-color);\n",
              "      border-right-color: var(--fill-color);\n",
              "    }\n",
              "    40% {\n",
              "      border-color: transparent;\n",
              "      border-right-color: var(--fill-color);\n",
              "      border-top-color: var(--fill-color);\n",
              "    }\n",
              "    60% {\n",
              "      border-color: transparent;\n",
              "      border-right-color: var(--fill-color);\n",
              "    }\n",
              "    80% {\n",
              "      border-color: transparent;\n",
              "      border-right-color: var(--fill-color);\n",
              "      border-bottom-color: var(--fill-color);\n",
              "    }\n",
              "    90% {\n",
              "      border-color: transparent;\n",
              "      border-bottom-color: var(--fill-color);\n",
              "    }\n",
              "  }\n",
              "</style>\n",
              "\n",
              "  <script>\n",
              "    async function quickchart(key) {\n",
              "      const quickchartButtonEl =\n",
              "        document.querySelector('#' + key + ' button');\n",
              "      quickchartButtonEl.disabled = true;  // To prevent multiple clicks.\n",
              "      quickchartButtonEl.classList.add('colab-df-spinner');\n",
              "      try {\n",
              "        const charts = await google.colab.kernel.invokeFunction(\n",
              "            'suggestCharts', [key], {});\n",
              "      } catch (error) {\n",
              "        console.error('Error during call to suggestCharts:', error);\n",
              "      }\n",
              "      quickchartButtonEl.classList.remove('colab-df-spinner');\n",
              "      quickchartButtonEl.classList.add('colab-df-quickchart-complete');\n",
              "    }\n",
              "    (() => {\n",
              "      let quickchartButtonEl =\n",
              "        document.querySelector('#df-d5624b6f-ca3d-4ffc-84d7-84dbbda0a31c button');\n",
              "      quickchartButtonEl.style.display =\n",
              "        google.colab.kernel.accessAllowed ? 'block' : 'none';\n",
              "    })();\n",
              "  </script>\n",
              "</div>\n",
              "\n",
              "    </div>\n",
              "  </div>\n"
            ],
            "application/vnd.google.colaboratory.intrinsic+json": {
              "type": "dataframe",
              "summary": "{\n  \"name\": \"df\",\n  \"rows\": 5,\n  \"fields\": [\n    {\n      \"column\": \"artist\",\n      \"properties\": {\n        \"dtype\": \"string\",\n        \"num_unique_values\": 5,\n        \"samples\": [\n          \"Five Iron Frenzy\",\n          \"Daft Punk\",\n          \"Adam Lambert\"\n        ],\n        \"semantic_type\": \"\",\n        \"description\": \"\"\n      }\n    },\n    {\n      \"column\": \"auth\",\n      \"properties\": {\n        \"dtype\": \"category\",\n        \"num_unique_values\": 1,\n        \"samples\": [\n          \"Logged In\"\n        ],\n        \"semantic_type\": \"\",\n        \"description\": \"\"\n      }\n    },\n    {\n      \"column\": \"firstName\",\n      \"properties\": {\n        \"dtype\": \"category\",\n        \"num_unique_values\": 2,\n        \"samples\": [\n          \"Micah\"\n        ],\n        \"semantic_type\": \"\",\n        \"description\": \"\"\n      }\n    },\n    {\n      \"column\": \"gender\",\n      \"properties\": {\n        \"dtype\": \"category\",\n        \"num_unique_values\": 1,\n        \"samples\": [\n          \"M\"\n        ],\n        \"semantic_type\": \"\",\n        \"description\": \"\"\n      }\n    },\n    {\n      \"column\": \"itemInSession\",\n      \"properties\": {\n        \"dtype\": \"number\",\n        \"std\": 15,\n        \"min\": 50,\n        \"max\": 80,\n        \"num_unique_values\": 5,\n        \"samples\": [\n          79\n        ],\n        \"semantic_type\": \"\",\n        \"description\": \"\"\n      }\n    },\n    {\n      \"column\": \"lastName\",\n      \"properties\": {\n        \"dtype\": \"category\",\n        \"num_unique_values\": 2,\n        \"samples\": [\n          \"Long\"\n        ],\n        \"semantic_type\": \"\",\n        \"description\": \"\"\n      }\n    },\n    {\n      \"column\": \"length\",\n      \"properties\": {\n        \"dtype\": \"number\",\n        \"std\": 25.920479725097284,\n        \"min\": 223.60771,\n        \"max\": 282.8273,\n        \"num_unique_values\": 5,\n        \"samples\": [\n          236.09424\n        ],\n        \"semantic_type\": \"\",\n        \"description\": \"\"\n      }\n    },\n    {\n      \"column\": \"level\",\n      \"properties\": {\n        \"dtype\": \"category\",\n        \"num_unique_values\": 2,\n        \"samples\": [\n          \"free\"\n        ],\n        \"semantic_type\": \"\",\n        \"description\": \"\"\n      }\n    },\n    {\n      \"column\": \"location\",\n      \"properties\": {\n        \"dtype\": \"category\",\n        \"num_unique_values\": 2,\n        \"samples\": [\n          \"Boston-Cambridge-Newton, MA-NH\"\n        ],\n        \"semantic_type\": \"\",\n        \"description\": \"\"\n      }\n    },\n    {\n      \"column\": \"method\",\n      \"properties\": {\n        \"dtype\": \"category\",\n        \"num_unique_values\": 1,\n        \"samples\": [\n          \"PUT\"\n        ],\n        \"semantic_type\": \"\",\n        \"description\": \"\"\n      }\n    },\n    {\n      \"column\": \"page\",\n      \"properties\": {\n        \"dtype\": \"category\",\n        \"num_unique_values\": 1,\n        \"samples\": [\n          \"NextSong\"\n        ],\n        \"semantic_type\": \"\",\n        \"description\": \"\"\n      }\n    },\n    {\n      \"column\": \"registration\",\n      \"properties\": {\n        \"dtype\": \"number\",\n        \"std\": 86686953.73122764,\n        \"min\": 1538173362000.0,\n        \"max\": 1538331630000.0,\n        \"num_unique_values\": 2,\n        \"samples\": [\n          1538331630000.0\n        ],\n        \"semantic_type\": \"\",\n        \"description\": \"\"\n      }\n    },\n    {\n      \"column\": \"sessionId\",\n      \"properties\": {\n        \"dtype\": \"number\",\n        \"std\": 11,\n        \"min\": 8,\n        \"max\": 29,\n        \"num_unique_values\": 2,\n        \"samples\": [\n          8\n        ],\n        \"semantic_type\": \"\",\n        \"description\": \"\"\n      }\n    },\n    {\n      \"column\": \"song\",\n      \"properties\": {\n        \"dtype\": \"string\",\n        \"num_unique_values\": 5,\n        \"samples\": [\n          \"Canada\"\n        ],\n        \"semantic_type\": \"\",\n        \"description\": \"\"\n      }\n    },\n    {\n      \"column\": \"status\",\n      \"properties\": {\n        \"dtype\": \"number\",\n        \"std\": 0,\n        \"min\": 200,\n        \"max\": 200,\n        \"num_unique_values\": 1,\n        \"samples\": [\n          200\n        ],\n        \"semantic_type\": \"\",\n        \"description\": \"\"\n      }\n    },\n    {\n      \"column\": \"ts\",\n      \"properties\": {\n        \"dtype\": \"number\",\n        \"std\": 221099,\n        \"min\": 1538352117000,\n        \"max\": 1538352676000,\n        \"num_unique_values\": 5,\n        \"samples\": [\n          1538352180000\n        ],\n        \"semantic_type\": \"\",\n        \"description\": \"\"\n      }\n    },\n    {\n      \"column\": \"userAgent\",\n      \"properties\": {\n        \"dtype\": \"category\",\n        \"num_unique_values\": 2,\n        \"samples\": [\n          \"\\\"Mozilla/5.0 (Windows NT 6.1; WOW64) AppleWebKit/537.36 (KHTML, like Gecko) Chrome/37.0.2062.103 Safari/537.36\\\"\"\n        ],\n        \"semantic_type\": \"\",\n        \"description\": \"\"\n      }\n    },\n    {\n      \"column\": \"userId\",\n      \"properties\": {\n        \"dtype\": \"category\",\n        \"num_unique_values\": 2,\n        \"samples\": [\n          \"9\"\n        ],\n        \"semantic_type\": \"\",\n        \"description\": \"\"\n      }\n    }\n  ]\n}"
            }
          },
          "metadata": {},
          "execution_count": 13
        }
      ],
      "source": [
        "# print first 5 rows as pandas dataframe\n",
        "df.toPandas().head(5)"
      ]
    },
    {
      "cell_type": "code",
      "execution_count": 14,
      "metadata": {
        "colab": {
          "base_uri": "https://localhost:8080/"
        },
        "id": "LE5hemyjeh4O",
        "outputId": "582c2918-7b72-4484-d090-380518ff95ce"
      },
      "outputs": [
        {
          "output_type": "stream",
          "name": "stdout",
          "text": [
            "+-------+------------------+\n",
            "|summary|            artist|\n",
            "+-------+------------------+\n",
            "|  count|            228108|\n",
            "|   mean| 551.0852017937219|\n",
            "| stddev|1217.7693079161374|\n",
            "|    min|               !!!|\n",
            "|    max| ÃÂlafur Arnalds|\n",
            "+-------+------------------+\n",
            "\n"
          ]
        }
      ],
      "source": [
        "df.describe(['artist']).show()"
      ]
    },
    {
      "cell_type": "code",
      "execution_count": 15,
      "metadata": {
        "colab": {
          "base_uri": "https://localhost:8080/"
        },
        "id": "nHUjR9e8em0a",
        "outputId": "d2878119-0834-4394-ee01-3d23ac4150ab"
      },
      "outputs": [
        {
          "output_type": "stream",
          "name": "stdout",
          "text": [
            "+-------+----------+---------+------+------------------+--------+------------------+------+-----------------+\n",
            "|summary|      auth|firstName|gender|     itemInSession|lastName|            length| level|         location|\n",
            "+-------+----------+---------+------+------------------+--------+------------------+------+-----------------+\n",
            "|  count|    286500|   278154|278154|            286500|  278154|            228108|286500|           278154|\n",
            "|   mean|      NULL|     NULL|  NULL|114.41421291448516|    NULL|249.11718197783662|  NULL|             NULL|\n",
            "| stddev|      NULL|     NULL|  NULL|129.76726201141042|    NULL| 99.23517921058307|  NULL|             NULL|\n",
            "|    min| Cancelled| Adelaida|     F|                 0|   Adams|           0.78322|  free|       Albany, OR|\n",
            "|    max|Logged Out|   Zyonna|     M|              1321|  Wright|        3024.66567|  paid|Winston-Salem, NC|\n",
            "+-------+----------+---------+------+------------------+--------+------------------+------+-----------------+\n",
            "\n"
          ]
        }
      ],
      "source": [
        "df.describe(['auth', 'firstName', 'gender', 'itemInSession', 'lastName', 'length', 'level', 'location']).show()"
      ]
    },
    {
      "cell_type": "code",
      "execution_count": 16,
      "metadata": {
        "colab": {
          "base_uri": "https://localhost:8080/"
        },
        "id": "HXEXy5AsetdP",
        "outputId": "717822ad-dc77-4c81-dd75-192d4fdc8711"
      },
      "outputs": [
        {
          "output_type": "stream",
          "name": "stdout",
          "text": [
            "+----------+------+\n",
            "|      auth| count|\n",
            "+----------+------+\n",
            "| Logged In|278102|\n",
            "|Logged Out|  8249|\n",
            "|     Guest|    97|\n",
            "| Cancelled|    52|\n",
            "+----------+------+\n",
            "\n"
          ]
        }
      ],
      "source": [
        "df.groupBy('auth').count().sort(desc('count')).show()"
      ]
    },
    {
      "cell_type": "code",
      "execution_count": 17,
      "metadata": {
        "colab": {
          "base_uri": "https://localhost:8080/"
        },
        "id": "Y6WYs8tWexog",
        "outputId": "9c161b5f-ef23-4e19-e6a5-76e1edb1f45d"
      },
      "outputs": [
        {
          "output_type": "stream",
          "name": "stdout",
          "text": [
            "+------+------+\n",
            "|gender| count|\n",
            "+------+------+\n",
            "|     F|154578|\n",
            "|     M|123576|\n",
            "|  NULL|  8346|\n",
            "+------+------+\n",
            "\n"
          ]
        }
      ],
      "source": [
        "df.groupBy('gender').count().sort(desc('count')).show()\n"
      ]
    },
    {
      "cell_type": "code",
      "execution_count": 18,
      "metadata": {
        "colab": {
          "base_uri": "https://localhost:8080/"
        },
        "id": "0qpz_kneey2b",
        "outputId": "8395786e-0d92-44ab-d113-2f9dcc42bdd0"
      },
      "outputs": [
        {
          "output_type": "stream",
          "name": "stdout",
          "text": [
            "+-----+------+\n",
            "|level| count|\n",
            "+-----+------+\n",
            "| paid|228162|\n",
            "| free| 58338|\n",
            "+-----+------+\n",
            "\n"
          ]
        }
      ],
      "source": [
        "df.groupBy('level').count().sort(desc('count')).show()\n"
      ]
    },
    {
      "cell_type": "code",
      "execution_count": 19,
      "metadata": {
        "colab": {
          "base_uri": "https://localhost:8080/"
        },
        "id": "vLIyx_ZJfI93",
        "outputId": "42b43560-6052-4622-f0a0-21c0d81568a5"
      },
      "outputs": [
        {
          "output_type": "stream",
          "name": "stdout",
          "text": [
            "+-------+------+-------+--------------------+-----------------+\n",
            "|summary|method|   page|        registration|        sessionId|\n",
            "+-------+------+-------+--------------------+-----------------+\n",
            "|  count|286500| 286500|              278154|           286500|\n",
            "|   mean|  NULL|   NULL|1.535358834085650...|1041.526554973822|\n",
            "| stddev|  NULL|   NULL|  3.29132161632862E9|726.7762634630783|\n",
            "|    min|   GET|  About|       1521380675000|                1|\n",
            "|    max|   PUT|Upgrade|       1543247354000|             2474|\n",
            "+-------+------+-------+--------------------+-----------------+\n",
            "\n"
          ]
        }
      ],
      "source": [
        "df.describe(['method', 'page', 'registration', 'sessionId']).show()"
      ]
    },
    {
      "cell_type": "code",
      "execution_count": 20,
      "metadata": {
        "colab": {
          "base_uri": "https://localhost:8080/"
        },
        "id": "uvzsA1sOfTRi",
        "outputId": "73b83a29-ff1e-4bab-84e5-4fa3edd5a7df"
      },
      "outputs": [
        {
          "output_type": "stream",
          "name": "stdout",
          "text": [
            "+------+------+\n",
            "|method| count|\n",
            "+------+------+\n",
            "|   PUT|261064|\n",
            "|   GET| 25436|\n",
            "+------+------+\n",
            "\n"
          ]
        }
      ],
      "source": [
        "df.groupBy('method').count().sort(desc('count')).show()"
      ]
    },
    {
      "cell_type": "code",
      "execution_count": 21,
      "metadata": {
        "colab": {
          "base_uri": "https://localhost:8080/"
        },
        "id": "HNl6lFHMfXO1",
        "outputId": "62b5ca03-8454-4b82-f14b-baeb822c7456"
      },
      "outputs": [
        {
          "output_type": "stream",
          "name": "stdout",
          "text": [
            "+-------------------------+------+\n",
            "|page                     |count |\n",
            "+-------------------------+------+\n",
            "|NextSong                 |228108|\n",
            "|Home                     |14457 |\n",
            "|Thumbs Up                |12551 |\n",
            "|Add to Playlist          |6526  |\n",
            "|Add Friend               |4277  |\n",
            "|Roll Advert              |3933  |\n",
            "|Login                    |3241  |\n",
            "|Logout                   |3226  |\n",
            "|Thumbs Down              |2546  |\n",
            "|Downgrade                |2055  |\n",
            "|Help                     |1726  |\n",
            "|Settings                 |1514  |\n",
            "|About                    |924   |\n",
            "|Upgrade                  |499   |\n",
            "|Save Settings            |310   |\n",
            "|Error                    |258   |\n",
            "|Submit Upgrade           |159   |\n",
            "|Submit Downgrade         |63    |\n",
            "|Cancel                   |52    |\n",
            "|Cancellation Confirmation|52    |\n",
            "|Register                 |18    |\n",
            "|Submit Registration      |5     |\n",
            "+-------------------------+------+\n",
            "\n"
          ]
        }
      ],
      "source": [
        "df.groupBy('page').count().sort(desc('count')).show(30, truncate=False)"
      ]
    },
    {
      "cell_type": "code",
      "execution_count": 22,
      "metadata": {
        "colab": {
          "base_uri": "https://localhost:8080/"
        },
        "id": "m7knyDDEfc9J",
        "outputId": "8df00abb-cebd-40be-888f-cc8435fc33ef"
      },
      "outputs": [
        {
          "output_type": "stream",
          "name": "stdout",
          "text": [
            "+-------+--------------------+\n",
            "|summary|                song|\n",
            "+-------+--------------------+\n",
            "|  count|              228108|\n",
            "|   mean|            Infinity|\n",
            "| stddev|                 NaN|\n",
            "|    min|\u001cÃÂg ÃÂtti Gr...|\n",
            "|    max|ÃÂau hafa slopp...|\n",
            "+-------+--------------------+\n",
            "\n"
          ]
        }
      ],
      "source": [
        "df.describe(['song']).show()"
      ]
    },
    {
      "cell_type": "code",
      "execution_count": 23,
      "metadata": {
        "colab": {
          "base_uri": "https://localhost:8080/"
        },
        "id": "O-07-3sxfjP3",
        "outputId": "e238473b-4b7b-4e41-cd93-d8e074c1676e"
      },
      "outputs": [
        {
          "output_type": "stream",
          "name": "stdout",
          "text": [
            "+-------+------------------+--------------------+--------------------+------------------+\n",
            "|summary|            status|                  ts|           userAgent|            userId|\n",
            "+-------+------------------+--------------------+--------------------+------------------+\n",
            "|  count|            286500|              286500|              278154|            286500|\n",
            "|   mean|210.05459685863875|1.540956889810432E12|                NULL| 59682.02278593872|\n",
            "| stddev|31.505078488422217| 1.507543960818767E9|                NULL|109091.94999910527|\n",
            "|    min|               200|       1538352117000|\"Mozilla/5.0 (Mac...|                  |\n",
            "|    max|               404|       1543799476000|Mozilla/5.0 (comp...|                99|\n",
            "+-------+------------------+--------------------+--------------------+------------------+\n",
            "\n"
          ]
        }
      ],
      "source": [
        "df.describe(['status', 'ts', 'userAgent', 'userId']).show()"
      ]
    },
    {
      "cell_type": "code",
      "execution_count": 24,
      "metadata": {
        "colab": {
          "base_uri": "https://localhost:8080/"
        },
        "id": "uhOXGanafqmo",
        "outputId": "23f7b4c0-53fc-47a6-f833-6a564c70fccf"
      },
      "outputs": [
        {
          "output_type": "stream",
          "name": "stdout",
          "text": [
            "+------+------+\n",
            "|status| count|\n",
            "+------+------+\n",
            "|   307| 26430|\n",
            "|   404|   258|\n",
            "|   200|259812|\n",
            "+------+------+\n",
            "\n"
          ]
        }
      ],
      "source": [
        "df.groupBy('status').count().show()"
      ]
    },
    {
      "cell_type": "code",
      "execution_count": 25,
      "metadata": {
        "colab": {
          "base_uri": "https://localhost:8080/"
        },
        "id": "G9R0BwKMfxQu",
        "outputId": "0ff4fb37-d323-4c50-9a16-0ded64d113e0"
      },
      "outputs": [
        {
          "output_type": "stream",
          "name": "stdout",
          "text": [
            "+------+----+---------+------+-------------+--------+------+-----+--------+------+----+------------+---------+-----+------+---+---------+------+\n",
            "|artist|auth|firstName|gender|itemInSession|lastName|length|level|location|method|page|registration|sessionId| song|status| ts|userAgent|userId|\n",
            "+------+----+---------+------+-------------+--------+------+-----+--------+------+----+------------+---------+-----+------+---+---------+------+\n",
            "| 58392|   0|     8346|  8346|            0|    8346| 58392|    0|    8346|     0|   0|        8346|        0|58392|     0|  0|     8346|     0|\n",
            "+------+----+---------+------+-------------+--------+------+-----+--------+------+----+------------+---------+-----+------+---+---------+------+\n",
            "\n"
          ]
        }
      ],
      "source": [
        "# find NaNs and Nulls in dataframe\n",
        "# source: https://stackoverflow.com/questions/44627386/how-to-find-count-of-null-and-nan-values-for-each-column-in-a-pyspark-dataframe\n",
        "df.select([count(when(isnan(c) | col(c).isNull(), c)).alias(c) for c in df.columns]).show()"
      ]
    },
    {
      "cell_type": "code",
      "execution_count": 26,
      "metadata": {
        "colab": {
          "base_uri": "https://localhost:8080/"
        },
        "id": "HosfMcjUf7YR",
        "outputId": "e07ead74-3172-4114-85a7-111584b27a75"
      },
      "outputs": [
        {
          "output_type": "stream",
          "name": "stdout",
          "text": [
            "+------+----+---------+------+-------------+--------+------+-----+--------+------+----+------------+---------+----+------+---+---------+------+\n",
            "|artist|auth|firstName|gender|itemInSession|lastName|length|level|location|method|page|registration|sessionId|song|status| ts|userAgent|userId|\n",
            "+------+----+---------+------+-------------+--------+------+-----+--------+------+----+------------+---------+----+------+---+---------+------+\n",
            "|     0|   0|        0|     0|            0|       0|     0|    0|       0|     0|   0|           0|        0|   0|     0|  0|        0|  8346|\n",
            "+------+----+---------+------+-------------+--------+------+-----+--------+------+----+------------+---------+----+------+---+---------+------+\n",
            "\n"
          ]
        }
      ],
      "source": [
        "# find empty strings in dataframe\n",
        "df.select([count(when(col(c) == '', c)).alias(c) for c in df.columns]).show()"
      ]
    },
    {
      "cell_type": "code",
      "execution_count": 27,
      "metadata": {
        "colab": {
          "base_uri": "https://localhost:8080/",
          "height": 1000
        },
        "id": "x8yFrAY7f9av",
        "outputId": "1f7043a7-7616-4b63-e255-4504a5191bd9"
      },
      "outputs": [
        {
          "output_type": "execute_result",
          "data": {
            "text/plain": [
              "   artist        auth firstName gender  itemInSession lastName  length level location method   page  registration  sessionId  song  status             ts userAgent userId\n",
              "0    None  Logged Out      None   None            100     None     NaN  free     None    GET   Home           NaN          8  None     200  1538355745000      None       \n",
              "1    None  Logged Out      None   None            101     None     NaN  free     None    GET   Help           NaN          8  None     200  1538355807000      None       \n",
              "2    None  Logged Out      None   None            102     None     NaN  free     None    GET   Home           NaN          8  None     200  1538355841000      None       \n",
              "3    None  Logged Out      None   None            103     None     NaN  free     None    PUT  Login           NaN          8  None     307  1538355842000      None       \n",
              "4    None  Logged Out      None   None              2     None     NaN  free     None    GET   Home           NaN        240  None     200  1538356678000      None       \n",
              "5    None  Logged Out      None   None              3     None     NaN  free     None    PUT  Login           NaN        240  None     307  1538356679000      None       \n",
              "6    None  Logged Out      None   None              0     None     NaN  free     None    PUT  Login           NaN        100  None     307  1538358102000      None       \n",
              "7    None  Logged Out      None   None              0     None     NaN  free     None    PUT  Login           NaN        241  None     307  1538360117000      None       \n",
              "8    None  Logged Out      None   None             14     None     NaN  free     None    GET   Home           NaN        187  None     200  1538361527000      None       \n",
              "9    None  Logged Out      None   None             15     None     NaN  free     None    PUT  Login           NaN        187  None     307  1538361528000      None       \n",
              "10   None  Logged Out      None   None             21     None     NaN  free     None    GET   Home           NaN        187  None     200  1538362007000      None       \n",
              "11   None  Logged Out      None   None             22     None     NaN  free     None    GET   Home           NaN        187  None     200  1538362095000      None       \n",
              "12   None  Logged Out      None   None             23     None     NaN  free     None    PUT  Login           NaN        187  None     307  1538362096000      None       \n",
              "13   None  Logged Out      None   None              0     None     NaN  free     None    GET   Home           NaN         27  None     200  1538363488000      None       \n",
              "14   None  Logged Out      None   None              1     None     NaN  free     None    GET  About           NaN         27  None     200  1538363494000      None       \n",
              "15   None  Logged Out      None   None              2     None     NaN  free     None    GET   Home           NaN         27  None     200  1538363503000      None       \n",
              "16   None  Logged Out      None   None             38     None     NaN  free     None    GET   Home           NaN        187  None     200  1538364254000      None       \n",
              "17   None  Logged Out      None   None             39     None     NaN  free     None    PUT  Login           NaN        187  None     307  1538364255000      None       \n",
              "18   None  Logged Out      None   None              0     None     NaN  free     None    GET   Home           NaN        257  None     200  1538364750000      None       \n",
              "19   None  Logged Out      None   None             47     None     NaN  free     None    GET   Home           NaN        100  None     200  1538370681000      None       "
            ],
            "text/html": [
              "\n",
              "  <div id=\"df-63a5643e-e5f2-4c59-af7d-2d1194f9632d\" class=\"colab-df-container\">\n",
              "    <div>\n",
              "<style scoped>\n",
              "    .dataframe tbody tr th:only-of-type {\n",
              "        vertical-align: middle;\n",
              "    }\n",
              "\n",
              "    .dataframe tbody tr th {\n",
              "        vertical-align: top;\n",
              "    }\n",
              "\n",
              "    .dataframe thead th {\n",
              "        text-align: right;\n",
              "    }\n",
              "</style>\n",
              "<table border=\"1\" class=\"dataframe\">\n",
              "  <thead>\n",
              "    <tr style=\"text-align: right;\">\n",
              "      <th></th>\n",
              "      <th>artist</th>\n",
              "      <th>auth</th>\n",
              "      <th>firstName</th>\n",
              "      <th>gender</th>\n",
              "      <th>itemInSession</th>\n",
              "      <th>lastName</th>\n",
              "      <th>length</th>\n",
              "      <th>level</th>\n",
              "      <th>location</th>\n",
              "      <th>method</th>\n",
              "      <th>page</th>\n",
              "      <th>registration</th>\n",
              "      <th>sessionId</th>\n",
              "      <th>song</th>\n",
              "      <th>status</th>\n",
              "      <th>ts</th>\n",
              "      <th>userAgent</th>\n",
              "      <th>userId</th>\n",
              "    </tr>\n",
              "  </thead>\n",
              "  <tbody>\n",
              "    <tr>\n",
              "      <th>0</th>\n",
              "      <td>None</td>\n",
              "      <td>Logged Out</td>\n",
              "      <td>None</td>\n",
              "      <td>None</td>\n",
              "      <td>100</td>\n",
              "      <td>None</td>\n",
              "      <td>NaN</td>\n",
              "      <td>free</td>\n",
              "      <td>None</td>\n",
              "      <td>GET</td>\n",
              "      <td>Home</td>\n",
              "      <td>NaN</td>\n",
              "      <td>8</td>\n",
              "      <td>None</td>\n",
              "      <td>200</td>\n",
              "      <td>1538355745000</td>\n",
              "      <td>None</td>\n",
              "      <td></td>\n",
              "    </tr>\n",
              "    <tr>\n",
              "      <th>1</th>\n",
              "      <td>None</td>\n",
              "      <td>Logged Out</td>\n",
              "      <td>None</td>\n",
              "      <td>None</td>\n",
              "      <td>101</td>\n",
              "      <td>None</td>\n",
              "      <td>NaN</td>\n",
              "      <td>free</td>\n",
              "      <td>None</td>\n",
              "      <td>GET</td>\n",
              "      <td>Help</td>\n",
              "      <td>NaN</td>\n",
              "      <td>8</td>\n",
              "      <td>None</td>\n",
              "      <td>200</td>\n",
              "      <td>1538355807000</td>\n",
              "      <td>None</td>\n",
              "      <td></td>\n",
              "    </tr>\n",
              "    <tr>\n",
              "      <th>2</th>\n",
              "      <td>None</td>\n",
              "      <td>Logged Out</td>\n",
              "      <td>None</td>\n",
              "      <td>None</td>\n",
              "      <td>102</td>\n",
              "      <td>None</td>\n",
              "      <td>NaN</td>\n",
              "      <td>free</td>\n",
              "      <td>None</td>\n",
              "      <td>GET</td>\n",
              "      <td>Home</td>\n",
              "      <td>NaN</td>\n",
              "      <td>8</td>\n",
              "      <td>None</td>\n",
              "      <td>200</td>\n",
              "      <td>1538355841000</td>\n",
              "      <td>None</td>\n",
              "      <td></td>\n",
              "    </tr>\n",
              "    <tr>\n",
              "      <th>3</th>\n",
              "      <td>None</td>\n",
              "      <td>Logged Out</td>\n",
              "      <td>None</td>\n",
              "      <td>None</td>\n",
              "      <td>103</td>\n",
              "      <td>None</td>\n",
              "      <td>NaN</td>\n",
              "      <td>free</td>\n",
              "      <td>None</td>\n",
              "      <td>PUT</td>\n",
              "      <td>Login</td>\n",
              "      <td>NaN</td>\n",
              "      <td>8</td>\n",
              "      <td>None</td>\n",
              "      <td>307</td>\n",
              "      <td>1538355842000</td>\n",
              "      <td>None</td>\n",
              "      <td></td>\n",
              "    </tr>\n",
              "    <tr>\n",
              "      <th>4</th>\n",
              "      <td>None</td>\n",
              "      <td>Logged Out</td>\n",
              "      <td>None</td>\n",
              "      <td>None</td>\n",
              "      <td>2</td>\n",
              "      <td>None</td>\n",
              "      <td>NaN</td>\n",
              "      <td>free</td>\n",
              "      <td>None</td>\n",
              "      <td>GET</td>\n",
              "      <td>Home</td>\n",
              "      <td>NaN</td>\n",
              "      <td>240</td>\n",
              "      <td>None</td>\n",
              "      <td>200</td>\n",
              "      <td>1538356678000</td>\n",
              "      <td>None</td>\n",
              "      <td></td>\n",
              "    </tr>\n",
              "    <tr>\n",
              "      <th>5</th>\n",
              "      <td>None</td>\n",
              "      <td>Logged Out</td>\n",
              "      <td>None</td>\n",
              "      <td>None</td>\n",
              "      <td>3</td>\n",
              "      <td>None</td>\n",
              "      <td>NaN</td>\n",
              "      <td>free</td>\n",
              "      <td>None</td>\n",
              "      <td>PUT</td>\n",
              "      <td>Login</td>\n",
              "      <td>NaN</td>\n",
              "      <td>240</td>\n",
              "      <td>None</td>\n",
              "      <td>307</td>\n",
              "      <td>1538356679000</td>\n",
              "      <td>None</td>\n",
              "      <td></td>\n",
              "    </tr>\n",
              "    <tr>\n",
              "      <th>6</th>\n",
              "      <td>None</td>\n",
              "      <td>Logged Out</td>\n",
              "      <td>None</td>\n",
              "      <td>None</td>\n",
              "      <td>0</td>\n",
              "      <td>None</td>\n",
              "      <td>NaN</td>\n",
              "      <td>free</td>\n",
              "      <td>None</td>\n",
              "      <td>PUT</td>\n",
              "      <td>Login</td>\n",
              "      <td>NaN</td>\n",
              "      <td>100</td>\n",
              "      <td>None</td>\n",
              "      <td>307</td>\n",
              "      <td>1538358102000</td>\n",
              "      <td>None</td>\n",
              "      <td></td>\n",
              "    </tr>\n",
              "    <tr>\n",
              "      <th>7</th>\n",
              "      <td>None</td>\n",
              "      <td>Logged Out</td>\n",
              "      <td>None</td>\n",
              "      <td>None</td>\n",
              "      <td>0</td>\n",
              "      <td>None</td>\n",
              "      <td>NaN</td>\n",
              "      <td>free</td>\n",
              "      <td>None</td>\n",
              "      <td>PUT</td>\n",
              "      <td>Login</td>\n",
              "      <td>NaN</td>\n",
              "      <td>241</td>\n",
              "      <td>None</td>\n",
              "      <td>307</td>\n",
              "      <td>1538360117000</td>\n",
              "      <td>None</td>\n",
              "      <td></td>\n",
              "    </tr>\n",
              "    <tr>\n",
              "      <th>8</th>\n",
              "      <td>None</td>\n",
              "      <td>Logged Out</td>\n",
              "      <td>None</td>\n",
              "      <td>None</td>\n",
              "      <td>14</td>\n",
              "      <td>None</td>\n",
              "      <td>NaN</td>\n",
              "      <td>free</td>\n",
              "      <td>None</td>\n",
              "      <td>GET</td>\n",
              "      <td>Home</td>\n",
              "      <td>NaN</td>\n",
              "      <td>187</td>\n",
              "      <td>None</td>\n",
              "      <td>200</td>\n",
              "      <td>1538361527000</td>\n",
              "      <td>None</td>\n",
              "      <td></td>\n",
              "    </tr>\n",
              "    <tr>\n",
              "      <th>9</th>\n",
              "      <td>None</td>\n",
              "      <td>Logged Out</td>\n",
              "      <td>None</td>\n",
              "      <td>None</td>\n",
              "      <td>15</td>\n",
              "      <td>None</td>\n",
              "      <td>NaN</td>\n",
              "      <td>free</td>\n",
              "      <td>None</td>\n",
              "      <td>PUT</td>\n",
              "      <td>Login</td>\n",
              "      <td>NaN</td>\n",
              "      <td>187</td>\n",
              "      <td>None</td>\n",
              "      <td>307</td>\n",
              "      <td>1538361528000</td>\n",
              "      <td>None</td>\n",
              "      <td></td>\n",
              "    </tr>\n",
              "    <tr>\n",
              "      <th>10</th>\n",
              "      <td>None</td>\n",
              "      <td>Logged Out</td>\n",
              "      <td>None</td>\n",
              "      <td>None</td>\n",
              "      <td>21</td>\n",
              "      <td>None</td>\n",
              "      <td>NaN</td>\n",
              "      <td>free</td>\n",
              "      <td>None</td>\n",
              "      <td>GET</td>\n",
              "      <td>Home</td>\n",
              "      <td>NaN</td>\n",
              "      <td>187</td>\n",
              "      <td>None</td>\n",
              "      <td>200</td>\n",
              "      <td>1538362007000</td>\n",
              "      <td>None</td>\n",
              "      <td></td>\n",
              "    </tr>\n",
              "    <tr>\n",
              "      <th>11</th>\n",
              "      <td>None</td>\n",
              "      <td>Logged Out</td>\n",
              "      <td>None</td>\n",
              "      <td>None</td>\n",
              "      <td>22</td>\n",
              "      <td>None</td>\n",
              "      <td>NaN</td>\n",
              "      <td>free</td>\n",
              "      <td>None</td>\n",
              "      <td>GET</td>\n",
              "      <td>Home</td>\n",
              "      <td>NaN</td>\n",
              "      <td>187</td>\n",
              "      <td>None</td>\n",
              "      <td>200</td>\n",
              "      <td>1538362095000</td>\n",
              "      <td>None</td>\n",
              "      <td></td>\n",
              "    </tr>\n",
              "    <tr>\n",
              "      <th>12</th>\n",
              "      <td>None</td>\n",
              "      <td>Logged Out</td>\n",
              "      <td>None</td>\n",
              "      <td>None</td>\n",
              "      <td>23</td>\n",
              "      <td>None</td>\n",
              "      <td>NaN</td>\n",
              "      <td>free</td>\n",
              "      <td>None</td>\n",
              "      <td>PUT</td>\n",
              "      <td>Login</td>\n",
              "      <td>NaN</td>\n",
              "      <td>187</td>\n",
              "      <td>None</td>\n",
              "      <td>307</td>\n",
              "      <td>1538362096000</td>\n",
              "      <td>None</td>\n",
              "      <td></td>\n",
              "    </tr>\n",
              "    <tr>\n",
              "      <th>13</th>\n",
              "      <td>None</td>\n",
              "      <td>Logged Out</td>\n",
              "      <td>None</td>\n",
              "      <td>None</td>\n",
              "      <td>0</td>\n",
              "      <td>None</td>\n",
              "      <td>NaN</td>\n",
              "      <td>free</td>\n",
              "      <td>None</td>\n",
              "      <td>GET</td>\n",
              "      <td>Home</td>\n",
              "      <td>NaN</td>\n",
              "      <td>27</td>\n",
              "      <td>None</td>\n",
              "      <td>200</td>\n",
              "      <td>1538363488000</td>\n",
              "      <td>None</td>\n",
              "      <td></td>\n",
              "    </tr>\n",
              "    <tr>\n",
              "      <th>14</th>\n",
              "      <td>None</td>\n",
              "      <td>Logged Out</td>\n",
              "      <td>None</td>\n",
              "      <td>None</td>\n",
              "      <td>1</td>\n",
              "      <td>None</td>\n",
              "      <td>NaN</td>\n",
              "      <td>free</td>\n",
              "      <td>None</td>\n",
              "      <td>GET</td>\n",
              "      <td>About</td>\n",
              "      <td>NaN</td>\n",
              "      <td>27</td>\n",
              "      <td>None</td>\n",
              "      <td>200</td>\n",
              "      <td>1538363494000</td>\n",
              "      <td>None</td>\n",
              "      <td></td>\n",
              "    </tr>\n",
              "    <tr>\n",
              "      <th>15</th>\n",
              "      <td>None</td>\n",
              "      <td>Logged Out</td>\n",
              "      <td>None</td>\n",
              "      <td>None</td>\n",
              "      <td>2</td>\n",
              "      <td>None</td>\n",
              "      <td>NaN</td>\n",
              "      <td>free</td>\n",
              "      <td>None</td>\n",
              "      <td>GET</td>\n",
              "      <td>Home</td>\n",
              "      <td>NaN</td>\n",
              "      <td>27</td>\n",
              "      <td>None</td>\n",
              "      <td>200</td>\n",
              "      <td>1538363503000</td>\n",
              "      <td>None</td>\n",
              "      <td></td>\n",
              "    </tr>\n",
              "    <tr>\n",
              "      <th>16</th>\n",
              "      <td>None</td>\n",
              "      <td>Logged Out</td>\n",
              "      <td>None</td>\n",
              "      <td>None</td>\n",
              "      <td>38</td>\n",
              "      <td>None</td>\n",
              "      <td>NaN</td>\n",
              "      <td>free</td>\n",
              "      <td>None</td>\n",
              "      <td>GET</td>\n",
              "      <td>Home</td>\n",
              "      <td>NaN</td>\n",
              "      <td>187</td>\n",
              "      <td>None</td>\n",
              "      <td>200</td>\n",
              "      <td>1538364254000</td>\n",
              "      <td>None</td>\n",
              "      <td></td>\n",
              "    </tr>\n",
              "    <tr>\n",
              "      <th>17</th>\n",
              "      <td>None</td>\n",
              "      <td>Logged Out</td>\n",
              "      <td>None</td>\n",
              "      <td>None</td>\n",
              "      <td>39</td>\n",
              "      <td>None</td>\n",
              "      <td>NaN</td>\n",
              "      <td>free</td>\n",
              "      <td>None</td>\n",
              "      <td>PUT</td>\n",
              "      <td>Login</td>\n",
              "      <td>NaN</td>\n",
              "      <td>187</td>\n",
              "      <td>None</td>\n",
              "      <td>307</td>\n",
              "      <td>1538364255000</td>\n",
              "      <td>None</td>\n",
              "      <td></td>\n",
              "    </tr>\n",
              "    <tr>\n",
              "      <th>18</th>\n",
              "      <td>None</td>\n",
              "      <td>Logged Out</td>\n",
              "      <td>None</td>\n",
              "      <td>None</td>\n",
              "      <td>0</td>\n",
              "      <td>None</td>\n",
              "      <td>NaN</td>\n",
              "      <td>free</td>\n",
              "      <td>None</td>\n",
              "      <td>GET</td>\n",
              "      <td>Home</td>\n",
              "      <td>NaN</td>\n",
              "      <td>257</td>\n",
              "      <td>None</td>\n",
              "      <td>200</td>\n",
              "      <td>1538364750000</td>\n",
              "      <td>None</td>\n",
              "      <td></td>\n",
              "    </tr>\n",
              "    <tr>\n",
              "      <th>19</th>\n",
              "      <td>None</td>\n",
              "      <td>Logged Out</td>\n",
              "      <td>None</td>\n",
              "      <td>None</td>\n",
              "      <td>47</td>\n",
              "      <td>None</td>\n",
              "      <td>NaN</td>\n",
              "      <td>free</td>\n",
              "      <td>None</td>\n",
              "      <td>GET</td>\n",
              "      <td>Home</td>\n",
              "      <td>NaN</td>\n",
              "      <td>100</td>\n",
              "      <td>None</td>\n",
              "      <td>200</td>\n",
              "      <td>1538370681000</td>\n",
              "      <td>None</td>\n",
              "      <td></td>\n",
              "    </tr>\n",
              "  </tbody>\n",
              "</table>\n",
              "</div>\n",
              "    <div class=\"colab-df-buttons\">\n",
              "\n",
              "  <div class=\"colab-df-container\">\n",
              "    <button class=\"colab-df-convert\" onclick=\"convertToInteractive('df-63a5643e-e5f2-4c59-af7d-2d1194f9632d')\"\n",
              "            title=\"Convert this dataframe to an interactive table.\"\n",
              "            style=\"display:none;\">\n",
              "\n",
              "  <svg xmlns=\"http://www.w3.org/2000/svg\" height=\"24px\" viewBox=\"0 -960 960 960\">\n",
              "    <path d=\"M120-120v-720h720v720H120Zm60-500h600v-160H180v160Zm220 220h160v-160H400v160Zm0 220h160v-160H400v160ZM180-400h160v-160H180v160Zm440 0h160v-160H620v160ZM180-180h160v-160H180v160Zm440 0h160v-160H620v160Z\"/>\n",
              "  </svg>\n",
              "    </button>\n",
              "\n",
              "  <style>\n",
              "    .colab-df-container {\n",
              "      display:flex;\n",
              "      gap: 12px;\n",
              "    }\n",
              "\n",
              "    .colab-df-convert {\n",
              "      background-color: #E8F0FE;\n",
              "      border: none;\n",
              "      border-radius: 50%;\n",
              "      cursor: pointer;\n",
              "      display: none;\n",
              "      fill: #1967D2;\n",
              "      height: 32px;\n",
              "      padding: 0 0 0 0;\n",
              "      width: 32px;\n",
              "    }\n",
              "\n",
              "    .colab-df-convert:hover {\n",
              "      background-color: #E2EBFA;\n",
              "      box-shadow: 0px 1px 2px rgba(60, 64, 67, 0.3), 0px 1px 3px 1px rgba(60, 64, 67, 0.15);\n",
              "      fill: #174EA6;\n",
              "    }\n",
              "\n",
              "    .colab-df-buttons div {\n",
              "      margin-bottom: 4px;\n",
              "    }\n",
              "\n",
              "    [theme=dark] .colab-df-convert {\n",
              "      background-color: #3B4455;\n",
              "      fill: #D2E3FC;\n",
              "    }\n",
              "\n",
              "    [theme=dark] .colab-df-convert:hover {\n",
              "      background-color: #434B5C;\n",
              "      box-shadow: 0px 1px 3px 1px rgba(0, 0, 0, 0.15);\n",
              "      filter: drop-shadow(0px 1px 2px rgba(0, 0, 0, 0.3));\n",
              "      fill: #FFFFFF;\n",
              "    }\n",
              "  </style>\n",
              "\n",
              "    <script>\n",
              "      const buttonEl =\n",
              "        document.querySelector('#df-63a5643e-e5f2-4c59-af7d-2d1194f9632d button.colab-df-convert');\n",
              "      buttonEl.style.display =\n",
              "        google.colab.kernel.accessAllowed ? 'block' : 'none';\n",
              "\n",
              "      async function convertToInteractive(key) {\n",
              "        const element = document.querySelector('#df-63a5643e-e5f2-4c59-af7d-2d1194f9632d');\n",
              "        const dataTable =\n",
              "          await google.colab.kernel.invokeFunction('convertToInteractive',\n",
              "                                                    [key], {});\n",
              "        if (!dataTable) return;\n",
              "\n",
              "        const docLinkHtml = 'Like what you see? Visit the ' +\n",
              "          '<a target=\"_blank\" href=https://colab.research.google.com/notebooks/data_table.ipynb>data table notebook</a>'\n",
              "          + ' to learn more about interactive tables.';\n",
              "        element.innerHTML = '';\n",
              "        dataTable['output_type'] = 'display_data';\n",
              "        await google.colab.output.renderOutput(dataTable, element);\n",
              "        const docLink = document.createElement('div');\n",
              "        docLink.innerHTML = docLinkHtml;\n",
              "        element.appendChild(docLink);\n",
              "      }\n",
              "    </script>\n",
              "  </div>\n",
              "\n",
              "\n",
              "<div id=\"df-b3a886d2-f474-4f8d-93c1-5ccff8945b9d\">\n",
              "  <button class=\"colab-df-quickchart\" onclick=\"quickchart('df-b3a886d2-f474-4f8d-93c1-5ccff8945b9d')\"\n",
              "            title=\"Suggest charts\"\n",
              "            style=\"display:none;\">\n",
              "\n",
              "<svg xmlns=\"http://www.w3.org/2000/svg\" height=\"24px\"viewBox=\"0 0 24 24\"\n",
              "     width=\"24px\">\n",
              "    <g>\n",
              "        <path d=\"M19 3H5c-1.1 0-2 .9-2 2v14c0 1.1.9 2 2 2h14c1.1 0 2-.9 2-2V5c0-1.1-.9-2-2-2zM9 17H7v-7h2v7zm4 0h-2V7h2v10zm4 0h-2v-4h2v4z\"/>\n",
              "    </g>\n",
              "</svg>\n",
              "  </button>\n",
              "\n",
              "<style>\n",
              "  .colab-df-quickchart {\n",
              "      --bg-color: #E8F0FE;\n",
              "      --fill-color: #1967D2;\n",
              "      --hover-bg-color: #E2EBFA;\n",
              "      --hover-fill-color: #174EA6;\n",
              "      --disabled-fill-color: #AAA;\n",
              "      --disabled-bg-color: #DDD;\n",
              "  }\n",
              "\n",
              "  [theme=dark] .colab-df-quickchart {\n",
              "      --bg-color: #3B4455;\n",
              "      --fill-color: #D2E3FC;\n",
              "      --hover-bg-color: #434B5C;\n",
              "      --hover-fill-color: #FFFFFF;\n",
              "      --disabled-bg-color: #3B4455;\n",
              "      --disabled-fill-color: #666;\n",
              "  }\n",
              "\n",
              "  .colab-df-quickchart {\n",
              "    background-color: var(--bg-color);\n",
              "    border: none;\n",
              "    border-radius: 50%;\n",
              "    cursor: pointer;\n",
              "    display: none;\n",
              "    fill: var(--fill-color);\n",
              "    height: 32px;\n",
              "    padding: 0;\n",
              "    width: 32px;\n",
              "  }\n",
              "\n",
              "  .colab-df-quickchart:hover {\n",
              "    background-color: var(--hover-bg-color);\n",
              "    box-shadow: 0 1px 2px rgba(60, 64, 67, 0.3), 0 1px 3px 1px rgba(60, 64, 67, 0.15);\n",
              "    fill: var(--button-hover-fill-color);\n",
              "  }\n",
              "\n",
              "  .colab-df-quickchart-complete:disabled,\n",
              "  .colab-df-quickchart-complete:disabled:hover {\n",
              "    background-color: var(--disabled-bg-color);\n",
              "    fill: var(--disabled-fill-color);\n",
              "    box-shadow: none;\n",
              "  }\n",
              "\n",
              "  .colab-df-spinner {\n",
              "    border: 2px solid var(--fill-color);\n",
              "    border-color: transparent;\n",
              "    border-bottom-color: var(--fill-color);\n",
              "    animation:\n",
              "      spin 1s steps(1) infinite;\n",
              "  }\n",
              "\n",
              "  @keyframes spin {\n",
              "    0% {\n",
              "      border-color: transparent;\n",
              "      border-bottom-color: var(--fill-color);\n",
              "      border-left-color: var(--fill-color);\n",
              "    }\n",
              "    20% {\n",
              "      border-color: transparent;\n",
              "      border-left-color: var(--fill-color);\n",
              "      border-top-color: var(--fill-color);\n",
              "    }\n",
              "    30% {\n",
              "      border-color: transparent;\n",
              "      border-left-color: var(--fill-color);\n",
              "      border-top-color: var(--fill-color);\n",
              "      border-right-color: var(--fill-color);\n",
              "    }\n",
              "    40% {\n",
              "      border-color: transparent;\n",
              "      border-right-color: var(--fill-color);\n",
              "      border-top-color: var(--fill-color);\n",
              "    }\n",
              "    60% {\n",
              "      border-color: transparent;\n",
              "      border-right-color: var(--fill-color);\n",
              "    }\n",
              "    80% {\n",
              "      border-color: transparent;\n",
              "      border-right-color: var(--fill-color);\n",
              "      border-bottom-color: var(--fill-color);\n",
              "    }\n",
              "    90% {\n",
              "      border-color: transparent;\n",
              "      border-bottom-color: var(--fill-color);\n",
              "    }\n",
              "  }\n",
              "</style>\n",
              "\n",
              "  <script>\n",
              "    async function quickchart(key) {\n",
              "      const quickchartButtonEl =\n",
              "        document.querySelector('#' + key + ' button');\n",
              "      quickchartButtonEl.disabled = true;  // To prevent multiple clicks.\n",
              "      quickchartButtonEl.classList.add('colab-df-spinner');\n",
              "      try {\n",
              "        const charts = await google.colab.kernel.invokeFunction(\n",
              "            'suggestCharts', [key], {});\n",
              "      } catch (error) {\n",
              "        console.error('Error during call to suggestCharts:', error);\n",
              "      }\n",
              "      quickchartButtonEl.classList.remove('colab-df-spinner');\n",
              "      quickchartButtonEl.classList.add('colab-df-quickchart-complete');\n",
              "    }\n",
              "    (() => {\n",
              "      let quickchartButtonEl =\n",
              "        document.querySelector('#df-b3a886d2-f474-4f8d-93c1-5ccff8945b9d button');\n",
              "      quickchartButtonEl.style.display =\n",
              "        google.colab.kernel.accessAllowed ? 'block' : 'none';\n",
              "    })();\n",
              "  </script>\n",
              "</div>\n",
              "\n",
              "    </div>\n",
              "  </div>\n"
            ],
            "application/vnd.google.colaboratory.intrinsic+json": {
              "type": "dataframe",
              "repr_error": "Out of range float values are not JSON compliant: nan"
            }
          },
          "metadata": {},
          "execution_count": 27
        }
      ],
      "source": [
        "# show first 20 rows with empty 'userId' as pandas dataframe\n",
        "df.where(col('userId') == '').toPandas().head(20)"
      ]
    },
    {
      "cell_type": "code",
      "execution_count": 28,
      "metadata": {
        "colab": {
          "base_uri": "https://localhost:8080/"
        },
        "id": "rAA87YTbgE-G",
        "outputId": "411484e4-fcb5-4505-d185-e47269190890"
      },
      "outputs": [
        {
          "output_type": "stream",
          "name": "stdout",
          "text": [
            "+----------+\n",
            "|      auth|\n",
            "+----------+\n",
            "|Logged Out|\n",
            "|     Guest|\n",
            "+----------+\n",
            "\n"
          ]
        }
      ],
      "source": [
        "# print distinct values for column 'auth' where 'userId' is empty\n",
        "df.select('auth').where(col('userId') == '').distinct().show()"
      ]
    },
    {
      "cell_type": "code",
      "execution_count": 29,
      "metadata": {
        "colab": {
          "base_uri": "https://localhost:8080/",
          "height": 1000
        },
        "id": "ELUuD06BgJEB",
        "outputId": "f742aea0-198e-47b4-ea27-259849bb952a"
      },
      "outputs": [
        {
          "output_type": "execute_result",
          "data": {
            "text/plain": [
              "   artist        auth firstName gender  itemInSession  lastName  length level                        location method             page  registration  sessionId  song  status             ts                                                                                                                  userAgent userId\n",
              "0    None   Logged In     Colin      M             54   Freeman     NaN  paid                 Bakersfield, CA    PUT  Add to Playlist  1.538173e+12         29  None     200  1538352905000                                                   Mozilla/5.0 (Windows NT 6.1; WOW64; rv:31.0) Gecko/20100101 Firefox/31.0     30\n",
              "1    None   Logged In     Micah      M             84      Long     NaN  free  Boston-Cambridge-Newton, MA-NH    GET      Roll Advert  1.538332e+12          8  None     200  1538353150000            \"Mozilla/5.0 (Windows NT 6.1; WOW64) AppleWebKit/537.36 (KHTML, like Gecko) Chrome/37.0.2062.103 Safari/537.36\"      9\n",
              "2    None   Logged In     Micah      M             86      Long     NaN  free  Boston-Cambridge-Newton, MA-NH    PUT        Thumbs Up  1.538332e+12          8  None     307  1538353376000            \"Mozilla/5.0 (Windows NT 6.1; WOW64) AppleWebKit/537.36 (KHTML, like Gecko) Chrome/37.0.2062.103 Safari/537.36\"      9\n",
              "3    None   Logged In     Alexi      F              4    Warren     NaN  paid      Spokane-Spokane Valley, WA    GET        Downgrade  1.532483e+12         53  None     200  1538354749000                                                   Mozilla/5.0 (Windows NT 6.1; WOW64; rv:32.0) Gecko/20100101 Firefox/32.0     54\n",
              "4    None   Logged In     Alexi      F              7    Warren     NaN  paid      Spokane-Spokane Valley, WA    PUT        Thumbs Up  1.532483e+12         53  None     307  1538355255000                                                   Mozilla/5.0 (Windows NT 6.1; WOW64; rv:32.0) Gecko/20100101 Firefox/32.0     54\n",
              "5    None   Logged In     Micah      M             95      Long     NaN  free  Boston-Cambridge-Newton, MA-NH    PUT      Thumbs Down  1.538332e+12          8  None     307  1538355306000            \"Mozilla/5.0 (Windows NT 6.1; WOW64) AppleWebKit/537.36 (KHTML, like Gecko) Chrome/37.0.2062.103 Safari/537.36\"      9\n",
              "6    None   Logged In     Micah      M             97      Long     NaN  free  Boston-Cambridge-Newton, MA-NH    GET             Home  1.538332e+12          8  None     200  1538355504000            \"Mozilla/5.0 (Windows NT 6.1; WOW64) AppleWebKit/537.36 (KHTML, like Gecko) Chrome/37.0.2062.103 Safari/537.36\"      9\n",
              "7    None   Logged In     Micah      M             99      Long     NaN  free  Boston-Cambridge-Newton, MA-NH    PUT           Logout  1.538332e+12          8  None     307  1538355687000            \"Mozilla/5.0 (Windows NT 6.1; WOW64) AppleWebKit/537.36 (KHTML, like Gecko) Chrome/37.0.2062.103 Safari/537.36\"      9\n",
              "8    None   Logged In   Ashlynn      F              9  Williams     NaN  free                 Tallahassee, FL    PUT        Thumbs Up  1.537365e+12        217  None     307  1538355711000  \"Mozilla/5.0 (Macintosh; Intel Mac OS X 10_9_4) AppleWebKit/537.36 (KHTML, like Gecko) Chrome/37.0.2062.94 Safari/537.36\"     74\n",
              "9    None  Logged Out      None   None            100      None     NaN  free                            None    GET             Home           NaN          8  None     200  1538355745000                                                                                                                       None       \n",
              "10   None  Logged Out      None   None            101      None     NaN  free                            None    GET             Help           NaN          8  None     200  1538355807000                                                                                                                       None       \n",
              "11   None  Logged Out      None   None            102      None     NaN  free                            None    GET             Home           NaN          8  None     200  1538355841000                                                                                                                       None       \n",
              "12   None  Logged Out      None   None            103      None     NaN  free                            None    PUT            Login           NaN          8  None     307  1538355842000                                                                                                                       None       \n",
              "13   None   Logged In     Micah      M            104      Long     NaN  free  Boston-Cambridge-Newton, MA-NH    GET             Home  1.538332e+12          8  None     200  1538355855000            \"Mozilla/5.0 (Windows NT 6.1; WOW64) AppleWebKit/537.36 (KHTML, like Gecko) Chrome/37.0.2062.103 Safari/537.36\"      9\n",
              "14   None   Logged In     Colin      M             71   Freeman     NaN  paid                 Bakersfield, CA    PUT      Thumbs Down  1.538173e+12         29  None     307  1538356524000                                                   Mozilla/5.0 (Windows NT 6.1; WOW64; rv:31.0) Gecko/20100101 Firefox/31.0     30\n",
              "15   None   Logged In    Warren      M              1    Miller     NaN  free   Baltimore-Columbia-Towson, MD    PUT           Logout  1.538170e+12        240  None     307  1538356651000                                                          Mozilla/5.0 (Windows NT 6.0; rv:31.0) Gecko/20100101 Firefox/31.0      4\n",
              "16   None  Logged Out      None   None              2      None     NaN  free                            None    GET             Home           NaN        240  None     200  1538356678000                                                                                                                       None       \n",
              "17   None  Logged Out      None   None              3      None     NaN  free                            None    PUT            Login           NaN        240  None     307  1538356679000                                                                                                                       None       \n",
              "18   None   Logged In    Warren      M              4    Miller     NaN  free   Baltimore-Columbia-Towson, MD    GET             Home  1.538170e+12        240  None     200  1538356686000                                                          Mozilla/5.0 (Windows NT 6.0; rv:31.0) Gecko/20100101 Firefox/31.0      4\n",
              "19   None   Logged In   Ashlynn      F             15  Williams     NaN  free                 Tallahassee, FL    PUT  Add to Playlist  1.537365e+12        217  None     200  1538356816000  \"Mozilla/5.0 (Macintosh; Intel Mac OS X 10_9_4) AppleWebKit/537.36 (KHTML, like Gecko) Chrome/37.0.2062.94 Safari/537.36\"     74"
            ],
            "text/html": [
              "\n",
              "  <div id=\"df-78a83428-7772-4c42-a725-18b32a307d71\" class=\"colab-df-container\">\n",
              "    <div>\n",
              "<style scoped>\n",
              "    .dataframe tbody tr th:only-of-type {\n",
              "        vertical-align: middle;\n",
              "    }\n",
              "\n",
              "    .dataframe tbody tr th {\n",
              "        vertical-align: top;\n",
              "    }\n",
              "\n",
              "    .dataframe thead th {\n",
              "        text-align: right;\n",
              "    }\n",
              "</style>\n",
              "<table border=\"1\" class=\"dataframe\">\n",
              "  <thead>\n",
              "    <tr style=\"text-align: right;\">\n",
              "      <th></th>\n",
              "      <th>artist</th>\n",
              "      <th>auth</th>\n",
              "      <th>firstName</th>\n",
              "      <th>gender</th>\n",
              "      <th>itemInSession</th>\n",
              "      <th>lastName</th>\n",
              "      <th>length</th>\n",
              "      <th>level</th>\n",
              "      <th>location</th>\n",
              "      <th>method</th>\n",
              "      <th>page</th>\n",
              "      <th>registration</th>\n",
              "      <th>sessionId</th>\n",
              "      <th>song</th>\n",
              "      <th>status</th>\n",
              "      <th>ts</th>\n",
              "      <th>userAgent</th>\n",
              "      <th>userId</th>\n",
              "    </tr>\n",
              "  </thead>\n",
              "  <tbody>\n",
              "    <tr>\n",
              "      <th>0</th>\n",
              "      <td>None</td>\n",
              "      <td>Logged In</td>\n",
              "      <td>Colin</td>\n",
              "      <td>M</td>\n",
              "      <td>54</td>\n",
              "      <td>Freeman</td>\n",
              "      <td>NaN</td>\n",
              "      <td>paid</td>\n",
              "      <td>Bakersfield, CA</td>\n",
              "      <td>PUT</td>\n",
              "      <td>Add to Playlist</td>\n",
              "      <td>1.538173e+12</td>\n",
              "      <td>29</td>\n",
              "      <td>None</td>\n",
              "      <td>200</td>\n",
              "      <td>1538352905000</td>\n",
              "      <td>Mozilla/5.0 (Windows NT 6.1; WOW64; rv:31.0) Gecko/20100101 Firefox/31.0</td>\n",
              "      <td>30</td>\n",
              "    </tr>\n",
              "    <tr>\n",
              "      <th>1</th>\n",
              "      <td>None</td>\n",
              "      <td>Logged In</td>\n",
              "      <td>Micah</td>\n",
              "      <td>M</td>\n",
              "      <td>84</td>\n",
              "      <td>Long</td>\n",
              "      <td>NaN</td>\n",
              "      <td>free</td>\n",
              "      <td>Boston-Cambridge-Newton, MA-NH</td>\n",
              "      <td>GET</td>\n",
              "      <td>Roll Advert</td>\n",
              "      <td>1.538332e+12</td>\n",
              "      <td>8</td>\n",
              "      <td>None</td>\n",
              "      <td>200</td>\n",
              "      <td>1538353150000</td>\n",
              "      <td>\"Mozilla/5.0 (Windows NT 6.1; WOW64) AppleWebKit/537.36 (KHTML, like Gecko) Chrome/37.0.2062.103 Safari/537.36\"</td>\n",
              "      <td>9</td>\n",
              "    </tr>\n",
              "    <tr>\n",
              "      <th>2</th>\n",
              "      <td>None</td>\n",
              "      <td>Logged In</td>\n",
              "      <td>Micah</td>\n",
              "      <td>M</td>\n",
              "      <td>86</td>\n",
              "      <td>Long</td>\n",
              "      <td>NaN</td>\n",
              "      <td>free</td>\n",
              "      <td>Boston-Cambridge-Newton, MA-NH</td>\n",
              "      <td>PUT</td>\n",
              "      <td>Thumbs Up</td>\n",
              "      <td>1.538332e+12</td>\n",
              "      <td>8</td>\n",
              "      <td>None</td>\n",
              "      <td>307</td>\n",
              "      <td>1538353376000</td>\n",
              "      <td>\"Mozilla/5.0 (Windows NT 6.1; WOW64) AppleWebKit/537.36 (KHTML, like Gecko) Chrome/37.0.2062.103 Safari/537.36\"</td>\n",
              "      <td>9</td>\n",
              "    </tr>\n",
              "    <tr>\n",
              "      <th>3</th>\n",
              "      <td>None</td>\n",
              "      <td>Logged In</td>\n",
              "      <td>Alexi</td>\n",
              "      <td>F</td>\n",
              "      <td>4</td>\n",
              "      <td>Warren</td>\n",
              "      <td>NaN</td>\n",
              "      <td>paid</td>\n",
              "      <td>Spokane-Spokane Valley, WA</td>\n",
              "      <td>GET</td>\n",
              "      <td>Downgrade</td>\n",
              "      <td>1.532483e+12</td>\n",
              "      <td>53</td>\n",
              "      <td>None</td>\n",
              "      <td>200</td>\n",
              "      <td>1538354749000</td>\n",
              "      <td>Mozilla/5.0 (Windows NT 6.1; WOW64; rv:32.0) Gecko/20100101 Firefox/32.0</td>\n",
              "      <td>54</td>\n",
              "    </tr>\n",
              "    <tr>\n",
              "      <th>4</th>\n",
              "      <td>None</td>\n",
              "      <td>Logged In</td>\n",
              "      <td>Alexi</td>\n",
              "      <td>F</td>\n",
              "      <td>7</td>\n",
              "      <td>Warren</td>\n",
              "      <td>NaN</td>\n",
              "      <td>paid</td>\n",
              "      <td>Spokane-Spokane Valley, WA</td>\n",
              "      <td>PUT</td>\n",
              "      <td>Thumbs Up</td>\n",
              "      <td>1.532483e+12</td>\n",
              "      <td>53</td>\n",
              "      <td>None</td>\n",
              "      <td>307</td>\n",
              "      <td>1538355255000</td>\n",
              "      <td>Mozilla/5.0 (Windows NT 6.1; WOW64; rv:32.0) Gecko/20100101 Firefox/32.0</td>\n",
              "      <td>54</td>\n",
              "    </tr>\n",
              "    <tr>\n",
              "      <th>5</th>\n",
              "      <td>None</td>\n",
              "      <td>Logged In</td>\n",
              "      <td>Micah</td>\n",
              "      <td>M</td>\n",
              "      <td>95</td>\n",
              "      <td>Long</td>\n",
              "      <td>NaN</td>\n",
              "      <td>free</td>\n",
              "      <td>Boston-Cambridge-Newton, MA-NH</td>\n",
              "      <td>PUT</td>\n",
              "      <td>Thumbs Down</td>\n",
              "      <td>1.538332e+12</td>\n",
              "      <td>8</td>\n",
              "      <td>None</td>\n",
              "      <td>307</td>\n",
              "      <td>1538355306000</td>\n",
              "      <td>\"Mozilla/5.0 (Windows NT 6.1; WOW64) AppleWebKit/537.36 (KHTML, like Gecko) Chrome/37.0.2062.103 Safari/537.36\"</td>\n",
              "      <td>9</td>\n",
              "    </tr>\n",
              "    <tr>\n",
              "      <th>6</th>\n",
              "      <td>None</td>\n",
              "      <td>Logged In</td>\n",
              "      <td>Micah</td>\n",
              "      <td>M</td>\n",
              "      <td>97</td>\n",
              "      <td>Long</td>\n",
              "      <td>NaN</td>\n",
              "      <td>free</td>\n",
              "      <td>Boston-Cambridge-Newton, MA-NH</td>\n",
              "      <td>GET</td>\n",
              "      <td>Home</td>\n",
              "      <td>1.538332e+12</td>\n",
              "      <td>8</td>\n",
              "      <td>None</td>\n",
              "      <td>200</td>\n",
              "      <td>1538355504000</td>\n",
              "      <td>\"Mozilla/5.0 (Windows NT 6.1; WOW64) AppleWebKit/537.36 (KHTML, like Gecko) Chrome/37.0.2062.103 Safari/537.36\"</td>\n",
              "      <td>9</td>\n",
              "    </tr>\n",
              "    <tr>\n",
              "      <th>7</th>\n",
              "      <td>None</td>\n",
              "      <td>Logged In</td>\n",
              "      <td>Micah</td>\n",
              "      <td>M</td>\n",
              "      <td>99</td>\n",
              "      <td>Long</td>\n",
              "      <td>NaN</td>\n",
              "      <td>free</td>\n",
              "      <td>Boston-Cambridge-Newton, MA-NH</td>\n",
              "      <td>PUT</td>\n",
              "      <td>Logout</td>\n",
              "      <td>1.538332e+12</td>\n",
              "      <td>8</td>\n",
              "      <td>None</td>\n",
              "      <td>307</td>\n",
              "      <td>1538355687000</td>\n",
              "      <td>\"Mozilla/5.0 (Windows NT 6.1; WOW64) AppleWebKit/537.36 (KHTML, like Gecko) Chrome/37.0.2062.103 Safari/537.36\"</td>\n",
              "      <td>9</td>\n",
              "    </tr>\n",
              "    <tr>\n",
              "      <th>8</th>\n",
              "      <td>None</td>\n",
              "      <td>Logged In</td>\n",
              "      <td>Ashlynn</td>\n",
              "      <td>F</td>\n",
              "      <td>9</td>\n",
              "      <td>Williams</td>\n",
              "      <td>NaN</td>\n",
              "      <td>free</td>\n",
              "      <td>Tallahassee, FL</td>\n",
              "      <td>PUT</td>\n",
              "      <td>Thumbs Up</td>\n",
              "      <td>1.537365e+12</td>\n",
              "      <td>217</td>\n",
              "      <td>None</td>\n",
              "      <td>307</td>\n",
              "      <td>1538355711000</td>\n",
              "      <td>\"Mozilla/5.0 (Macintosh; Intel Mac OS X 10_9_4) AppleWebKit/537.36 (KHTML, like Gecko) Chrome/37.0.2062.94 Safari/537.36\"</td>\n",
              "      <td>74</td>\n",
              "    </tr>\n",
              "    <tr>\n",
              "      <th>9</th>\n",
              "      <td>None</td>\n",
              "      <td>Logged Out</td>\n",
              "      <td>None</td>\n",
              "      <td>None</td>\n",
              "      <td>100</td>\n",
              "      <td>None</td>\n",
              "      <td>NaN</td>\n",
              "      <td>free</td>\n",
              "      <td>None</td>\n",
              "      <td>GET</td>\n",
              "      <td>Home</td>\n",
              "      <td>NaN</td>\n",
              "      <td>8</td>\n",
              "      <td>None</td>\n",
              "      <td>200</td>\n",
              "      <td>1538355745000</td>\n",
              "      <td>None</td>\n",
              "      <td></td>\n",
              "    </tr>\n",
              "    <tr>\n",
              "      <th>10</th>\n",
              "      <td>None</td>\n",
              "      <td>Logged Out</td>\n",
              "      <td>None</td>\n",
              "      <td>None</td>\n",
              "      <td>101</td>\n",
              "      <td>None</td>\n",
              "      <td>NaN</td>\n",
              "      <td>free</td>\n",
              "      <td>None</td>\n",
              "      <td>GET</td>\n",
              "      <td>Help</td>\n",
              "      <td>NaN</td>\n",
              "      <td>8</td>\n",
              "      <td>None</td>\n",
              "      <td>200</td>\n",
              "      <td>1538355807000</td>\n",
              "      <td>None</td>\n",
              "      <td></td>\n",
              "    </tr>\n",
              "    <tr>\n",
              "      <th>11</th>\n",
              "      <td>None</td>\n",
              "      <td>Logged Out</td>\n",
              "      <td>None</td>\n",
              "      <td>None</td>\n",
              "      <td>102</td>\n",
              "      <td>None</td>\n",
              "      <td>NaN</td>\n",
              "      <td>free</td>\n",
              "      <td>None</td>\n",
              "      <td>GET</td>\n",
              "      <td>Home</td>\n",
              "      <td>NaN</td>\n",
              "      <td>8</td>\n",
              "      <td>None</td>\n",
              "      <td>200</td>\n",
              "      <td>1538355841000</td>\n",
              "      <td>None</td>\n",
              "      <td></td>\n",
              "    </tr>\n",
              "    <tr>\n",
              "      <th>12</th>\n",
              "      <td>None</td>\n",
              "      <td>Logged Out</td>\n",
              "      <td>None</td>\n",
              "      <td>None</td>\n",
              "      <td>103</td>\n",
              "      <td>None</td>\n",
              "      <td>NaN</td>\n",
              "      <td>free</td>\n",
              "      <td>None</td>\n",
              "      <td>PUT</td>\n",
              "      <td>Login</td>\n",
              "      <td>NaN</td>\n",
              "      <td>8</td>\n",
              "      <td>None</td>\n",
              "      <td>307</td>\n",
              "      <td>1538355842000</td>\n",
              "      <td>None</td>\n",
              "      <td></td>\n",
              "    </tr>\n",
              "    <tr>\n",
              "      <th>13</th>\n",
              "      <td>None</td>\n",
              "      <td>Logged In</td>\n",
              "      <td>Micah</td>\n",
              "      <td>M</td>\n",
              "      <td>104</td>\n",
              "      <td>Long</td>\n",
              "      <td>NaN</td>\n",
              "      <td>free</td>\n",
              "      <td>Boston-Cambridge-Newton, MA-NH</td>\n",
              "      <td>GET</td>\n",
              "      <td>Home</td>\n",
              "      <td>1.538332e+12</td>\n",
              "      <td>8</td>\n",
              "      <td>None</td>\n",
              "      <td>200</td>\n",
              "      <td>1538355855000</td>\n",
              "      <td>\"Mozilla/5.0 (Windows NT 6.1; WOW64) AppleWebKit/537.36 (KHTML, like Gecko) Chrome/37.0.2062.103 Safari/537.36\"</td>\n",
              "      <td>9</td>\n",
              "    </tr>\n",
              "    <tr>\n",
              "      <th>14</th>\n",
              "      <td>None</td>\n",
              "      <td>Logged In</td>\n",
              "      <td>Colin</td>\n",
              "      <td>M</td>\n",
              "      <td>71</td>\n",
              "      <td>Freeman</td>\n",
              "      <td>NaN</td>\n",
              "      <td>paid</td>\n",
              "      <td>Bakersfield, CA</td>\n",
              "      <td>PUT</td>\n",
              "      <td>Thumbs Down</td>\n",
              "      <td>1.538173e+12</td>\n",
              "      <td>29</td>\n",
              "      <td>None</td>\n",
              "      <td>307</td>\n",
              "      <td>1538356524000</td>\n",
              "      <td>Mozilla/5.0 (Windows NT 6.1; WOW64; rv:31.0) Gecko/20100101 Firefox/31.0</td>\n",
              "      <td>30</td>\n",
              "    </tr>\n",
              "    <tr>\n",
              "      <th>15</th>\n",
              "      <td>None</td>\n",
              "      <td>Logged In</td>\n",
              "      <td>Warren</td>\n",
              "      <td>M</td>\n",
              "      <td>1</td>\n",
              "      <td>Miller</td>\n",
              "      <td>NaN</td>\n",
              "      <td>free</td>\n",
              "      <td>Baltimore-Columbia-Towson, MD</td>\n",
              "      <td>PUT</td>\n",
              "      <td>Logout</td>\n",
              "      <td>1.538170e+12</td>\n",
              "      <td>240</td>\n",
              "      <td>None</td>\n",
              "      <td>307</td>\n",
              "      <td>1538356651000</td>\n",
              "      <td>Mozilla/5.0 (Windows NT 6.0; rv:31.0) Gecko/20100101 Firefox/31.0</td>\n",
              "      <td>4</td>\n",
              "    </tr>\n",
              "    <tr>\n",
              "      <th>16</th>\n",
              "      <td>None</td>\n",
              "      <td>Logged Out</td>\n",
              "      <td>None</td>\n",
              "      <td>None</td>\n",
              "      <td>2</td>\n",
              "      <td>None</td>\n",
              "      <td>NaN</td>\n",
              "      <td>free</td>\n",
              "      <td>None</td>\n",
              "      <td>GET</td>\n",
              "      <td>Home</td>\n",
              "      <td>NaN</td>\n",
              "      <td>240</td>\n",
              "      <td>None</td>\n",
              "      <td>200</td>\n",
              "      <td>1538356678000</td>\n",
              "      <td>None</td>\n",
              "      <td></td>\n",
              "    </tr>\n",
              "    <tr>\n",
              "      <th>17</th>\n",
              "      <td>None</td>\n",
              "      <td>Logged Out</td>\n",
              "      <td>None</td>\n",
              "      <td>None</td>\n",
              "      <td>3</td>\n",
              "      <td>None</td>\n",
              "      <td>NaN</td>\n",
              "      <td>free</td>\n",
              "      <td>None</td>\n",
              "      <td>PUT</td>\n",
              "      <td>Login</td>\n",
              "      <td>NaN</td>\n",
              "      <td>240</td>\n",
              "      <td>None</td>\n",
              "      <td>307</td>\n",
              "      <td>1538356679000</td>\n",
              "      <td>None</td>\n",
              "      <td></td>\n",
              "    </tr>\n",
              "    <tr>\n",
              "      <th>18</th>\n",
              "      <td>None</td>\n",
              "      <td>Logged In</td>\n",
              "      <td>Warren</td>\n",
              "      <td>M</td>\n",
              "      <td>4</td>\n",
              "      <td>Miller</td>\n",
              "      <td>NaN</td>\n",
              "      <td>free</td>\n",
              "      <td>Baltimore-Columbia-Towson, MD</td>\n",
              "      <td>GET</td>\n",
              "      <td>Home</td>\n",
              "      <td>1.538170e+12</td>\n",
              "      <td>240</td>\n",
              "      <td>None</td>\n",
              "      <td>200</td>\n",
              "      <td>1538356686000</td>\n",
              "      <td>Mozilla/5.0 (Windows NT 6.0; rv:31.0) Gecko/20100101 Firefox/31.0</td>\n",
              "      <td>4</td>\n",
              "    </tr>\n",
              "    <tr>\n",
              "      <th>19</th>\n",
              "      <td>None</td>\n",
              "      <td>Logged In</td>\n",
              "      <td>Ashlynn</td>\n",
              "      <td>F</td>\n",
              "      <td>15</td>\n",
              "      <td>Williams</td>\n",
              "      <td>NaN</td>\n",
              "      <td>free</td>\n",
              "      <td>Tallahassee, FL</td>\n",
              "      <td>PUT</td>\n",
              "      <td>Add to Playlist</td>\n",
              "      <td>1.537365e+12</td>\n",
              "      <td>217</td>\n",
              "      <td>None</td>\n",
              "      <td>200</td>\n",
              "      <td>1538356816000</td>\n",
              "      <td>\"Mozilla/5.0 (Macintosh; Intel Mac OS X 10_9_4) AppleWebKit/537.36 (KHTML, like Gecko) Chrome/37.0.2062.94 Safari/537.36\"</td>\n",
              "      <td>74</td>\n",
              "    </tr>\n",
              "  </tbody>\n",
              "</table>\n",
              "</div>\n",
              "    <div class=\"colab-df-buttons\">\n",
              "\n",
              "  <div class=\"colab-df-container\">\n",
              "    <button class=\"colab-df-convert\" onclick=\"convertToInteractive('df-78a83428-7772-4c42-a725-18b32a307d71')\"\n",
              "            title=\"Convert this dataframe to an interactive table.\"\n",
              "            style=\"display:none;\">\n",
              "\n",
              "  <svg xmlns=\"http://www.w3.org/2000/svg\" height=\"24px\" viewBox=\"0 -960 960 960\">\n",
              "    <path d=\"M120-120v-720h720v720H120Zm60-500h600v-160H180v160Zm220 220h160v-160H400v160Zm0 220h160v-160H400v160ZM180-400h160v-160H180v160Zm440 0h160v-160H620v160ZM180-180h160v-160H180v160Zm440 0h160v-160H620v160Z\"/>\n",
              "  </svg>\n",
              "    </button>\n",
              "\n",
              "  <style>\n",
              "    .colab-df-container {\n",
              "      display:flex;\n",
              "      gap: 12px;\n",
              "    }\n",
              "\n",
              "    .colab-df-convert {\n",
              "      background-color: #E8F0FE;\n",
              "      border: none;\n",
              "      border-radius: 50%;\n",
              "      cursor: pointer;\n",
              "      display: none;\n",
              "      fill: #1967D2;\n",
              "      height: 32px;\n",
              "      padding: 0 0 0 0;\n",
              "      width: 32px;\n",
              "    }\n",
              "\n",
              "    .colab-df-convert:hover {\n",
              "      background-color: #E2EBFA;\n",
              "      box-shadow: 0px 1px 2px rgba(60, 64, 67, 0.3), 0px 1px 3px 1px rgba(60, 64, 67, 0.15);\n",
              "      fill: #174EA6;\n",
              "    }\n",
              "\n",
              "    .colab-df-buttons div {\n",
              "      margin-bottom: 4px;\n",
              "    }\n",
              "\n",
              "    [theme=dark] .colab-df-convert {\n",
              "      background-color: #3B4455;\n",
              "      fill: #D2E3FC;\n",
              "    }\n",
              "\n",
              "    [theme=dark] .colab-df-convert:hover {\n",
              "      background-color: #434B5C;\n",
              "      box-shadow: 0px 1px 3px 1px rgba(0, 0, 0, 0.15);\n",
              "      filter: drop-shadow(0px 1px 2px rgba(0, 0, 0, 0.3));\n",
              "      fill: #FFFFFF;\n",
              "    }\n",
              "  </style>\n",
              "\n",
              "    <script>\n",
              "      const buttonEl =\n",
              "        document.querySelector('#df-78a83428-7772-4c42-a725-18b32a307d71 button.colab-df-convert');\n",
              "      buttonEl.style.display =\n",
              "        google.colab.kernel.accessAllowed ? 'block' : 'none';\n",
              "\n",
              "      async function convertToInteractive(key) {\n",
              "        const element = document.querySelector('#df-78a83428-7772-4c42-a725-18b32a307d71');\n",
              "        const dataTable =\n",
              "          await google.colab.kernel.invokeFunction('convertToInteractive',\n",
              "                                                    [key], {});\n",
              "        if (!dataTable) return;\n",
              "\n",
              "        const docLinkHtml = 'Like what you see? Visit the ' +\n",
              "          '<a target=\"_blank\" href=https://colab.research.google.com/notebooks/data_table.ipynb>data table notebook</a>'\n",
              "          + ' to learn more about interactive tables.';\n",
              "        element.innerHTML = '';\n",
              "        dataTable['output_type'] = 'display_data';\n",
              "        await google.colab.output.renderOutput(dataTable, element);\n",
              "        const docLink = document.createElement('div');\n",
              "        docLink.innerHTML = docLinkHtml;\n",
              "        element.appendChild(docLink);\n",
              "      }\n",
              "    </script>\n",
              "  </div>\n",
              "\n",
              "\n",
              "<div id=\"df-ef920eae-3ec1-4fcd-8d00-5122c8f9a0e9\">\n",
              "  <button class=\"colab-df-quickchart\" onclick=\"quickchart('df-ef920eae-3ec1-4fcd-8d00-5122c8f9a0e9')\"\n",
              "            title=\"Suggest charts\"\n",
              "            style=\"display:none;\">\n",
              "\n",
              "<svg xmlns=\"http://www.w3.org/2000/svg\" height=\"24px\"viewBox=\"0 0 24 24\"\n",
              "     width=\"24px\">\n",
              "    <g>\n",
              "        <path d=\"M19 3H5c-1.1 0-2 .9-2 2v14c0 1.1.9 2 2 2h14c1.1 0 2-.9 2-2V5c0-1.1-.9-2-2-2zM9 17H7v-7h2v7zm4 0h-2V7h2v10zm4 0h-2v-4h2v4z\"/>\n",
              "    </g>\n",
              "</svg>\n",
              "  </button>\n",
              "\n",
              "<style>\n",
              "  .colab-df-quickchart {\n",
              "      --bg-color: #E8F0FE;\n",
              "      --fill-color: #1967D2;\n",
              "      --hover-bg-color: #E2EBFA;\n",
              "      --hover-fill-color: #174EA6;\n",
              "      --disabled-fill-color: #AAA;\n",
              "      --disabled-bg-color: #DDD;\n",
              "  }\n",
              "\n",
              "  [theme=dark] .colab-df-quickchart {\n",
              "      --bg-color: #3B4455;\n",
              "      --fill-color: #D2E3FC;\n",
              "      --hover-bg-color: #434B5C;\n",
              "      --hover-fill-color: #FFFFFF;\n",
              "      --disabled-bg-color: #3B4455;\n",
              "      --disabled-fill-color: #666;\n",
              "  }\n",
              "\n",
              "  .colab-df-quickchart {\n",
              "    background-color: var(--bg-color);\n",
              "    border: none;\n",
              "    border-radius: 50%;\n",
              "    cursor: pointer;\n",
              "    display: none;\n",
              "    fill: var(--fill-color);\n",
              "    height: 32px;\n",
              "    padding: 0;\n",
              "    width: 32px;\n",
              "  }\n",
              "\n",
              "  .colab-df-quickchart:hover {\n",
              "    background-color: var(--hover-bg-color);\n",
              "    box-shadow: 0 1px 2px rgba(60, 64, 67, 0.3), 0 1px 3px 1px rgba(60, 64, 67, 0.15);\n",
              "    fill: var(--button-hover-fill-color);\n",
              "  }\n",
              "\n",
              "  .colab-df-quickchart-complete:disabled,\n",
              "  .colab-df-quickchart-complete:disabled:hover {\n",
              "    background-color: var(--disabled-bg-color);\n",
              "    fill: var(--disabled-fill-color);\n",
              "    box-shadow: none;\n",
              "  }\n",
              "\n",
              "  .colab-df-spinner {\n",
              "    border: 2px solid var(--fill-color);\n",
              "    border-color: transparent;\n",
              "    border-bottom-color: var(--fill-color);\n",
              "    animation:\n",
              "      spin 1s steps(1) infinite;\n",
              "  }\n",
              "\n",
              "  @keyframes spin {\n",
              "    0% {\n",
              "      border-color: transparent;\n",
              "      border-bottom-color: var(--fill-color);\n",
              "      border-left-color: var(--fill-color);\n",
              "    }\n",
              "    20% {\n",
              "      border-color: transparent;\n",
              "      border-left-color: var(--fill-color);\n",
              "      border-top-color: var(--fill-color);\n",
              "    }\n",
              "    30% {\n",
              "      border-color: transparent;\n",
              "      border-left-color: var(--fill-color);\n",
              "      border-top-color: var(--fill-color);\n",
              "      border-right-color: var(--fill-color);\n",
              "    }\n",
              "    40% {\n",
              "      border-color: transparent;\n",
              "      border-right-color: var(--fill-color);\n",
              "      border-top-color: var(--fill-color);\n",
              "    }\n",
              "    60% {\n",
              "      border-color: transparent;\n",
              "      border-right-color: var(--fill-color);\n",
              "    }\n",
              "    80% {\n",
              "      border-color: transparent;\n",
              "      border-right-color: var(--fill-color);\n",
              "      border-bottom-color: var(--fill-color);\n",
              "    }\n",
              "    90% {\n",
              "      border-color: transparent;\n",
              "      border-bottom-color: var(--fill-color);\n",
              "    }\n",
              "  }\n",
              "</style>\n",
              "\n",
              "  <script>\n",
              "    async function quickchart(key) {\n",
              "      const quickchartButtonEl =\n",
              "        document.querySelector('#' + key + ' button');\n",
              "      quickchartButtonEl.disabled = true;  // To prevent multiple clicks.\n",
              "      quickchartButtonEl.classList.add('colab-df-spinner');\n",
              "      try {\n",
              "        const charts = await google.colab.kernel.invokeFunction(\n",
              "            'suggestCharts', [key], {});\n",
              "      } catch (error) {\n",
              "        console.error('Error during call to suggestCharts:', error);\n",
              "      }\n",
              "      quickchartButtonEl.classList.remove('colab-df-spinner');\n",
              "      quickchartButtonEl.classList.add('colab-df-quickchart-complete');\n",
              "    }\n",
              "    (() => {\n",
              "      let quickchartButtonEl =\n",
              "        document.querySelector('#df-ef920eae-3ec1-4fcd-8d00-5122c8f9a0e9 button');\n",
              "      quickchartButtonEl.style.display =\n",
              "        google.colab.kernel.accessAllowed ? 'block' : 'none';\n",
              "    })();\n",
              "  </script>\n",
              "</div>\n",
              "\n",
              "    </div>\n",
              "  </div>\n"
            ],
            "application/vnd.google.colaboratory.intrinsic+json": {
              "type": "dataframe",
              "repr_error": "Out of range float values are not JSON compliant: nan"
            }
          },
          "metadata": {},
          "execution_count": 29
        }
      ],
      "source": [
        "# show first 20 rows with missing values in 'artist' as pandas dataframe\n",
        "df.where(isnan(df['artist']) | df['artist'].isNull()).toPandas().head(20)"
      ]
    },
    {
      "cell_type": "code",
      "execution_count": 30,
      "metadata": {
        "colab": {
          "base_uri": "https://localhost:8080/"
        },
        "id": "xsrbBVkFgPWU",
        "outputId": "5d6713b4-f9f5-4c72-d181-867622965b91"
      },
      "outputs": [
        {
          "output_type": "stream",
          "name": "stdout",
          "text": [
            "+-------------------------+\n",
            "|page                     |\n",
            "+-------------------------+\n",
            "|Cancel                   |\n",
            "|Submit Downgrade         |\n",
            "|Thumbs Down              |\n",
            "|Home                     |\n",
            "|Downgrade                |\n",
            "|Roll Advert              |\n",
            "|Logout                   |\n",
            "|Save Settings            |\n",
            "|Cancellation Confirmation|\n",
            "|About                    |\n",
            "|Submit Registration      |\n",
            "|Settings                 |\n",
            "|Login                    |\n",
            "|Register                 |\n",
            "|Add to Playlist          |\n",
            "|Add Friend               |\n",
            "|Thumbs Up                |\n",
            "|Help                     |\n",
            "|Upgrade                  |\n",
            "|Error                    |\n",
            "|Submit Upgrade           |\n",
            "+-------------------------+\n",
            "\n"
          ]
        }
      ],
      "source": [
        "# print distinct values for column 'page' where 'artist' has missing value\n",
        "df.select('page').where(isnan(df['artist']) | df['artist'].isNull()).distinct().show(50, truncate=False)"
      ]
    },
    {
      "cell_type": "code",
      "execution_count": 31,
      "metadata": {
        "colab": {
          "base_uri": "https://localhost:8080/"
        },
        "id": "oWc6uKfIgTuZ",
        "outputId": "2a1a775a-0bf5-49ea-d616-749cd7d71a08"
      },
      "outputs": [
        {
          "output_type": "execute_result",
          "data": {
            "text/plain": [
              "{Row(page='NextSong')}"
            ]
          },
          "metadata": {},
          "execution_count": 31
        }
      ],
      "source": [
        "# compare distinct values for column 'page' for entire dataset and subset only including rows where 'artist' has missing value\n",
        "set(df.select('page').distinct().collect()) - set(\n",
        "    df.select('page').where(isnan(df['artist']) | df['artist'].isNull()).distinct().collect())"
      ]
    },
    {
      "cell_type": "code",
      "execution_count": 32,
      "metadata": {
        "id": "wWYTrLTogef9"
      },
      "outputs": [],
      "source": [
        "# drop rows with no user data (Logged Out or Guest)\n",
        "df_clean = df.where(col('userId') != '')"
      ]
    },
    {
      "cell_type": "code",
      "execution_count": 33,
      "metadata": {
        "colab": {
          "base_uri": "https://localhost:8080/"
        },
        "id": "zFjUkDAigfq_",
        "outputId": "531dc61e-c486-4df5-90bb-6015736f86ea"
      },
      "outputs": [
        {
          "output_type": "stream",
          "name": "stdout",
          "text": [
            "278154\n"
          ]
        }
      ],
      "source": [
        "# number of rows after removal\n",
        "print(df_clean.count())"
      ]
    },
    {
      "cell_type": "code",
      "execution_count": 34,
      "metadata": {
        "colab": {
          "base_uri": "https://localhost:8080/"
        },
        "id": "AkbOUrcagk79",
        "outputId": "9a5bc340-8401-493e-f153-a9cde6f78c2b"
      },
      "outputs": [
        {
          "output_type": "stream",
          "name": "stdout",
          "text": [
            "+------+----+---------+------+-------------+--------+------+-----+--------+------+----+------------+---------+-----+------+---+---------+------+\n",
            "|artist|auth|firstName|gender|itemInSession|lastName|length|level|location|method|page|registration|sessionId| song|status| ts|userAgent|userId|\n",
            "+------+----+---------+------+-------------+--------+------+-----+--------+------+----+------------+---------+-----+------+---+---------+------+\n",
            "| 50046|   0|        0|     0|            0|       0| 50046|    0|       0|     0|   0|           0|        0|50046|     0|  0|        0|     0|\n",
            "+------+----+---------+------+-------------+--------+------+-----+--------+------+----+------------+---------+-----+------+---+---------+------+\n",
            "\n"
          ]
        }
      ],
      "source": [
        "# check NaNs and Nulls in new dataframe\n",
        "df_clean.select([count(when(isnan(c) | col(c).isNull(), c)).alias(c) for c in df_clean.columns]).show()"
      ]
    },
    {
      "cell_type": "code",
      "execution_count": 35,
      "metadata": {
        "id": "WBXq1fmzgpbj"
      },
      "outputs": [],
      "source": [
        "import datetime\n",
        "from pyspark.sql.functions import udf"
      ]
    },
    {
      "cell_type": "code",
      "execution_count": 36,
      "metadata": {
        "id": "YKBu_6xRgtxY"
      },
      "outputs": [],
      "source": [
        "# udf to convert timestamp to correct format\n",
        "# source: https://stackoverflow.com/questions/45977449/convert-timestamp-to-date-in-spark-dataframe\n",
        "get_timestamp = udf(lambda x: datetime.datetime.fromtimestamp(x/1000.0).strftime('%Y-%m-%d %H:%M:%S'))\n",
        "\n",
        "# apply udf to registration timestamp\n",
        "df_clean = df_clean.withColumn('registration', get_timestamp(df_clean['registration']))\n",
        "\n",
        "# apply udf to ts timestamp\n",
        "df_clean = df_clean.withColumn('ts', get_timestamp(df_clean['ts']))"
      ]
    },
    {
      "cell_type": "code",
      "execution_count": 37,
      "metadata": {
        "id": "VkMT6JeXgxAk"
      },
      "outputs": [],
      "source": [
        "import os\n",
        "\n",
        "os.environ[\"PYSPARK_PYTHON\"] = \"python3.10\"\n",
        "os.environ[\"PYSPARK_DRIVER_PYTHON\"] = \"python3.10\""
      ]
    },
    {
      "cell_type": "code",
      "execution_count": 38,
      "metadata": {
        "colab": {
          "base_uri": "https://localhost:8080/"
        },
        "id": "cTB0Y8EYg1UJ",
        "outputId": "acb3585d-94be-48a0-d560-6a60a84418b8"
      },
      "outputs": [
        {
          "output_type": "stream",
          "name": "stdout",
          "text": [
            "+-------------------+\n",
            "|       registration|\n",
            "+-------------------+\n",
            "|2018-09-28 22:22:42|\n",
            "|2018-09-30 18:20:30|\n",
            "|2018-09-28 22:22:42|\n",
            "|2018-09-30 18:20:30|\n",
            "|2018-09-28 22:22:42|\n",
            "|2018-09-30 18:20:30|\n",
            "|2018-09-30 18:20:30|\n",
            "|2018-09-28 22:22:42|\n",
            "|2018-09-28 22:22:42|\n",
            "|2018-09-28 22:22:42|\n",
            "|2018-09-30 18:20:30|\n",
            "|2018-09-30 18:20:30|\n",
            "|2018-09-28 22:22:42|\n",
            "|2018-09-30 18:20:30|\n",
            "|2018-09-30 18:20:30|\n",
            "|2018-09-28 22:22:42|\n",
            "|2018-09-30 18:20:30|\n",
            "|2018-09-19 13:53:39|\n",
            "|2018-09-28 22:22:42|\n",
            "|2018-09-30 18:20:30|\n",
            "+-------------------+\n",
            "only showing top 20 rows\n",
            "\n"
          ]
        }
      ],
      "source": [
        "df_clean.select('registration').show()"
      ]
    },
    {
      "cell_type": "code",
      "execution_count": 39,
      "metadata": {
        "colab": {
          "base_uri": "https://localhost:8080/"
        },
        "id": "JO6KHIgsg5pm",
        "outputId": "b68b5ad7-ad1c-49a1-832f-ba24c201f9c3"
      },
      "outputs": [
        {
          "output_type": "stream",
          "name": "stdout",
          "text": [
            "+-------------------+\n",
            "|                 ts|\n",
            "+-------------------+\n",
            "|2018-10-01 00:01:57|\n",
            "|2018-10-01 00:03:00|\n",
            "|2018-10-01 00:06:34|\n",
            "|2018-10-01 00:06:56|\n",
            "|2018-10-01 00:11:16|\n",
            "|2018-10-01 00:11:18|\n",
            "|2018-10-01 00:14:46|\n",
            "|2018-10-01 00:14:59|\n",
            "|2018-10-01 00:15:05|\n",
            "|2018-10-01 00:18:04|\n",
            "|2018-10-01 00:19:06|\n",
            "|2018-10-01 00:19:10|\n",
            "|2018-10-01 00:20:18|\n",
            "|2018-10-01 00:22:55|\n",
            "|2018-10-01 00:22:56|\n",
            "|2018-10-01 00:24:01|\n",
            "|2018-10-01 00:26:16|\n",
            "|2018-10-01 00:27:48|\n",
            "|2018-10-01 00:28:07|\n",
            "|2018-10-01 00:29:04|\n",
            "+-------------------+\n",
            "only showing top 20 rows\n",
            "\n"
          ]
        }
      ],
      "source": [
        "df_clean.select('ts').show()"
      ]
    },
    {
      "cell_type": "code",
      "execution_count": 40,
      "metadata": {
        "colab": {
          "base_uri": "https://localhost:8080/"
        },
        "id": "BG7vZyS7g9b0",
        "outputId": "f06f3dee-ba68-4eb3-da2b-e1a6f8317b62"
      },
      "outputs": [
        {
          "output_type": "stream",
          "name": "stdout",
          "text": [
            "+--------+---------+------+\n",
            "|year(ts)|month(ts)| count|\n",
            "+--------+---------+------+\n",
            "|    2018|       10|144916|\n",
            "|    2018|       11|133234|\n",
            "|    2018|       12|     4|\n",
            "+--------+---------+------+\n",
            "\n"
          ]
        }
      ],
      "source": [
        "df_clean.groupBy(year('ts'), month('ts')).count().sort(month('ts')).show()"
      ]
    },
    {
      "cell_type": "code",
      "execution_count": 41,
      "metadata": {
        "id": "pCBJrMq0hOpF"
      },
      "outputs": [],
      "source": [
        "# split location column into two, one column with location name and one column with the state\n",
        "df_clean = df_clean.withColumn('location_name', split(col('location'), ',').getItem(0))\n",
        "df_clean = df_clean.withColumn('state', split(col('location'), ',').getItem(1))\n",
        "# keep only the first state\n",
        "df_clean = df_clean.withColumn('state', split(col('state'), '-').getItem(0))"
      ]
    },
    {
      "cell_type": "code",
      "execution_count": 42,
      "metadata": {
        "colab": {
          "base_uri": "https://localhost:8080/"
        },
        "id": "FNG5izYyhTlL",
        "outputId": "245f1730-51e6-4b39-9ad5-198e7d12c38f"
      },
      "outputs": [
        {
          "output_type": "stream",
          "name": "stdout",
          "text": [
            "+-----------------------+\n",
            "|location_name          |\n",
            "+-----------------------+\n",
            "|Bakersfield            |\n",
            "|Boston-Cambridge-Newton|\n",
            "|Bakersfield            |\n",
            "|Boston-Cambridge-Newton|\n",
            "|Bakersfield            |\n",
            "|Boston-Cambridge-Newton|\n",
            "|Boston-Cambridge-Newton|\n",
            "|Bakersfield            |\n",
            "|Bakersfield            |\n",
            "|Bakersfield            |\n",
            "|Boston-Cambridge-Newton|\n",
            "|Boston-Cambridge-Newton|\n",
            "|Bakersfield            |\n",
            "|Boston-Cambridge-Newton|\n",
            "|Boston-Cambridge-Newton|\n",
            "|Bakersfield            |\n",
            "|Boston-Cambridge-Newton|\n",
            "|Tallahassee            |\n",
            "|Bakersfield            |\n",
            "|Boston-Cambridge-Newton|\n",
            "+-----------------------+\n",
            "only showing top 20 rows\n",
            "\n"
          ]
        }
      ],
      "source": [
        "df_clean.select('location_name').show(truncate=False)"
      ]
    },
    {
      "cell_type": "code",
      "execution_count": 43,
      "metadata": {
        "colab": {
          "base_uri": "https://localhost:8080/"
        },
        "id": "ZfXfuMsQhYmf",
        "outputId": "086f0cfc-f8f6-4c14-c1b7-684f6f6b4dee"
      },
      "outputs": [
        {
          "output_type": "stream",
          "name": "stdout",
          "text": [
            "+-----+\n",
            "|state|\n",
            "+-----+\n",
            "|   CA|\n",
            "|   MA|\n",
            "|   CA|\n",
            "|   MA|\n",
            "|   CA|\n",
            "|   MA|\n",
            "|   MA|\n",
            "|   CA|\n",
            "|   CA|\n",
            "|   CA|\n",
            "|   MA|\n",
            "|   MA|\n",
            "|   CA|\n",
            "|   MA|\n",
            "|   MA|\n",
            "|   CA|\n",
            "|   MA|\n",
            "|   FL|\n",
            "|   CA|\n",
            "|   MA|\n",
            "+-----+\n",
            "only showing top 20 rows\n",
            "\n"
          ]
        }
      ],
      "source": [
        "df_clean.select('state').show()"
      ]
    },
    {
      "cell_type": "markdown",
      "metadata": {
        "id": "r29NSr91hd8L"
      },
      "source": [
        "**EDA**"
      ]
    },
    {
      "cell_type": "code",
      "execution_count": 44,
      "metadata": {
        "colab": {
          "base_uri": "https://localhost:8080/"
        },
        "id": "tiHq_2V-hcq3",
        "outputId": "b63badf5-4cbd-4882-9e01-8e1db0d8d6d2"
      },
      "outputs": [
        {
          "output_type": "stream",
          "name": "stdout",
          "text": [
            "+-----+------+\n",
            "|churn| count|\n",
            "+-----+------+\n",
            "|    1|    52|\n",
            "|    0|278102|\n",
            "+-----+------+\n",
            "\n"
          ]
        }
      ],
      "source": [
        "# create new column 'churn'\n",
        "# churn = 1 (yes) if column page = 'Cancellation Confirmation', else 0 (No)\n",
        "df_clean = df_clean.withColumn('churn', when(col('page') == 'Cancellation Confirmation', 1).otherwise(0))\n",
        "\n",
        "# Show counts per value for 'churn'\n",
        "df_clean.groupBy('churn').count().show()"
      ]
    },
    {
      "cell_type": "code",
      "execution_count": 45,
      "metadata": {
        "colab": {
          "base_uri": "https://localhost:8080/"
        },
        "id": "tXS0V02PhmR4",
        "outputId": "c7ac31fe-bb94-4529-a351-593ea7d2d424"
      },
      "outputs": [
        {
          "output_type": "execute_result",
          "data": {
            "text/plain": [
              "['125',\n",
              " '51',\n",
              " '101',\n",
              " '87',\n",
              " '73',\n",
              " '3',\n",
              " '28',\n",
              " '18',\n",
              " '17',\n",
              " '103',\n",
              " '122',\n",
              " '58',\n",
              " '106',\n",
              " '143',\n",
              " '32',\n",
              " '105',\n",
              " '121',\n",
              " '12',\n",
              " '129',\n",
              " '54',\n",
              " '100014',\n",
              " '29',\n",
              " '100021',\n",
              " '100022',\n",
              " '100025',\n",
              " '300007',\n",
              " '100006',\n",
              " '70',\n",
              " '100005',\n",
              " '100007',\n",
              " '300001',\n",
              " '100009',\n",
              " '100015',\n",
              " '200024',\n",
              " '100003',\n",
              " '100024',\n",
              " '53',\n",
              " '200017',\n",
              " '100011',\n",
              " '100019',\n",
              " '100012',\n",
              " '200018',\n",
              " '200016',\n",
              " '200020',\n",
              " '200001',\n",
              " '200011',\n",
              " '100023',\n",
              " '100013',\n",
              " '100017',\n",
              " '200015',\n",
              " '200021',\n",
              " '100001']"
            ]
          },
          "metadata": {},
          "execution_count": 45
        }
      ],
      "source": [
        "# get userId's where churn = 1\n",
        "churned_users = df_clean.select('userId').where(col('churn') == 1).groupby('userId').count()\n",
        "\n",
        "# only keep values from 'userId' column and store as list\n",
        "# source: https://stackoverflow.com/questions/38610559/convert-spark-dataframe-column-to-python-list\n",
        "churned_users = [row['userId'] for row in churned_users.collect()]\n",
        "\n",
        "# print userId's for churned users\n",
        "churned_users"
      ]
    },
    {
      "cell_type": "code",
      "execution_count": 46,
      "metadata": {
        "colab": {
          "base_uri": "https://localhost:8080/"
        },
        "id": "as4Y5plphocQ",
        "outputId": "03fbe688-2814-426f-dc26-559ac7b53d2e"
      },
      "outputs": [
        {
          "output_type": "stream",
          "name": "stdout",
          "text": [
            "+-----+------+\n",
            "|churn| count|\n",
            "+-----+------+\n",
            "|    1| 44864|\n",
            "|    0|233290|\n",
            "+-----+------+\n",
            "\n"
          ]
        }
      ],
      "source": [
        "# set column 'churn' as 1 for all rows for a churned user\n",
        "df_clean = df_clean.withColumn('churn', when((df_clean.userId).isin(churned_users), 1).otherwise(0))\n",
        "\n",
        "# Show counts per value for 'churn'\n",
        "df_clean.groupBy('churn').count().show()"
      ]
    },
    {
      "cell_type": "code",
      "execution_count": 47,
      "metadata": {
        "colab": {
          "base_uri": "https://localhost:8080/",
          "height": 423
        },
        "id": "B-HOKrHOiOAE",
        "outputId": "cc0a5d80-5831-4456-f3e9-b63792b9f65c"
      },
      "outputs": [
        {
          "output_type": "execute_result",
          "data": {
            "text/plain": [
              "     itemInSession level method                       page  sessionId                   ts  userId  churn\n",
              "0                0  paid    PUT                   NextSong         37  2018-10-10 13:12:16  100014      1\n",
              "1                1  paid    PUT                   NextSong         37  2018-10-10 13:15:51  100014      1\n",
              "2                2  paid    PUT                   NextSong         37  2018-10-10 13:17:56  100014      1\n",
              "3                3  paid    PUT                   NextSong         37  2018-10-10 13:21:38  100014      1\n",
              "4                4  paid    GET                       Help         37  2018-10-10 13:21:45  100014      1\n",
              "..             ...   ...    ...                        ...        ...                  ...     ...    ...\n",
              "305             69  paid    PUT                   NextSong        185  2018-11-20 18:59:12  100014      1\n",
              "306             70  paid    PUT                   NextSong        185  2018-11-20 19:03:48  100014      1\n",
              "307             71  paid    GET                  Downgrade        185  2018-11-20 19:04:01  100014      1\n",
              "308             72  paid    PUT                     Cancel        185  2018-11-20 19:04:02  100014      1\n",
              "309             73  paid    GET  Cancellation Confirmation        185  2018-11-20 19:04:09  100014      1\n",
              "\n",
              "[310 rows x 8 columns]"
            ],
            "text/html": [
              "\n",
              "  <div id=\"df-2394ee82-4818-4a39-ac6d-c82dc4370e4e\" class=\"colab-df-container\">\n",
              "    <div>\n",
              "<style scoped>\n",
              "    .dataframe tbody tr th:only-of-type {\n",
              "        vertical-align: middle;\n",
              "    }\n",
              "\n",
              "    .dataframe tbody tr th {\n",
              "        vertical-align: top;\n",
              "    }\n",
              "\n",
              "    .dataframe thead th {\n",
              "        text-align: right;\n",
              "    }\n",
              "</style>\n",
              "<table border=\"1\" class=\"dataframe\">\n",
              "  <thead>\n",
              "    <tr style=\"text-align: right;\">\n",
              "      <th></th>\n",
              "      <th>itemInSession</th>\n",
              "      <th>level</th>\n",
              "      <th>method</th>\n",
              "      <th>page</th>\n",
              "      <th>sessionId</th>\n",
              "      <th>ts</th>\n",
              "      <th>userId</th>\n",
              "      <th>churn</th>\n",
              "    </tr>\n",
              "  </thead>\n",
              "  <tbody>\n",
              "    <tr>\n",
              "      <th>0</th>\n",
              "      <td>0</td>\n",
              "      <td>paid</td>\n",
              "      <td>PUT</td>\n",
              "      <td>NextSong</td>\n",
              "      <td>37</td>\n",
              "      <td>2018-10-10 13:12:16</td>\n",
              "      <td>100014</td>\n",
              "      <td>1</td>\n",
              "    </tr>\n",
              "    <tr>\n",
              "      <th>1</th>\n",
              "      <td>1</td>\n",
              "      <td>paid</td>\n",
              "      <td>PUT</td>\n",
              "      <td>NextSong</td>\n",
              "      <td>37</td>\n",
              "      <td>2018-10-10 13:15:51</td>\n",
              "      <td>100014</td>\n",
              "      <td>1</td>\n",
              "    </tr>\n",
              "    <tr>\n",
              "      <th>2</th>\n",
              "      <td>2</td>\n",
              "      <td>paid</td>\n",
              "      <td>PUT</td>\n",
              "      <td>NextSong</td>\n",
              "      <td>37</td>\n",
              "      <td>2018-10-10 13:17:56</td>\n",
              "      <td>100014</td>\n",
              "      <td>1</td>\n",
              "    </tr>\n",
              "    <tr>\n",
              "      <th>3</th>\n",
              "      <td>3</td>\n",
              "      <td>paid</td>\n",
              "      <td>PUT</td>\n",
              "      <td>NextSong</td>\n",
              "      <td>37</td>\n",
              "      <td>2018-10-10 13:21:38</td>\n",
              "      <td>100014</td>\n",
              "      <td>1</td>\n",
              "    </tr>\n",
              "    <tr>\n",
              "      <th>4</th>\n",
              "      <td>4</td>\n",
              "      <td>paid</td>\n",
              "      <td>GET</td>\n",
              "      <td>Help</td>\n",
              "      <td>37</td>\n",
              "      <td>2018-10-10 13:21:45</td>\n",
              "      <td>100014</td>\n",
              "      <td>1</td>\n",
              "    </tr>\n",
              "    <tr>\n",
              "      <th>...</th>\n",
              "      <td>...</td>\n",
              "      <td>...</td>\n",
              "      <td>...</td>\n",
              "      <td>...</td>\n",
              "      <td>...</td>\n",
              "      <td>...</td>\n",
              "      <td>...</td>\n",
              "      <td>...</td>\n",
              "    </tr>\n",
              "    <tr>\n",
              "      <th>305</th>\n",
              "      <td>69</td>\n",
              "      <td>paid</td>\n",
              "      <td>PUT</td>\n",
              "      <td>NextSong</td>\n",
              "      <td>185</td>\n",
              "      <td>2018-11-20 18:59:12</td>\n",
              "      <td>100014</td>\n",
              "      <td>1</td>\n",
              "    </tr>\n",
              "    <tr>\n",
              "      <th>306</th>\n",
              "      <td>70</td>\n",
              "      <td>paid</td>\n",
              "      <td>PUT</td>\n",
              "      <td>NextSong</td>\n",
              "      <td>185</td>\n",
              "      <td>2018-11-20 19:03:48</td>\n",
              "      <td>100014</td>\n",
              "      <td>1</td>\n",
              "    </tr>\n",
              "    <tr>\n",
              "      <th>307</th>\n",
              "      <td>71</td>\n",
              "      <td>paid</td>\n",
              "      <td>GET</td>\n",
              "      <td>Downgrade</td>\n",
              "      <td>185</td>\n",
              "      <td>2018-11-20 19:04:01</td>\n",
              "      <td>100014</td>\n",
              "      <td>1</td>\n",
              "    </tr>\n",
              "    <tr>\n",
              "      <th>308</th>\n",
              "      <td>72</td>\n",
              "      <td>paid</td>\n",
              "      <td>PUT</td>\n",
              "      <td>Cancel</td>\n",
              "      <td>185</td>\n",
              "      <td>2018-11-20 19:04:02</td>\n",
              "      <td>100014</td>\n",
              "      <td>1</td>\n",
              "    </tr>\n",
              "    <tr>\n",
              "      <th>309</th>\n",
              "      <td>73</td>\n",
              "      <td>paid</td>\n",
              "      <td>GET</td>\n",
              "      <td>Cancellation Confirmation</td>\n",
              "      <td>185</td>\n",
              "      <td>2018-11-20 19:04:09</td>\n",
              "      <td>100014</td>\n",
              "      <td>1</td>\n",
              "    </tr>\n",
              "  </tbody>\n",
              "</table>\n",
              "<p>310 rows × 8 columns</p>\n",
              "</div>\n",
              "    <div class=\"colab-df-buttons\">\n",
              "\n",
              "  <div class=\"colab-df-container\">\n",
              "    <button class=\"colab-df-convert\" onclick=\"convertToInteractive('df-2394ee82-4818-4a39-ac6d-c82dc4370e4e')\"\n",
              "            title=\"Convert this dataframe to an interactive table.\"\n",
              "            style=\"display:none;\">\n",
              "\n",
              "  <svg xmlns=\"http://www.w3.org/2000/svg\" height=\"24px\" viewBox=\"0 -960 960 960\">\n",
              "    <path d=\"M120-120v-720h720v720H120Zm60-500h600v-160H180v160Zm220 220h160v-160H400v160Zm0 220h160v-160H400v160ZM180-400h160v-160H180v160Zm440 0h160v-160H620v160ZM180-180h160v-160H180v160Zm440 0h160v-160H620v160Z\"/>\n",
              "  </svg>\n",
              "    </button>\n",
              "\n",
              "  <style>\n",
              "    .colab-df-container {\n",
              "      display:flex;\n",
              "      gap: 12px;\n",
              "    }\n",
              "\n",
              "    .colab-df-convert {\n",
              "      background-color: #E8F0FE;\n",
              "      border: none;\n",
              "      border-radius: 50%;\n",
              "      cursor: pointer;\n",
              "      display: none;\n",
              "      fill: #1967D2;\n",
              "      height: 32px;\n",
              "      padding: 0 0 0 0;\n",
              "      width: 32px;\n",
              "    }\n",
              "\n",
              "    .colab-df-convert:hover {\n",
              "      background-color: #E2EBFA;\n",
              "      box-shadow: 0px 1px 2px rgba(60, 64, 67, 0.3), 0px 1px 3px 1px rgba(60, 64, 67, 0.15);\n",
              "      fill: #174EA6;\n",
              "    }\n",
              "\n",
              "    .colab-df-buttons div {\n",
              "      margin-bottom: 4px;\n",
              "    }\n",
              "\n",
              "    [theme=dark] .colab-df-convert {\n",
              "      background-color: #3B4455;\n",
              "      fill: #D2E3FC;\n",
              "    }\n",
              "\n",
              "    [theme=dark] .colab-df-convert:hover {\n",
              "      background-color: #434B5C;\n",
              "      box-shadow: 0px 1px 3px 1px rgba(0, 0, 0, 0.15);\n",
              "      filter: drop-shadow(0px 1px 2px rgba(0, 0, 0, 0.3));\n",
              "      fill: #FFFFFF;\n",
              "    }\n",
              "  </style>\n",
              "\n",
              "    <script>\n",
              "      const buttonEl =\n",
              "        document.querySelector('#df-2394ee82-4818-4a39-ac6d-c82dc4370e4e button.colab-df-convert');\n",
              "      buttonEl.style.display =\n",
              "        google.colab.kernel.accessAllowed ? 'block' : 'none';\n",
              "\n",
              "      async function convertToInteractive(key) {\n",
              "        const element = document.querySelector('#df-2394ee82-4818-4a39-ac6d-c82dc4370e4e');\n",
              "        const dataTable =\n",
              "          await google.colab.kernel.invokeFunction('convertToInteractive',\n",
              "                                                    [key], {});\n",
              "        if (!dataTable) return;\n",
              "\n",
              "        const docLinkHtml = 'Like what you see? Visit the ' +\n",
              "          '<a target=\"_blank\" href=https://colab.research.google.com/notebooks/data_table.ipynb>data table notebook</a>'\n",
              "          + ' to learn more about interactive tables.';\n",
              "        element.innerHTML = '';\n",
              "        dataTable['output_type'] = 'display_data';\n",
              "        await google.colab.output.renderOutput(dataTable, element);\n",
              "        const docLink = document.createElement('div');\n",
              "        docLink.innerHTML = docLinkHtml;\n",
              "        element.appendChild(docLink);\n",
              "      }\n",
              "    </script>\n",
              "  </div>\n",
              "\n",
              "\n",
              "<div id=\"df-f819f232-e731-46e8-9d40-87d8e76e76ab\">\n",
              "  <button class=\"colab-df-quickchart\" onclick=\"quickchart('df-f819f232-e731-46e8-9d40-87d8e76e76ab')\"\n",
              "            title=\"Suggest charts\"\n",
              "            style=\"display:none;\">\n",
              "\n",
              "<svg xmlns=\"http://www.w3.org/2000/svg\" height=\"24px\"viewBox=\"0 0 24 24\"\n",
              "     width=\"24px\">\n",
              "    <g>\n",
              "        <path d=\"M19 3H5c-1.1 0-2 .9-2 2v14c0 1.1.9 2 2 2h14c1.1 0 2-.9 2-2V5c0-1.1-.9-2-2-2zM9 17H7v-7h2v7zm4 0h-2V7h2v10zm4 0h-2v-4h2v4z\"/>\n",
              "    </g>\n",
              "</svg>\n",
              "  </button>\n",
              "\n",
              "<style>\n",
              "  .colab-df-quickchart {\n",
              "      --bg-color: #E8F0FE;\n",
              "      --fill-color: #1967D2;\n",
              "      --hover-bg-color: #E2EBFA;\n",
              "      --hover-fill-color: #174EA6;\n",
              "      --disabled-fill-color: #AAA;\n",
              "      --disabled-bg-color: #DDD;\n",
              "  }\n",
              "\n",
              "  [theme=dark] .colab-df-quickchart {\n",
              "      --bg-color: #3B4455;\n",
              "      --fill-color: #D2E3FC;\n",
              "      --hover-bg-color: #434B5C;\n",
              "      --hover-fill-color: #FFFFFF;\n",
              "      --disabled-bg-color: #3B4455;\n",
              "      --disabled-fill-color: #666;\n",
              "  }\n",
              "\n",
              "  .colab-df-quickchart {\n",
              "    background-color: var(--bg-color);\n",
              "    border: none;\n",
              "    border-radius: 50%;\n",
              "    cursor: pointer;\n",
              "    display: none;\n",
              "    fill: var(--fill-color);\n",
              "    height: 32px;\n",
              "    padding: 0;\n",
              "    width: 32px;\n",
              "  }\n",
              "\n",
              "  .colab-df-quickchart:hover {\n",
              "    background-color: var(--hover-bg-color);\n",
              "    box-shadow: 0 1px 2px rgba(60, 64, 67, 0.3), 0 1px 3px 1px rgba(60, 64, 67, 0.15);\n",
              "    fill: var(--button-hover-fill-color);\n",
              "  }\n",
              "\n",
              "  .colab-df-quickchart-complete:disabled,\n",
              "  .colab-df-quickchart-complete:disabled:hover {\n",
              "    background-color: var(--disabled-bg-color);\n",
              "    fill: var(--disabled-fill-color);\n",
              "    box-shadow: none;\n",
              "  }\n",
              "\n",
              "  .colab-df-spinner {\n",
              "    border: 2px solid var(--fill-color);\n",
              "    border-color: transparent;\n",
              "    border-bottom-color: var(--fill-color);\n",
              "    animation:\n",
              "      spin 1s steps(1) infinite;\n",
              "  }\n",
              "\n",
              "  @keyframes spin {\n",
              "    0% {\n",
              "      border-color: transparent;\n",
              "      border-bottom-color: var(--fill-color);\n",
              "      border-left-color: var(--fill-color);\n",
              "    }\n",
              "    20% {\n",
              "      border-color: transparent;\n",
              "      border-left-color: var(--fill-color);\n",
              "      border-top-color: var(--fill-color);\n",
              "    }\n",
              "    30% {\n",
              "      border-color: transparent;\n",
              "      border-left-color: var(--fill-color);\n",
              "      border-top-color: var(--fill-color);\n",
              "      border-right-color: var(--fill-color);\n",
              "    }\n",
              "    40% {\n",
              "      border-color: transparent;\n",
              "      border-right-color: var(--fill-color);\n",
              "      border-top-color: var(--fill-color);\n",
              "    }\n",
              "    60% {\n",
              "      border-color: transparent;\n",
              "      border-right-color: var(--fill-color);\n",
              "    }\n",
              "    80% {\n",
              "      border-color: transparent;\n",
              "      border-right-color: var(--fill-color);\n",
              "      border-bottom-color: var(--fill-color);\n",
              "    }\n",
              "    90% {\n",
              "      border-color: transparent;\n",
              "      border-bottom-color: var(--fill-color);\n",
              "    }\n",
              "  }\n",
              "</style>\n",
              "\n",
              "  <script>\n",
              "    async function quickchart(key) {\n",
              "      const quickchartButtonEl =\n",
              "        document.querySelector('#' + key + ' button');\n",
              "      quickchartButtonEl.disabled = true;  // To prevent multiple clicks.\n",
              "      quickchartButtonEl.classList.add('colab-df-spinner');\n",
              "      try {\n",
              "        const charts = await google.colab.kernel.invokeFunction(\n",
              "            'suggestCharts', [key], {});\n",
              "      } catch (error) {\n",
              "        console.error('Error during call to suggestCharts:', error);\n",
              "      }\n",
              "      quickchartButtonEl.classList.remove('colab-df-spinner');\n",
              "      quickchartButtonEl.classList.add('colab-df-quickchart-complete');\n",
              "    }\n",
              "    (() => {\n",
              "      let quickchartButtonEl =\n",
              "        document.querySelector('#df-f819f232-e731-46e8-9d40-87d8e76e76ab button');\n",
              "      quickchartButtonEl.style.display =\n",
              "        google.colab.kernel.accessAllowed ? 'block' : 'none';\n",
              "    })();\n",
              "  </script>\n",
              "</div>\n",
              "\n",
              "    </div>\n",
              "  </div>\n"
            ],
            "application/vnd.google.colaboratory.intrinsic+json": {
              "type": "dataframe",
              "summary": "{\n  \"name\": \"df_clean\",\n  \"rows\": 310,\n  \"fields\": [\n    {\n      \"column\": \"itemInSession\",\n      \"properties\": {\n        \"dtype\": \"number\",\n        \"std\": 23,\n        \"min\": 0,\n        \"max\": 94,\n        \"num_unique_values\": 95,\n        \"samples\": [\n          68,\n          22,\n          72\n        ],\n        \"semantic_type\": \"\",\n        \"description\": \"\"\n      }\n    },\n    {\n      \"column\": \"level\",\n      \"properties\": {\n        \"dtype\": \"category\",\n        \"num_unique_values\": 1,\n        \"samples\": [\n          \"paid\"\n        ],\n        \"semantic_type\": \"\",\n        \"description\": \"\"\n      }\n    },\n    {\n      \"column\": \"method\",\n      \"properties\": {\n        \"dtype\": \"category\",\n        \"num_unique_values\": 2,\n        \"samples\": [\n          \"GET\"\n        ],\n        \"semantic_type\": \"\",\n        \"description\": \"\"\n      }\n    },\n    {\n      \"column\": \"page\",\n      \"properties\": {\n        \"dtype\": \"category\",\n        \"num_unique_values\": 13,\n        \"samples\": [\n          \"Cancel\"\n        ],\n        \"semantic_type\": \"\",\n        \"description\": \"\"\n      }\n    },\n    {\n      \"column\": \"sessionId\",\n      \"properties\": {\n        \"dtype\": \"number\",\n        \"std\": 49,\n        \"min\": 37,\n        \"max\": 185,\n        \"num_unique_values\": 6,\n        \"samples\": [\n          37\n        ],\n        \"semantic_type\": \"\",\n        \"description\": \"\"\n      }\n    },\n    {\n      \"column\": \"ts\",\n      \"properties\": {\n        \"dtype\": \"object\",\n        \"num_unique_values\": 309,\n        \"samples\": [\n          \"2018-11-20 18:09:52\"\n        ],\n        \"semantic_type\": \"\",\n        \"description\": \"\"\n      }\n    },\n    {\n      \"column\": \"userId\",\n      \"properties\": {\n        \"dtype\": \"category\",\n        \"num_unique_values\": 1,\n        \"samples\": [\n          \"100014\"\n        ],\n        \"semantic_type\": \"\",\n        \"description\": \"\"\n      }\n    },\n    {\n      \"column\": \"churn\",\n      \"properties\": {\n        \"dtype\": \"int32\",\n        \"num_unique_values\": 1,\n        \"samples\": [\n          1\n        ],\n        \"semantic_type\": \"\",\n        \"description\": \"\"\n      }\n    }\n  ]\n}"
            }
          },
          "metadata": {},
          "execution_count": 47
        }
      ],
      "source": [
        "# show all events related to a churned user\n",
        "df_clean.select(['itemInSession', 'level', 'method', 'page', 'sessionId', 'ts', 'userId', 'churn']).where(col('userId') == 100014).toPandas()"
      ]
    },
    {
      "cell_type": "code",
      "execution_count": 48,
      "metadata": {
        "colab": {
          "base_uri": "https://localhost:8080/"
        },
        "id": "-0lTowcditHa",
        "outputId": "e7e921ae-facb-4dc3-91df-a99065da21b8"
      },
      "outputs": [
        {
          "output_type": "stream",
          "name": "stdout",
          "text": [
            "Number of events (rows) in dataset: 278154\n",
            "Number of unique users: 225\n",
            "Number of users that have churned: 52\n",
            "Number of active users (not churned): 173\n"
          ]
        }
      ],
      "source": [
        "# number of rows/events in dataframe\n",
        "print('Number of events (rows) in dataset: {}'.format(df_clean.count()))\n",
        "\n",
        "# number of unique userId's in dataframe\n",
        "print('Number of unique users: {}'.format(df_clean.select('userId').distinct().count()))\n",
        "\n",
        "# number of users that have churned\n",
        "print('Number of users that have churned: {}'.format(\n",
        "df_clean.where(col('churn') == 1).groupBy('userId').count().count()))\n",
        "\n",
        "# number of active users (not churned)\n",
        "print('Number of active users (not churned): {}'.format(\n",
        "df_clean.where(col('churn') == 0).groupBy('userId').count().count()))"
      ]
    },
    {
      "cell_type": "code",
      "execution_count": 49,
      "metadata": {
        "colab": {
          "base_uri": "https://localhost:8080/"
        },
        "id": "VJK0vYlMi1r1",
        "outputId": "38801abe-9126-4da4-88bd-8c2a56a0110c"
      },
      "outputs": [
        {
          "output_type": "execute_result",
          "data": {
            "text/plain": [
              "page\n",
              "Downgrade      19\n",
              "Roll Advert    14\n",
              "Settings       14\n",
              "Thumbs Down     4\n",
              "Add Friend      1\n",
              "Name: count, dtype: int64"
            ]
          },
          "metadata": {},
          "execution_count": 49
        }
      ],
      "source": [
        "# convert dataframe to pandas dataframe\n",
        "df_clean_pd = df_clean.toPandas()\n",
        "\n",
        "# create filter with rows that have the value 'Cancel' in column 'page'\n",
        "filter = df_clean_pd.loc[df_clean_pd['page'] == 'Cancel'].index\n",
        "\n",
        "# use filter to select rows before rows in filter to see what user did before the event 'Cancel'\n",
        "df_clean_pd.iloc[filter-1].page.value_counts(ascending=False)"
      ]
    },
    {
      "cell_type": "code",
      "execution_count": 50,
      "metadata": {
        "colab": {
          "base_uri": "https://localhost:8080/"
        },
        "id": "LpHyJaTGjB0q",
        "outputId": "f2e6bd2c-3278-4b98-b726-4d5d743fe248"
      },
      "outputs": [
        {
          "output_type": "execute_result",
          "data": {
            "text/plain": [
              "Timedelta('0 days 00:00:01')"
            ]
          },
          "metadata": {},
          "execution_count": 50
        }
      ],
      "source": [
        "# create ts (timestamp) arrays with the time for the event of cancelling and the time for the last event\n",
        "# before cancelling\n",
        "ts_cancel = pd.to_datetime(df_clean_pd.loc[df_clean_pd['page'] == 'Cancel'].ts.values)\n",
        "ts_before_cancel = pd.to_datetime(df_clean_pd.iloc[filter-1].ts.values)\n",
        "\n",
        "# create pandas series with the time difference between cancelling and the last event before cancelling\n",
        "ts_diff = pd.Series(ts_cancel - ts_before_cancel)\n",
        "# average time differene between cancelling and the last event before cancelling\n",
        "ts_diff.mean()"
      ]
    },
    {
      "cell_type": "code",
      "execution_count": 51,
      "metadata": {
        "colab": {
          "base_uri": "https://localhost:8080/"
        },
        "id": "Qo7NhjEsjFU0",
        "outputId": "c4910463-57fc-4aab-ed19-cda157a4f325"
      },
      "outputs": [
        {
          "output_type": "stream",
          "name": "stdout",
          "text": [
            "Average number of interactions (events) for churned users: 863\n",
            "Average number of interactions (events) for active users: 1348\n",
            "\n",
            "Average number of sessions for churned users: 10\n",
            "Average number of sessions for active users: 15\n",
            "\n",
            "Average number of items in a session for churned users: 84\n",
            "Average number of items in a session for active users: 88\n"
          ]
        }
      ],
      "source": [
        "# average number of events/interactions per user\n",
        "print('Average number of interactions (events) for churned users: {:.0f}'.format(\n",
        "    df_clean.where(col('churn') == 1).count() /\n",
        "    df_clean.where(col('churn') == 1).groupBy('userId').count().count()))\n",
        "\n",
        "print('Average number of interactions (events) for active users: {:.0f}'.format(\n",
        "    df_clean.where(col('churn') == 0).count() /\n",
        "    df_clean.where(col('churn') == 0).groupBy('userId').count().count()))\n",
        "\n",
        "print('')\n",
        "\n",
        "# average number of sessions per user\n",
        "print('Average number of sessions for churned users: {:.0f}'.format(\n",
        "    df_clean.where(col('churn') == 1).groupBy('userId', 'sessionId').count().count() /\n",
        "    df_clean.where(col('churn') == 1).groupBy('userId').count().count()))\n",
        "\n",
        "print('Average number of sessions for active users: {:.0f}'.format(\n",
        "    df_clean.where(col('churn') == 0).groupBy('userId', 'sessionId').count().count() /\n",
        "    df_clean.where(col('churn') == 0).groupBy('userId').count().count()))\n",
        "\n",
        "print('')\n",
        "\n",
        "# average number of items in a session per user\n",
        "print('Average number of items in a session for churned users: {:.0f}'.format(\n",
        "    df_clean.where(col('churn') == 1).count() /\n",
        "    df_clean.where(col('churn') == 1).groupBy('userId', 'sessionId').count().count()))\n",
        "\n",
        "print('Average number of items in a session for active users: {:.0f}'.format(\n",
        "    df_clean.where(col('churn') == 0).count() /\n",
        "    df_clean.where(col('churn') == 0).groupBy('userId', 'sessionId').count().count()))"
      ]
    },
    {
      "cell_type": "code",
      "execution_count": 52,
      "metadata": {
        "colab": {
          "base_uri": "https://localhost:8080/",
          "height": 824
        },
        "id": "23Ex5udIjQee",
        "outputId": "fc27e529-f894-43e6-adae-9215ee5b2735"
      },
      "outputs": [
        {
          "output_type": "display_data",
          "data": {
            "text/plain": [
              "<Figure size 1000x600 with 1 Axes>"
            ],
            "image/png": "[encoded data removed]"
          },
          "metadata": {}
        },
        {
          "output_type": "stream",
          "name": "stdout",
          "text": [
            "\n",
            "Average session length for churned users (hours):\n",
            "+-------------------+\n",
            "|avg(session_length)|\n",
            "+-------------------+\n",
            "|  4.718692338992486|\n",
            "+-------------------+\n",
            "\n",
            "Average session length for active users (hours):\n",
            "+-------------------+\n",
            "|avg(session_length)|\n",
            "+-------------------+\n",
            "|  5.047589365434434|\n",
            "+-------------------+\n",
            "\n"
          ]
        }
      ],
      "source": [
        "# average session length per user\n",
        "# udf to convert time to correct format and show time difference in hours\n",
        "# source: https://stackoverflow.com/questions/30283415/calculating-duration-by-subtracting-two-datetime-columns-in-string-format\n",
        "time_delta = udf(lambda y, x: (datetime.datetime.strptime(y, '%Y-%m-%d %H:%M:%S') -\n",
        "                               datetime.datetime.strptime(x, '%Y-%m-%d %H:%M:%S')).total_seconds()/3600)\n",
        "\n",
        "# create dataframe with first timestamp (ts) per session\n",
        "# add column 'churn' and set as 1 for rows with churned user\n",
        "df_min = df_clean.groupBy('userId', 'sessionId').agg(min('ts').alias('min_ts'))\n",
        "df_min = df_min.withColumn('churn', when((df_min.userId).isin(churned_users), 1).otherwise(0))\n",
        "\n",
        "# create dataframe with last timestamp (ts) per session\n",
        "df_max = df_clean.groupBy('userId', 'sessionId').agg(max('ts').alias('max_ts'))\n",
        "\n",
        "# join dataframes\n",
        "df_ts = df_min.join(df_max, on=['userId', 'sessionId'])\n",
        "\n",
        "# apply udf when calculating and creating new column with time difference\n",
        "df_ts = df_ts.withColumn('session_length', time_delta(df_ts['max_ts'], df_ts['min_ts']).cast('float'))\n",
        "\n",
        "# graph of session length per user group\n",
        "# store columns to be used as pandas dataframe\n",
        "df_ts_pd = df_ts.select('churn', 'session_length').toPandas()\n",
        "\n",
        "# plot results\n",
        "plt.figure(figsize=(10,6))\n",
        "plt.hist(df_ts_pd['session_length'][df_ts_pd['churn'] == 0], label='Active users')\n",
        "plt.hist(df_ts_pd['session_length'][df_ts_pd['churn'] == 1], label='Churned users')\n",
        "plt.legend(loc='upper right')\n",
        "plt.title('Average session length (hours)')\n",
        "plt.xlabel('Average session length per user (hours)')\n",
        "plt.ylabel('Count')\n",
        "plt.show()\n",
        "\n",
        "print('')\n",
        "\n",
        "# average session length for churned users\n",
        "print('Average session length for churned users (hours):')\n",
        "df_ts.where(col('churn') == 1).agg(avg('session_length')).show()\n",
        "\n",
        "# average session length for active users\n",
        "print('Average session length for active users (hours):')\n",
        "df_ts.where(col('churn') == 0).agg(avg('session_length')).show()"
      ]
    },
    {
      "cell_type": "code",
      "execution_count": 53,
      "metadata": {
        "colab": {
          "base_uri": "https://localhost:8080/",
          "height": 824
        },
        "id": "S8M-x7t5joFE",
        "outputId": "fd24b583-eeed-43e6-da6c-69718f9dfcb8"
      },
      "outputs": [
        {
          "output_type": "display_data",
          "data": {
            "text/plain": [
              "<Figure size 1000x600 with 1 Axes>"
            ],
            "image/png": "[encoded data removed]"
          },
          "metadata": {}
        },
        {
          "output_type": "stream",
          "name": "stdout",
          "text": [
            "\n",
            "Average number of days registered for churned users:\n",
            "+--------------------+\n",
            "|avg(days_registered)|\n",
            "+--------------------+\n",
            "|   67.64847093437946|\n",
            "+--------------------+\n",
            "\n",
            "Average number of days registered for active users:\n",
            "+--------------------+\n",
            "|avg(days_registered)|\n",
            "+--------------------+\n",
            "|   92.97668995670625|\n",
            "+--------------------+\n",
            "\n"
          ]
        }
      ],
      "source": [
        " # average registration/usage length per user (days from registration date to ts for latest event)\n",
        "# create dataframe with last timestamp (ts) per user\n",
        "df_last = df_clean.groupBy('userId').agg(max('ts').alias('last_interaction'))\n",
        "\n",
        "# join dataframes and add column 'days_registered' with number of days from registration date to ts for last event\n",
        "df_reg = df_last.join(df_clean, on='userId').select(\n",
        "    df_last['*'], df_clean['registration'], df_clean['churn']).withColumn(\n",
        "    'days_registered', datediff(df_last['last_interaction'], df_clean['registration']))\n",
        "\n",
        "# graph of number of days registered per user group\n",
        "# store columns to be used as pandas dataframe\n",
        "df_reg_pd = df_reg.select('churn', 'days_registered').toPandas()\n",
        "\n",
        "# plot results\n",
        "plt.figure(figsize=(10,6))\n",
        "plt.hist(df_reg_pd['days_registered'][df_reg_pd['churn'] == 0], label='Active users')\n",
        "plt.hist(df_reg_pd['days_registered'][df_reg_pd['churn'] == 1], label='Churned users')\n",
        "plt.legend(loc='upper right')\n",
        "plt.title('Days registered')\n",
        "plt.xlabel('Number of days registered per user')\n",
        "plt.ylabel('Count')\n",
        "plt.show()\n",
        "\n",
        "print('')\n",
        "\n",
        "# get average number of days registered for churned users\n",
        "print('Average number of days registered for churned users:')\n",
        "df_reg.where(col('churn') == 1).agg(avg('days_registered')).show()\n",
        "\n",
        "# get average number of days registered for active users\n",
        "print('Average number of days registered for active users:')\n",
        "df_reg.where(col('churn') == 0).agg(avg('days_registered')).show()"
      ]
    },
    {
      "cell_type": "code",
      "execution_count": 54,
      "metadata": {
        "colab": {
          "base_uri": "https://localhost:8080/"
        },
        "id": "cIqrraqFj23f",
        "outputId": "4e4eb915-ec33-4640-e24a-88d61db74854"
      },
      "outputs": [
        {
          "output_type": "stream",
          "name": "stdout",
          "text": [
            "Average number of unique artists played per churned user: 162\n",
            "Average number of unique artists played per active user: 96\n",
            "\n",
            "Average number of unique songs played per churned user: 370\n",
            "Average number of unique songs played per active user: 308\n"
          ]
        }
      ],
      "source": [
        "# average number of unique artists played per user\n",
        "print('Average number of unique artists played per churned user: {:.0f}'.format(\n",
        "    df_clean.where(col('churn') == 1).groupBy('artist').count().count() / df_clean.where(\n",
        "    col('churn') == 1).groupBy('userId').count().count()))\n",
        "\n",
        "print('Average number of unique artists played per active user: {:.0f}'.format(\n",
        "    df_clean.where(col('churn') == 0).groupBy('artist').count().count() / df_clean.where(\n",
        "    col('churn') == 0).groupBy('userId').count().count()))\n",
        "\n",
        "print('')\n",
        "\n",
        "# average number of unique songs played per user\n",
        "print('Average number of unique songs played per churned user: {:.0f}'.format(\n",
        "    df_clean.where(col('churn') == 1).groupBy('song').count().count() / df_clean.where(\n",
        "    col('churn') == 1).groupBy('userId').count().count()))\n",
        "\n",
        "print('Average number of unique songs played per active user: {:.0f}'.format(\n",
        "    df_clean.where(col('churn') == 0).groupBy('song').count().count() / df_clean.where(\n",
        "    col('churn') == 0).groupBy('userId').count().count()))"
      ]
    },
    {
      "cell_type": "code",
      "execution_count": 55,
      "metadata": {
        "colab": {
          "base_uri": "https://localhost:8080/"
        },
        "id": "92-DMDUVkOhJ",
        "outputId": "98258939-85c3-4f09-c5c8-ccb3b298826e"
      },
      "outputs": [
        {
          "output_type": "stream",
          "name": "stdout",
          "text": [
            "Average number of unique artists played per session for churned users: 16\n",
            "Average number of unique artists played per session for active users: 6\n",
            "\n",
            "Average number of unique songs played per session for churned users: 36\n",
            "Average number of unique songs played per session for active users: 20\n"
          ]
        }
      ],
      "source": [
        "# average number of unique artists played per session\n",
        "print('Average number of unique artists played per session for churned users: {:.0f}'.format(\n",
        "    df_clean.where(col('churn') == 1).groupBy('artist').count().count() / df_clean.where(\n",
        "    col('churn') == 1).groupBy('userId', 'sessionId').count().count()))\n",
        "\n",
        "print('Average number of unique artists played per session for active users: {:.0f}'.format(\n",
        "    df_clean.where(col('churn') == 0).groupBy('artist').count().count() / df_clean.where(\n",
        "    col('churn') == 0).groupBy('userId', 'sessionId').count().count()))\n",
        "\n",
        "print('')\n",
        "\n",
        "# average number of unique songs played per session\n",
        "print('Average number of unique songs played per session for churned users: {:.0f}'.format(\n",
        "    df_clean.where(col('churn') == 1).groupBy('song').count().count() / df_clean.where(\n",
        "    col('churn') == 1).groupBy('userId', 'sessionId').count().count()))\n",
        "\n",
        "print('Average number of unique songs played per session for active users: {:.0f}'.format(\n",
        "    df_clean.where(col('churn') == 0).groupBy('song').count().count() / df_clean.where(\n",
        "    col('churn') == 0).groupBy('userId', 'sessionId').count().count()))"
      ]
    },
    {
      "cell_type": "code",
      "execution_count": 56,
      "metadata": {
        "colab": {
          "base_uri": "https://localhost:8080/"
        },
        "id": "JHf1Nx_mkWEz",
        "outputId": "efcca350-ce19-432c-8f33-e1e32cf5d520"
      },
      "outputs": [
        {
          "output_type": "stream",
          "name": "stdout",
          "text": [
            "Share of churned users that are on a paid plan: 44%\n",
            "Share of churned users that are on a free plan: 56%\n",
            "\n",
            "Share of active users that are on a paid plan: 46%\n",
            "Share of active users that are on a free plan: 54%\n"
          ]
        }
      ],
      "source": [
        "# percent paid and free plans of churned users\n",
        "print('Share of churned users that are on a paid plan: {:.0f}%'.format(\n",
        "    df_clean.where((df_clean.level == 'paid') & (df_clean.churn == 1)).groupBy('userId').count().count() /\n",
        "    df_clean.where(df_clean.churn == 1).groupBy('userId', 'level').count().count() * 100))\n",
        "\n",
        "print('Share of churned users that are on a free plan: {:.0f}%'.format(\n",
        "    df_clean.where((df_clean.level == 'free') & (df_clean.churn == 1)).groupBy('userId').count().count() /\n",
        "    df_clean.where(df_clean.churn == 1).groupBy('userId', 'level').count().count() * 100))\n",
        "\n",
        "print('')\n",
        "\n",
        "# percent paid and free plans of active users\n",
        "print('Share of active users that are on a paid plan: {:.0f}%'.format(\n",
        "    df_clean.where((df_clean.level == 'paid') & (df_clean.churn == 0)).groupBy('userId').count().count() /\n",
        "    df_clean.where(df_clean.churn == 0).groupBy('userId', 'level').count().count() * 100))\n",
        "\n",
        "print('Share of active users that are on a free plan: {:.0f}%'.format(\n",
        "    df_clean.where((df_clean.level == 'free') & (df_clean.churn == 0)).groupBy('userId').count().count() /\n",
        "    df_clean.where(df_clean.churn == 0).groupBy('userId', 'level').count().count() * 100))"
      ]
    },
    {
      "cell_type": "code",
      "execution_count": 57,
      "metadata": {
        "colab": {
          "base_uri": "https://localhost:8080/",
          "height": 1000
        },
        "id": "IczGyxkskffy",
        "outputId": "da20ccd8-8f6b-40b1-f1fe-24fd83a7beac"
      },
      "outputs": [
        {
          "output_type": "display_data",
          "data": {
            "text/plain": [
              "<Figure size 1500x1000 with 1 Axes>"
            ],
            "image/png": "[encoded data removed]"
          },
          "metadata": {}
        },
        {
          "output_type": "stream",
          "name": "stdout",
          "text": [
            "\n",
            "Number of events per page type for all events with a churned user:\n",
            "+--------------------+-----+\n",
            "|                page|count|\n",
            "+--------------------+-----+\n",
            "|            NextSong|36394|\n",
            "|           Thumbs Up| 1859|\n",
            "|                Home| 1672|\n",
            "|     Add to Playlist| 1038|\n",
            "|         Roll Advert|  967|\n",
            "|          Add Friend|  636|\n",
            "|              Logout|  553|\n",
            "|         Thumbs Down|  496|\n",
            "|           Downgrade|  337|\n",
            "|            Settings|  270|\n",
            "|                Help|  239|\n",
            "|             Upgrade|  112|\n",
            "|       Save Settings|   58|\n",
            "|               About|   56|\n",
            "|              Cancel|   52|\n",
            "|Cancellation Conf...|   52|\n",
            "|               Error|   32|\n",
            "|      Submit Upgrade|   32|\n",
            "|    Submit Downgrade|    9|\n",
            "+--------------------+-----+\n",
            "\n",
            "Number of events per page type for all events with active users:\n",
            "+----------------+------+\n",
            "|            page| count|\n",
            "+----------------+------+\n",
            "|        NextSong|191714|\n",
            "|       Thumbs Up| 10692|\n",
            "|            Home|  8410|\n",
            "| Add to Playlist|  5488|\n",
            "|      Add Friend|  3641|\n",
            "|     Roll Advert|  2966|\n",
            "|          Logout|  2673|\n",
            "|     Thumbs Down|  2050|\n",
            "|       Downgrade|  1718|\n",
            "|        Settings|  1244|\n",
            "|            Help|  1215|\n",
            "|           About|   439|\n",
            "|         Upgrade|   387|\n",
            "|   Save Settings|   252|\n",
            "|           Error|   220|\n",
            "|  Submit Upgrade|   127|\n",
            "|Submit Downgrade|    54|\n",
            "+----------------+------+\n",
            "\n"
          ]
        }
      ],
      "source": [
        "# graph of number of events per page type per user group\n",
        "# plot results as proportions instead of counts\n",
        "# source: https://stackoverflow.com/questions/35692781/python-plotting-percentage-in-seaborn-bar-plot\n",
        "plt.figure(figsize=(15,10))\n",
        "\n",
        "df_page_pd = df_clean.select('churn', 'page').toPandas()\n",
        "x, y, hue = 'page', 'proportion', 'churn'\n",
        "hue_order = ['Active users', 'Churned users']\n",
        "\n",
        "(df_page_pd[x]\n",
        " .groupby(df_page_pd[hue])\n",
        " .value_counts(normalize=True)\n",
        " .rename(y)\n",
        " .reset_index()\n",
        " .pipe((sns.barplot, 'data'), x=x, y=y, hue=hue))\n",
        "\n",
        "plt.legend(loc='upper right', title='Churn')\n",
        "plt.title('Number of events per page type (proportion of user group)')\n",
        "plt.xlabel('Page')\n",
        "plt.ylabel('Proportion')\n",
        "plt.xticks(rotation=90)\n",
        "plt.show()\n",
        "\n",
        "print('')\n",
        "\n",
        "print('Number of events per page type for all events with a churned user:')\n",
        "\n",
        "df_clean.where(col('churn') == 1).groupBy('page').count().sort(desc('count')).show()\n",
        "\n",
        "print('Number of events per page type for all events with active users:')\n",
        "df_clean.where(col('churn') == 0).groupBy('page').count().sort(desc('count')).show()"
      ]
    },
    {
      "cell_type": "code",
      "execution_count": 58,
      "metadata": {
        "colab": {
          "base_uri": "https://localhost:8080/"
        },
        "id": "DG6diX3Dkk1a",
        "outputId": "6f21130d-817c-428c-f8bf-2326ed9d84c3"
      },
      "outputs": [
        {
          "output_type": "stream",
          "name": "stdout",
          "text": [
            "Average number of songs played for churned users: 700\n",
            "Average number of songs played for active users: 1108\n"
          ]
        }
      ],
      "source": [
        "# average number of songes played for churned and active users\n",
        "print('Average number of songs played for churned users: {:.0f}'.format(\n",
        "    df_clean.where((df_clean.page == 'NextSong') & (df_clean.churn == 1)).count() /\n",
        "    df_clean.where(df_clean.churn == 1).groupBy('userId').count().count()))\n",
        "\n",
        "print('Average number of songs played for active users: {:.0f}'.format(\n",
        "    df_clean.where((df_clean.page == 'NextSong') & (df_clean.churn == 0)).count() /\n",
        "    df_clean.where(df_clean.churn == 0).groupBy('userId').count().count()))"
      ]
    },
    {
      "cell_type": "code",
      "execution_count": 59,
      "metadata": {
        "colab": {
          "base_uri": "https://localhost:8080/"
        },
        "id": "PDGBNsMWk6Gg",
        "outputId": "095022b4-46f1-4a6d-fc8b-1b6c3fc745e2"
      },
      "outputs": [
        {
          "output_type": "stream",
          "name": "stdout",
          "text": [
            "Average number of thumbs up for churned users: 36\n",
            "Average number of thumbs up for active users: 62\n"
          ]
        }
      ],
      "source": [
        "# average number of thumbs up for churned and active users\n",
        "print('Average number of thumbs up for churned users: {:.0f}'.format(\n",
        "    df_clean.where((df_clean.page == 'Thumbs Up') & (df_clean.churn == 1)).count() /\n",
        "    df_clean.where(df_clean.churn == 1).groupBy('userId').count().count()))\n",
        "\n",
        "print('Average number of thumbs up for active users: {:.0f}'.format(\n",
        "    df_clean.where((df_clean.page == 'Thumbs Up') & (df_clean.churn == 0)).count() /\n",
        "    df_clean.where(df_clean.churn == 0).groupBy('userId').count().count()))"
      ]
    },
    {
      "cell_type": "code",
      "execution_count": 60,
      "metadata": {
        "colab": {
          "base_uri": "https://localhost:8080/"
        },
        "id": "TQ2NLU3uk-ub",
        "outputId": "5bc0811e-ab27-4f3c-9ee1-0353825bd421"
      },
      "outputs": [
        {
          "output_type": "stream",
          "name": "stdout",
          "text": [
            "Average number of home page visits for churned users: 32\n",
            "Average number of home page visits for active users: 49\n"
          ]
        }
      ],
      "source": [
        "# average number of home page visits for churned and active users\n",
        "print('Average number of home page visits for churned users: {:.0f}'.format(\n",
        "    df_clean.where((df_clean.page == 'Home') & (df_clean.churn == 1)).count() /\n",
        "    df_clean.where(df_clean.churn == 1).groupBy('userId').count().count()))\n",
        "\n",
        "print('Average number of home page visits for active users: {:.0f}'.format(\n",
        "    df_clean.where((df_clean.page == 'Home') & (df_clean.churn == 0)).count() /\n",
        "    df_clean.where(df_clean.churn == 0).groupBy('userId').count().count()))"
      ]
    },
    {
      "cell_type": "code",
      "execution_count": 61,
      "metadata": {
        "colab": {
          "base_uri": "https://localhost:8080/"
        },
        "id": "DG3IH5gtlFyN",
        "outputId": "5f298d6c-eb8d-4616-ff78-cfa944d4f115"
      },
      "outputs": [
        {
          "output_type": "stream",
          "name": "stdout",
          "text": [
            "Average number of added friends for churned users: 12\n",
            "Average number of added friends for active users: 21\n"
          ]
        }
      ],
      "source": [
        "# average number of added friends for churned and active users\n",
        "print('Average number of added friends for churned users: {:.0f}'.format(\n",
        "    df_clean.where((df_clean.page == 'Add Friend') & (df_clean.churn == 1)).count() /\n",
        "    df_clean.where(df_clean.churn == 1).groupBy('userId').count().count()))\n",
        "\n",
        "print('Average number of added friends for active users: {:.0f}'.format(\n",
        "    df_clean.where((df_clean.page == 'Add Friend') & (df_clean.churn == 0)).count() /\n",
        "    df_clean.where(df_clean.churn == 0).groupBy('userId').count().count()))"
      ]
    },
    {
      "cell_type": "code",
      "execution_count": 62,
      "metadata": {
        "colab": {
          "base_uri": "https://localhost:8080/"
        },
        "id": "gxQTkDrFlKMj",
        "outputId": "129376e7-01ff-4627-9beb-dd0ee05796f7"
      },
      "outputs": [
        {
          "output_type": "stream",
          "name": "stdout",
          "text": [
            "Average number of ads received for churned users: 19\n",
            "Average number of ads received for active users: 17\n"
          ]
        }
      ],
      "source": [
        "# average number of ads received for churned and active users\n",
        "print('Average number of ads received for churned users: {:.0f}'.format(\n",
        "    df_clean.where((df_clean.page == 'Roll Advert') & (df_clean.churn == 1)).count() /\n",
        "    df_clean.where(df_clean.churn == 1).groupBy('userId').count().count()))\n",
        "\n",
        "print('Average number of ads received for active users: {:.0f}'.format(\n",
        "    df_clean.where((df_clean.page == 'Roll Advert') & (df_clean.churn == 0)).count() /\n",
        "    df_clean.where(df_clean.churn == 0).groupBy('userId').count().count()))"
      ]
    },
    {
      "cell_type": "code",
      "execution_count": 63,
      "metadata": {
        "colab": {
          "base_uri": "https://localhost:8080/"
        },
        "id": "3yoJSBIClQ3k",
        "outputId": "2bfd1c2d-4eab-4d10-8c6e-1a05b8488b61"
      },
      "outputs": [
        {
          "output_type": "stream",
          "name": "stdout",
          "text": [
            "Average number of logouts for churned users: 11\n",
            "Average number of logouts for active users: 15\n"
          ]
        }
      ],
      "source": [
        "# average number of logouts for churned and active users\n",
        "print('Average number of logouts for churned users: {:.0f}'.format(\n",
        "    df_clean.where((df_clean.page == 'Logout') & (df_clean.churn == 1)).count() /\n",
        "    df_clean.where(df_clean.churn == 1).groupBy('userId').count().count()))\n",
        "\n",
        "print('Average number of logouts for active users: {:.0f}'.format(\n",
        "    df_clean.where((df_clean.page == 'Logout') & (df_clean.churn == 0)).count() /\n",
        "    df_clean.where(df_clean.churn == 0).groupBy('userId').count().count()))"
      ]
    },
    {
      "cell_type": "code",
      "execution_count": 64,
      "metadata": {
        "colab": {
          "base_uri": "https://localhost:8080/"
        },
        "id": "3XKpi7zUlUqj",
        "outputId": "192a3f13-5005-4aa4-c8fd-afb95b6a9720"
      },
      "outputs": [
        {
          "output_type": "stream",
          "name": "stdout",
          "text": [
            "Average number of thumbs down for churned users: 10\n",
            "Average number of thumbs down for active users: 12\n"
          ]
        }
      ],
      "source": [
        "# average number of thumbs down for churned and active users\n",
        "print('Average number of thumbs down for churned users: {:.0f}'.format(\n",
        "    df_clean.where((df_clean.page == 'Thumbs Down') & (df_clean.churn == 1)).count() /\n",
        "    df_clean.where(df_clean.churn == 1).groupBy('userId').count().count()))\n",
        "\n",
        "print('Average number of thumbs down for active users: {:.0f}'.format(\n",
        "    df_clean.where((df_clean.page == 'Thumbs Down') & (df_clean.churn == 0)).count() /\n",
        "    df_clean.where(df_clean.churn == 0).groupBy('userId').count().count()))"
      ]
    },
    {
      "cell_type": "code",
      "execution_count": 65,
      "metadata": {
        "colab": {
          "base_uri": "https://localhost:8080/"
        },
        "id": "k-Y0jc_0lcpH",
        "outputId": "4cad00b0-4f8a-47d8-dffb-2f08dbe7fcf1"
      },
      "outputs": [
        {
          "output_type": "stream",
          "name": "stdout",
          "text": [
            "Average number of settings page visits for churned users: 5\n",
            "Average number of settings page visits for active users: 7\n"
          ]
        }
      ],
      "source": [
        "# average number of settings page visits for churned and active users\n",
        "print('Average number of settings page visits for churned users: {:.0f}'.format(\n",
        "    df_clean.where((df_clean.page == 'Settings') & (df_clean.churn == 1)).count() /\n",
        "    df_clean.where(df_clean.churn == 1).groupBy('userId').count().count()))\n",
        "\n",
        "print('Average number of settings page visits for active users: {:.0f}'.format(\n",
        "    df_clean.where((df_clean.page == 'Settings') & (df_clean.churn == 0)).count() /\n",
        "    df_clean.where(df_clean.churn == 0).groupBy('userId').count().count()))"
      ]
    },
    {
      "cell_type": "code",
      "execution_count": 66,
      "metadata": {
        "colab": {
          "base_uri": "https://localhost:8080/"
        },
        "id": "FVC57zw8lfNG",
        "outputId": "432d5504-c402-421d-cb15-1fb4209afa74"
      },
      "outputs": [
        {
          "output_type": "stream",
          "name": "stdout",
          "text": [
            "Average number of plan upgrades for churned users: 2\n",
            "Average number of plan upgrades for active users: 2\n"
          ]
        }
      ],
      "source": [
        "# average number of plan upgrades for churned and active users\n",
        "print('Average number of plan upgrades for churned users: {:.0f}'.format(\n",
        "    df_clean.where((df_clean.page == 'Upgrade') & (df_clean.churn == 1)).count() /\n",
        "    df_clean.where(df_clean.churn == 1).groupBy('userId').count().count()))\n",
        "\n",
        "print('Average number of plan upgrades for active users: {:.0f}'.format(\n",
        "    df_clean.where((df_clean.page == 'Upgrade') & (df_clean.churn == 0)).count() /\n",
        "    df_clean.where(df_clean.churn == 0).groupBy('userId').count().count()))"
      ]
    },
    {
      "cell_type": "code",
      "execution_count": 67,
      "metadata": {
        "colab": {
          "base_uri": "https://localhost:8080/"
        },
        "id": "Uv80lKVmljQQ",
        "outputId": "4551705a-df5d-4d83-feda-08bebe6949b0"
      },
      "outputs": [
        {
          "output_type": "stream",
          "name": "stdout",
          "text": [
            "Number of female users in dataset: 104\n",
            "Number of male users in dataset: 121\n"
          ]
        }
      ],
      "source": [
        "# number of females in dataset\n",
        "print('Number of female users in dataset: {:.0f}'.format(\n",
        "df_clean.where(df_clean.gender == 'F').groupBy('userId').count().count()))\n",
        "\n",
        "# number of males in dataset\n",
        "print('Number of male users in dataset: {:.0f}'.format(\n",
        "df_clean.where(df_clean.gender == 'M').groupBy('userId').count().count()))"
      ]
    },
    {
      "cell_type": "code",
      "execution_count": 68,
      "metadata": {
        "colab": {
          "base_uri": "https://localhost:8080/"
        },
        "id": "Js5WJs0FlmzD",
        "outputId": "2b1539b9-8377-4d7f-b70e-d94ab58898c0"
      },
      "outputs": [
        {
          "output_type": "stream",
          "name": "stdout",
          "text": [
            "Percentage of all events that where made by females: 56%\n",
            "Percentage of all events that where made by males: 44%\n"
          ]
        }
      ],
      "source": [
        "# percent female of all events\n",
        "print('Percentage of all events that where made by females: {:.0f}%'.format(\n",
        "df_clean.where(df_clean.gender == 'F').count() / df_clean.count() * 100))\n",
        "\n",
        "# percent male of all events\n",
        "print('Percentage of all events that where made by males: {:.0f}%'.format(\n",
        "df_clean.where(df_clean.gender == 'M').count() / df_clean.count() * 100))"
      ]
    },
    {
      "cell_type": "code",
      "execution_count": 69,
      "metadata": {
        "colab": {
          "base_uri": "https://localhost:8080/",
          "height": 893
        },
        "id": "Nhu2HfbalqHA",
        "outputId": "256ccf7a-8a28-47f2-86f3-5b31dfd6aca7"
      },
      "outputs": [
        {
          "output_type": "display_data",
          "data": {
            "text/plain": [
              "<Figure size 1500x1000 with 1 Axes>"
            ],
            "image/png": "[encoded data removed]"
          },
          "metadata": {}
        },
        {
          "output_type": "stream",
          "name": "stdout",
          "text": [
            "\n",
            "Share of churned users that are male: 62%\n",
            "Share of churned users that are female: 38%\n",
            "\n",
            "Share of active users that are male: 51%\n",
            "Share of active users that are female: 49%\n"
          ]
        }
      ],
      "source": [
        "# graph of gender proportion for all events per user group\n",
        "plt.figure(figsize=(15,10))\n",
        "\n",
        "df_gender_pd = df_clean.select('churn', 'gender').toPandas()\n",
        "x, y, hue = 'gender', 'proportion', 'churn'\n",
        "hue_order = ['Active users', 'Churned users']\n",
        "\n",
        "(df_gender_pd[x]\n",
        " .groupby(df_gender_pd[hue])\n",
        " .value_counts(normalize=True)\n",
        " .rename(y)\n",
        " .reset_index()\n",
        " .pipe((sns.barplot, 'data'), x=x, y=y, hue=hue))\n",
        "\n",
        "plt.legend(loc='upper right', title='Churn')\n",
        "plt.title('Gender distribution for all events (proportion of user group)')\n",
        "plt.xlabel('Gender')\n",
        "plt.ylabel('Proportion')\n",
        "plt.show()\n",
        "\n",
        "print('')\n",
        "\n",
        "# percent males and females of churned users\n",
        "print('Share of churned users that are male: {:.0f}%'.format(\n",
        "    df_clean.where((df_clean.gender == 'M') & (df_clean.churn == 1)).groupBy('userId').count().count() /\n",
        "    df_clean.where(df_clean.churn == 1).groupBy('userId', 'gender').count().count() * 100))\n",
        "\n",
        "print('Share of churned users that are female: {:.0f}%'.format(\n",
        "    df_clean.where((df_clean.gender == 'F') & (df_clean.churn == 1)).groupBy('userId').count().count() /\n",
        "    df_clean.where(df_clean.churn == 1).groupBy('userId', 'gender').count().count() * 100))\n",
        "print('')\n",
        "\n",
        "# percent males and females of active users\n",
        "print('Share of active users that are male: {:.0f}%'.format(\n",
        "    df_clean.where((df_clean.gender == 'M') & (df_clean.churn == 0)).groupBy('userId').count().count() /\n",
        "    df_clean.where(df_clean.churn == 0).groupBy('userId', 'gender').count().count() * 100))\n",
        "\n",
        "print('Share of active users that are female: {:.0f}%'.format(\n",
        "    df_clean.where((df_clean.gender == 'F') & (df_clean.churn == 0)).groupBy('userId').count().count() /\n",
        "    df_clean.where(df_clean.churn == 0).groupBy('userId', 'gender').count().count() * 100))"
      ]
    },
    {
      "cell_type": "code",
      "execution_count": 70,
      "metadata": {
        "colab": {
          "base_uri": "https://localhost:8080/"
        },
        "id": "dqoKc7jTnQ-B",
        "outputId": "5c87f983-6724-48e2-b700-31f3d20d64c2"
      },
      "outputs": [
        {
          "output_type": "stream",
          "name": "stdout",
          "text": [
            "Share of females that are churned users: 19%\n",
            "Share of females that are active users: 81%\n",
            "\n",
            "Share of males that are churned users: 26%\n",
            "Share of males that are active users: 74%\n"
          ]
        }
      ],
      "source": [
        "# percent churned and active of all females\n",
        "print('Share of females that are churned users: {:.0f}%'.format(\n",
        "    df_clean.where((df_clean.gender == 'F') & (df_clean.churn == 1)).groupBy('userId').count().count() /\n",
        "    df_clean.where(df_clean.gender == 'F').groupBy('userId').count().count() * 100))\n",
        "\n",
        "print('Share of females that are active users: {:.0f}%'.format(\n",
        "    df_clean.where((df_clean.gender == 'F') & (df_clean.churn == 0)).groupBy('userId').count().count() /\n",
        "    df_clean.where(df_clean.gender == 'F').groupBy('userId').count().count() * 100))\n",
        "\n",
        "print('')\n",
        "\n",
        "# percent churned and active of all males\n",
        "print('Share of males that are churned users: {:.0f}%'.format(\n",
        "    df_clean.where((df_clean.gender == 'M') & (df_clean.churn == 1)).groupBy('userId').count().count() /\n",
        "    df_clean.where(df_clean.gender == 'M').groupBy('userId').count().count() * 100))\n",
        "\n",
        "print('Share of males that are active users: {:.0f}%'.format(\n",
        "    df_clean.where((df_clean.gender == 'M') & (df_clean.churn == 0)).groupBy('userId').count().count() /\n",
        "    df_clean.where(df_clean.gender == 'M').groupBy('userId').count().count() * 100))"
      ]
    },
    {
      "cell_type": "code",
      "execution_count": 71,
      "metadata": {
        "colab": {
          "base_uri": "https://localhost:8080/",
          "height": 1000
        },
        "id": "NNF01O6An5lI",
        "outputId": "0d0fa85e-a90c-4ccd-8c63-421d0e81631c"
      },
      "outputs": [
        {
          "output_type": "display_data",
          "data": {
            "text/plain": [
              "<Figure size 1500x1000 with 1 Axes>"
            ],
            "image/png": "[encoded data removed]"
          },
          "metadata": {}
        },
        {
          "output_type": "stream",
          "name": "stdout",
          "text": [
            "\n",
            "States for all events with a churned user:\n",
            "+-----+-----+\n",
            "|state|count|\n",
            "+-----+-----+\n",
            "|   CA| 7613|\n",
            "|   CO| 4317|\n",
            "|   MS| 3839|\n",
            "|   WA| 3526|\n",
            "|   NY| 3356|\n",
            "|   OH| 3173|\n",
            "|   KY| 3016|\n",
            "|   AL| 2102|\n",
            "|   MI| 1958|\n",
            "|   FL| 1763|\n",
            "|   IL| 1603|\n",
            "|   PA| 1580|\n",
            "|   MO| 1361|\n",
            "|   TX| 1294|\n",
            "|   NC| 1050|\n",
            "|   IN|  918|\n",
            "|   AR|  520|\n",
            "|   SC|  494|\n",
            "|   MD|  268|\n",
            "|   MT|  254|\n",
            "|   AZ|  251|\n",
            "|   LA|  216|\n",
            "|   DC|  158|\n",
            "|   VA|  149|\n",
            "|   TN|   62|\n",
            "|   OR|   23|\n",
            "+-----+-----+\n",
            "\n",
            "States for all events with an active user:\n",
            "+-----+-----+\n",
            "|state|count|\n",
            "+-----+-----+\n",
            "|   CA|39158|\n",
            "|   NY|24864|\n",
            "|   TX|22200|\n",
            "|   NC|17418|\n",
            "|   MA|13873|\n",
            "|   FL|11427|\n",
            "|   PA| 8048|\n",
            "|   KY| 7326|\n",
            "|   NJ| 7001|\n",
            "|   GA| 6952|\n",
            "|   CT| 6720|\n",
            "|   IL| 6616|\n",
            "|   MO| 6059|\n",
            "|   MI| 5258|\n",
            "|   NH| 4764|\n",
            "|   VA| 4748|\n",
            "|   AZ| 4595|\n",
            "|   AK| 3563|\n",
            "|   TN| 3535|\n",
            "|   MD| 3424|\n",
            "|   CO| 3176|\n",
            "|   DC| 2932|\n",
            "|   WV| 2278|\n",
            "|   MN| 2241|\n",
            "|   MT| 2132|\n",
            "|   NV| 2042|\n",
            "|   OK| 1842|\n",
            "|   UT| 1419|\n",
            "|   WI| 1342|\n",
            "|   SC| 1011|\n",
            "|   LA|  955|\n",
            "|   RI|  927|\n",
            "|   MS|  795|\n",
            "|   AL|  755|\n",
            "|   IA|  651|\n",
            "|   OH|  347|\n",
            "|   IN|  344|\n",
            "|   WA|  246|\n",
            "|   NE|  187|\n",
            "|   OR|  119|\n",
            "+-----+-----+\n",
            "\n"
          ]
        }
      ],
      "source": [
        "# graph of location distribution for all events per user group\n",
        "plt.figure(figsize=(15,10))\n",
        "\n",
        "df_location_pd = df_clean.select('churn', 'state').toPandas()\n",
        "x, y, hue = 'state', 'proportion', 'churn'\n",
        "hue_order = ['Active users', 'Churned users']\n",
        "\n",
        "(df_location_pd[x]\n",
        " .groupby(df_location_pd[hue])\n",
        " .value_counts(normalize=True)\n",
        " .rename(y)\n",
        " .reset_index()\n",
        " .pipe((sns.barplot, 'data'), x=x, y=y, hue=hue))\n",
        "\n",
        "plt.legend(loc='upper right', title='Churn')\n",
        "plt.title('Location distribution for all events (proportion of user group)')\n",
        "plt.xlabel('State')\n",
        "plt.ylabel('Proportion')\n",
        "plt.xticks(rotation=90)\n",
        "plt.show()\n",
        "\n",
        "print('')\n",
        "\n",
        "print('States for all events with a churned user:')\n",
        "df_clean.where(col('churn') == 1).groupBy('state').count().sort(desc('count')).show(40)\n",
        "\n",
        "print('States for all events with an active user:')\n",
        "df_clean.where(col('churn') == 0).groupBy('state').count().sort(desc('count')).show(40)"
      ]
    },
    {
      "cell_type": "markdown",
      "metadata": {
        "id": "Ql6z1pvJoEa6"
      },
      "source": [
        "**Feature Engineering**"
      ]
    },
    {
      "cell_type": "code",
      "execution_count": 72,
      "metadata": {
        "id": "JhhHid_Qn_k5"
      },
      "outputs": [],
      "source": [
        "# calculate and add new columns\n",
        "\n",
        "# create partitions\n",
        "w1 = Window.partitionBy('userId')\n",
        "w2 = Window.partitionBy('userId', 'sessionId')\n",
        "w3 = Window.partitionBy('userId', 'artist')\n",
        "w4 = Window.partitionBy('userId', 'song')\n",
        "\n",
        "# total_events - column with total number of events per user\n",
        "# create dataframe with row counts per user\n",
        "df_events = df_clean.select('userId', count('userId').over(w1).alias('total_events')).distinct()\n",
        "df_events = df_events.select(col('userId').alias('userId1'), 'total_events')\n",
        "\n",
        "# total_sessions - column with total number of sessions per user\n",
        "# create dataframe with session counts per user\n",
        "df_sessions = df_clean.select('userId', 'sessionId', count('userId').over(w2).alias('count')).distinct()\n",
        "df_sessions = df_sessions.withColumn('total_sessions', count('sessionId').over(w1))\n",
        "df_sessions = df_sessions.dropDuplicates(['userId'])\n",
        "df_sessions = df_sessions.select(col('userId').alias('userId2'), 'total_sessions')\n",
        "\n",
        "# min_ts_session and max_ts_session - columns with timestamp from first and latest event per user and session\n",
        "# session_length - column with session length in hours per session\n",
        "# avg_session_length - column with average session length per user\n",
        "# udf to convert time to correct format and show time difference in hours\n",
        "time_delta = udf(lambda y, x: (datetime.datetime.strptime(y, '%Y-%m-%d %H:%M:%S') -\n",
        "                                   datetime.datetime.strptime(x, '%Y-%m-%d %H:%M:%S')).total_seconds()/3600)\n",
        "\n",
        "# create columns with timestamp (ts) from first and latest event per user and session\n",
        "df_clean = df_clean.withColumn('min_ts_session', min('ts').over(w2))\n",
        "df_clean = df_clean.withColumn('max_ts_session', max('ts').over(w2))\n",
        "\n",
        "# apply udf when creating column with time difference (in hours)\n",
        "df_clean = df_clean.withColumn('session_length', time_delta(df_clean['max_ts_session'],\n",
        "                                                            df_clean['min_ts_session']).cast('float'))\n",
        "\n",
        "# create column with average session length per user (in hours)\n",
        "df_clean = df_clean.withColumn('avg_session_length', avg('session_length').over(w1))\n",
        "\n",
        "# latest_ts and days_registered - columns with timestamp from latest event and with number of days registered\n",
        "# create column with timestamp (ts) from latest event per user\n",
        "df_clean = df_clean.withColumn('latest_ts', max('ts').over(w1))\n",
        "\n",
        "# create column 'days_registered'\n",
        "df_clean = df_clean.withColumn('days_registered', datediff(df_clean['latest_ts'], df_clean['registration']))\n",
        "\n",
        "# unique_artists - column with number of unique artists played per user\n",
        "# create dataframe with artist counts per user\n",
        "df_artist = df_clean.select('userId', 'artist', count('userId').over(w3).alias('count')).distinct()\n",
        "df_artist = df_artist.withColumn('unique_artists', count('artist').over(w1))\n",
        "df_artist = df_artist.dropDuplicates(['userId'])\n",
        "df_artist = df_artist.select(col('userId').alias('userId3'), 'unique_artists')\n",
        "\n",
        "# unique_songs - column with number of unique songs played per user\n",
        "# create dataframe with song counts per user\n",
        "df_song = df_clean.select('userId', 'song', count('userId').over(w4).alias('count')).distinct()\n",
        "df_song = df_song.withColumn('unique_songs', count('song').over(w1))\n",
        "df_song = df_song.dropDuplicates(['userId'])\n",
        "df_song = df_song.select(col('userId').alias('userId4'), 'unique_songs')\n",
        "\n",
        "# total_nextsong - column with number of 'NextSong' events per user\n",
        "# create dataframe with 'page = NextSong' counts per user\n",
        "df_nextsong = df_clean.where(df_clean.page == 'NextSong').select(\n",
        "    'userId', count('userId').over(w1).alias('total_nextsong')).distinct()\n",
        "df_nextsong = df_nextsong.select(col('userId').alias('userId5'), 'total_nextsong')\n",
        "\n",
        "# total_thumbsup - column with number of 'Thumbs Up' events per user\n",
        "# create dataframe with 'page = Thumbs Up' counts per user\n",
        "df_thumbsup = df_clean.where(df_clean.page == 'Thumbs Up').select(\n",
        "    'userId', count('userId').over(w1).alias('total_thumbsup')).distinct()\n",
        "df_thumbsup = df_thumbsup.select(col('userId').alias('userId6'), 'total_thumbsup')\n",
        "\n",
        "\n",
        "# total_home - column with number of 'Home' events per user\n",
        "# create dataframe with 'page = Home' counts per user\n",
        "df_home = df_clean.where(df_clean.page == 'Home').select(\n",
        "    'userId', count('userId').over(w1).alias('total_home')).distinct()\n",
        "df_home = df_home.select(col('userId').alias('userId7'), 'total_home')\n",
        "\n",
        "# total_addfriend - column with number of 'Add Friend' events per user\n",
        "# create dataframe with 'page = Add Friend' counts per user\n",
        "df_addfriend = df_clean.where(df_clean.page == 'Add Friend').select(\n",
        "    'userId', count('userId').over(w1).alias('total_addfriend')).distinct()\n",
        "df_addfriend = df_addfriend.select(col('userId').alias('userId8'), 'total_addfriend')\n",
        "\n",
        "# total_rolladvert - column with number of 'Roll Advert' events per user\n",
        "# create dataframe with 'page = Roll Advert' counts per user\n",
        "df_rolladvert = df_clean.where(df_clean.page == 'Roll Advert').select(\n",
        "    'userId', count('userId').over(w1).alias('total_rolladvert')).distinct()\n",
        "df_rolladvert = df_rolladvert.select(col('userId').alias('userId9'), 'total_rolladvert')\n",
        "\n",
        "# latest_event - column indicating row with latest event per user\n",
        "df_clean = df_clean.withColumn('latest_event', when(df_clean.latest_ts == df_clean.ts, 1).otherwise(0))\n",
        "\n",
        "# keep only row with latest event per user in data to be used for modeling\n",
        "df_ml = df_clean.where(col('latest_event') == 1)\n",
        "\n",
        "# drop duplicates from dataframe\n",
        "df_ml = df_ml.dropDuplicates(['userId'])\n",
        "\n",
        "# recode 'gender' to numerical binary\n",
        "df_ml = df_ml.withColumn('gender', when(df_ml.gender == 'F', 1).otherwise(0))\n",
        "\n",
        "# only keep columns to be used in modeling and replace NaN with 0\n",
        "df_ml = df_ml.select('userId', 'churn', 'gender', 'state', 'avg_session_length',\n",
        "                     'days_registered', ).fillna(0)\n",
        "\n",
        "# add columns to df_ml and replace NaN with 0 for column\n",
        "# add column 'total_events'\n",
        "df_ml = df_ml.join(df_events, df_ml.userId == df_events.userId1, how='left').select(\n",
        "    df_ml['*'], df_events['total_events']).fillna(0, subset=['total_events'])\n",
        "\n",
        "# add column 'total_sessions'\n",
        "df_ml = df_ml.join(df_sessions, df_ml.userId == df_sessions.userId2, how='left').select(\n",
        "    df_ml['*'], df_sessions['total_sessions']).fillna(0, subset=['total_sessions'])\n",
        "\n",
        "# add column 'unique_artists'\n",
        "df_ml = df_ml.join(df_artist, df_ml.userId == df_artist.userId3, how='left').select(\n",
        "    df_ml['*'], df_artist['unique_artists']).fillna(0, subset=['unique_artists'])\n",
        "\n",
        "# add column 'unique_songs'\n",
        "df_ml = df_ml.join(df_song, df_ml.userId == df_song.userId4, how='left').select(\n",
        "    df_ml['*'], df_song['unique_songs']).fillna(0, subset=['unique_songs'])\n",
        "\n",
        "# add column 'total_nextsong'\n",
        "df_ml = df_ml.join(df_nextsong, df_ml.userId == df_nextsong.userId5, how='left').select(\n",
        "    df_ml['*'], df_nextsong['total_nextsong']).fillna(0, subset=['total_nextsong'])\n",
        "\n",
        "# add column 'total_thumbsup'\n",
        "df_ml = df_ml.join(df_thumbsup, df_ml.userId == df_thumbsup.userId6, how='left').select(\n",
        "    df_ml['*'], df_thumbsup['total_thumbsup']).fillna(0, subset=['total_thumbsup'])\n",
        "\n",
        "# add column 'total_home'\n",
        "df_ml = df_ml.join(df_home, df_ml.userId == df_home.userId7, how='left').select(\n",
        "    df_ml['*'], df_home['total_home']).fillna(0, subset=['total_home'])\n",
        "\n",
        "# add column 'total_addfriend'\n",
        "df_ml = df_ml.join(df_addfriend, df_ml.userId == df_addfriend.userId8, how='left').select(\n",
        "    df_ml['*'], df_addfriend['total_addfriend']).fillna(0, subset=['total_addfriend'])\n",
        "\n",
        "# add column 'total_rolladvert'\n",
        "df_ml = df_ml.join(df_rolladvert, df_ml.userId == df_rolladvert.userId9, how='left').select(\n",
        "    df_ml['*'], df_rolladvert['total_rolladvert']).fillna(0, subset=['total_rolladvert'])"
      ]
    },
    {
      "cell_type": "code",
      "execution_count": 73,
      "metadata": {
        "colab": {
          "base_uri": "https://localhost:8080/"
        },
        "id": "Z_4_gEmjofJP",
        "outputId": "4d769c51-1f75-4272-c57a-860bc971965c"
      },
      "outputs": [
        {
          "output_type": "stream",
          "name": "stdout",
          "text": [
            "root\n",
            " |-- userId: string (nullable = true)\n",
            " |-- churn: integer (nullable = false)\n",
            " |-- gender: integer (nullable = false)\n",
            " |-- state: string (nullable = true)\n",
            " |-- avg_session_length: double (nullable = false)\n",
            " |-- days_registered: integer (nullable = true)\n",
            " |-- total_events: long (nullable = true)\n",
            " |-- total_sessions: long (nullable = true)\n",
            " |-- unique_artists: long (nullable = true)\n",
            " |-- unique_songs: long (nullable = true)\n",
            " |-- total_nextsong: long (nullable = true)\n",
            " |-- total_thumbsup: long (nullable = true)\n",
            " |-- total_home: long (nullable = true)\n",
            " |-- total_addfriend: long (nullable = true)\n",
            " |-- total_rolladvert: long (nullable = true)\n",
            "\n"
          ]
        }
      ],
      "source": [
        "df_ml.printSchema()"
      ]
    },
    {
      "cell_type": "code",
      "execution_count": 74,
      "metadata": {
        "colab": {
          "base_uri": "https://localhost:8080/"
        },
        "id": "4EOXnoBTogjH",
        "outputId": "9812ef44-bc0b-4199-f618-98869fe074f5"
      },
      "outputs": [
        {
          "output_type": "execute_result",
          "data": {
            "text/plain": [
              "DataFrame[userId: string, churn: int, gender: int, state: string, avg_session_length: double, days_registered: int, total_events: bigint, total_sessions: bigint, unique_artists: bigint, unique_songs: bigint, total_nextsong: bigint, total_thumbsup: bigint, total_home: bigint, total_addfriend: bigint, total_rolladvert: bigint]"
            ]
          },
          "metadata": {},
          "execution_count": 74
        }
      ],
      "source": [
        "df_ml.cache()"
      ]
    },
    {
      "cell_type": "code",
      "execution_count": 75,
      "metadata": {
        "colab": {
          "base_uri": "https://localhost:8080/",
          "height": 736
        },
        "id": "rncG-qTCokFN",
        "outputId": "8774678a-efca-4f86-a77b-f50320dff33c"
      },
      "outputs": [
        {
          "output_type": "display_data",
          "data": {
            "text/plain": [
              "<Figure size 600x600 with 1 Axes>"
            ],
            "image/png": "[encoded data removed]"
          },
          "metadata": {}
        },
        {
          "output_type": "stream",
          "name": "stdout",
          "text": [
            "Basic statistics for churned users:\n",
            "Basic statistics for active users:\n"
          ]
        },
        {
          "output_type": "execute_result",
          "data": {
            "text/plain": [
              "count     173.000000\n",
              "mean     1348.497110\n",
              "std      1425.428637\n",
              "min         6.000000\n",
              "25%       321.000000\n",
              "50%       940.000000\n",
              "75%      2005.000000\n",
              "max      9632.000000\n",
              "dtype: float64"
            ]
          },
          "metadata": {},
          "execution_count": 75
        }
      ],
      "source": [
        "# plot total_events\n",
        "# store column values as array\n",
        "churn = df_ml.select('total_events').where(df_ml['churn'] == 1).toPandas()\n",
        "active = df_ml.select('total_events').where(df_ml['churn'] == 0).toPandas()\n",
        "\n",
        "churn = churn['total_events'].tolist()\n",
        "active = active['total_events'].tolist()\n",
        "\n",
        "# plot boxplots of both arrays in the same plot\n",
        "data = [churn, active]\n",
        "fig, ax = plt.subplots(figsize=(6,6))\n",
        "ax.boxplot(data)\n",
        "ax.set_xticklabels(['Churned', 'Active'])\n",
        "plt.title('Total events')\n",
        "plt.show()\n",
        "\n",
        "# plot basic statistics\n",
        "print('Basic statistics for churned users:')\n",
        "churn = pd.Series(churn)\n",
        "churn.describe()\n",
        "\n",
        "print('Basic statistics for active users:')\n",
        "active = pd.Series(active)\n",
        "active.describe()"
      ]
    },
    {
      "cell_type": "code",
      "execution_count": 76,
      "metadata": {
        "colab": {
          "base_uri": "https://localhost:8080/",
          "height": 736
        },
        "id": "I8vi9mTMo_OY",
        "outputId": "e28d7cc5-cd5b-484b-9f2f-003c7345b8ea"
      },
      "outputs": [
        {
          "output_type": "display_data",
          "data": {
            "text/plain": [
              "<Figure size 600x600 with 1 Axes>"
            ],
            "image/png": "[encoded data removed]"
          },
          "metadata": {}
        },
        {
          "output_type": "stream",
          "name": "stdout",
          "text": [
            "Basic statistics for churned users:\n",
            "Basic statistics for active users:\n"
          ]
        },
        {
          "output_type": "execute_result",
          "data": {
            "text/plain": [
              "count    173.000000\n",
              "mean      10.080304\n",
              "std        6.913497\n",
              "min        0.116667\n",
              "25%        5.094973\n",
              "50%        9.100278\n",
              "75%       13.971460\n",
              "max       43.795572\n",
              "dtype: float64"
            ]
          },
          "metadata": {},
          "execution_count": 76
        }
      ],
      "source": [
        "# plot avg_session_length\n",
        "# store column values as array\n",
        "churn = df_ml.select('avg_session_length').where(df_ml['churn'] == 1).toPandas()\n",
        "active = df_ml.select('avg_session_length').where(df_ml['churn'] == 0).toPandas()\n",
        "\n",
        "churn = churn['avg_session_length'].tolist()\n",
        "active = active['avg_session_length'].tolist()\n",
        "\n",
        "# plot boxplots of both arrays in the same plot\n",
        "data = [churn, active]\n",
        "fig, ax = plt.subplots(figsize=(6,6))\n",
        "ax.boxplot(data)\n",
        "ax.set_xticklabels(['Churned', 'Active'])\n",
        "plt.title('Avg session length')\n",
        "plt.show()\n",
        "\n",
        "# plot basic statistics\n",
        "print('Basic statistics for churned users:')\n",
        "churn = pd.Series(churn)\n",
        "churn.describe()\n",
        "\n",
        "print('Basic statistics for active users:')\n",
        "active = pd.Series(active)\n",
        "active.describe()"
      ]
    },
    {
      "cell_type": "code",
      "execution_count": 77,
      "metadata": {
        "colab": {
          "base_uri": "https://localhost:8080/",
          "height": 736
        },
        "id": "hY2JyeTgpDUP",
        "outputId": "79048f85-5a4e-4f55-e7e4-16cff2ba6012"
      },
      "outputs": [
        {
          "output_type": "display_data",
          "data": {
            "text/plain": [
              "<Figure size 600x600 with 1 Axes>"
            ],
            "image/png": "[encoded data removed]"
          },
          "metadata": {}
        },
        {
          "output_type": "stream",
          "name": "stdout",
          "text": [
            "Basic statistics for churned users:\n",
            "Basic statistics for active users:\n"
          ]
        },
        {
          "output_type": "execute_result",
          "data": {
            "text/plain": [
              "count     173.000000\n",
              "mean      749.786127\n",
              "std       633.235440\n",
              "min         3.000000\n",
              "25%       226.000000\n",
              "50%       587.000000\n",
              "75%      1137.000000\n",
              "max      3544.000000\n",
              "dtype: float64"
            ]
          },
          "metadata": {},
          "execution_count": 77
        }
      ],
      "source": [
        "# plot days_registered\n",
        "# store column values as array\n",
        "churn = df_ml.select('unique_artists').where(df_ml['churn'] == 1).toPandas()\n",
        "active = df_ml.select('unique_artists').where(df_ml['churn'] == 0).toPandas()\n",
        "\n",
        "churn = churn['unique_artists'].tolist()\n",
        "active = active['unique_artists'].tolist()\n",
        "\n",
        "# plot boxplots of both arrays in the same plot\n",
        "data = [churn, active]\n",
        "fig, ax = plt.subplots(figsize=(6,6))\n",
        "ax.boxplot(data)\n",
        "ax.set_xticklabels(['Churned', 'Active'])\n",
        "plt.title('Unique Artists')\n",
        "plt.show()\n",
        "\n",
        "# plot basic statistics\n",
        "print('Basic statistics for churned users:')\n",
        "churn = pd.Series(churn)\n",
        "churn.describe()\n",
        "\n",
        "print('Basic statistics for active users:')\n",
        "active = pd.Series(active)\n",
        "active.describe()"
      ]
    },
    {
      "cell_type": "code",
      "execution_count": 78,
      "metadata": {
        "colab": {
          "base_uri": "https://localhost:8080/",
          "height": 736
        },
        "id": "VYGxzUgVpIes",
        "outputId": "e00b95f6-a1b8-4d15-93ba-ee8b70a21632"
      },
      "outputs": [
        {
          "output_type": "display_data",
          "data": {
            "text/plain": [
              "<Figure size 600x600 with 1 Axes>"
            ],
            "image/png": "[encoded data removed]"
          },
          "metadata": {}
        },
        {
          "output_type": "stream",
          "name": "stdout",
          "text": [
            "Basic statistics for churned users:\n",
            "Basic statistics for active users:\n"
          ]
        },
        {
          "output_type": "execute_result",
          "data": {
            "text/plain": [
              "count     173.000000\n",
              "mean      975.768786\n",
              "std       951.912881\n",
              "min         3.000000\n",
              "25%       239.000000\n",
              "50%       696.000000\n",
              "75%      1477.000000\n",
              "max      5946.000000\n",
              "dtype: float64"
            ]
          },
          "metadata": {},
          "execution_count": 78
        }
      ],
      "source": [
        "# plot avg_session_length\n",
        "# store column values as array\n",
        "churn = df_ml.select('unique_songs').where(df_ml['churn'] == 1).toPandas()\n",
        "active = df_ml.select('unique_songs').where(df_ml['churn'] == 0).toPandas()\n",
        "\n",
        "churn = churn['unique_songs'].tolist()\n",
        "active = active['unique_songs'].tolist()\n",
        "\n",
        "# plot boxplots of both arrays in the same plot\n",
        "data = [churn, active]\n",
        "fig, ax = plt.subplots(figsize=(6,6))\n",
        "ax.boxplot(data)\n",
        "ax.set_xticklabels(['Churned', 'Active'])\n",
        "plt.title('Unique Songs')\n",
        "plt.show()\n",
        "\n",
        "# plot basic statistics\n",
        "print('Basic statistics for churned users:')\n",
        "churn = pd.Series(churn)\n",
        "churn.describe()\n",
        "\n",
        "print('Basic statistics for active users:')\n",
        "active = pd.Series(active)\n",
        "active.describe()"
      ]
    },
    {
      "cell_type": "code",
      "execution_count": 79,
      "metadata": {
        "colab": {
          "base_uri": "https://localhost:8080/",
          "height": 736
        },
        "id": "3sK_oe6WpXS0",
        "outputId": "53b1b78a-d1e8-432f-b3a6-87efa90d512f"
      },
      "outputs": [
        {
          "output_type": "display_data",
          "data": {
            "text/plain": [
              "<Figure size 600x600 with 1 Axes>"
            ],
            "image/png": "[encoded data removed]"
          },
          "metadata": {}
        },
        {
          "output_type": "stream",
          "name": "stdout",
          "text": [
            "Basic statistics for churned users:\n",
            "Basic statistics for active users:\n"
          ]
        },
        {
          "output_type": "execute_result",
          "data": {
            "text/plain": [
              "count     173.000000\n",
              "mean     1108.173410\n",
              "std      1183.146703\n",
              "min         3.000000\n",
              "25%       251.000000\n",
              "50%       747.000000\n",
              "75%      1640.000000\n",
              "max      8002.000000\n",
              "dtype: float64"
            ]
          },
          "metadata": {},
          "execution_count": 79
        }
      ],
      "source": [
        "# plot avg_session_length\n",
        "# store column values as array\n",
        "churn = df_ml.select('total_nextsong').where(df_ml['churn'] == 1).toPandas()\n",
        "active = df_ml.select('total_nextsong').where(df_ml['churn'] == 0).toPandas()\n",
        "\n",
        "churn = churn['total_nextsong'].tolist()\n",
        "active = active['total_nextsong'].tolist()\n",
        "\n",
        "# plot boxplots of both arrays in the same plot\n",
        "data = [churn, active]\n",
        "fig, ax = plt.subplots(figsize=(6,6))\n",
        "ax.boxplot(data)\n",
        "ax.set_xticklabels(['Churned', 'Active'])\n",
        "plt.title('Total NextSong')\n",
        "plt.show()\n",
        "\n",
        "# plot basic statistics\n",
        "print('Basic statistics for churned users:')\n",
        "churn = pd.Series(churn)\n",
        "churn.describe()\n",
        "\n",
        "print('Basic statistics for active users:')\n",
        "active = pd.Series(active)\n",
        "active.describe()"
      ]
    },
    {
      "cell_type": "code",
      "execution_count": 80,
      "metadata": {
        "colab": {
          "base_uri": "https://localhost:8080/",
          "height": 736
        },
        "id": "Ulr2-JL2pffo",
        "outputId": "5864756f-2492-4588-edc1-3a69b77946d1"
      },
      "outputs": [
        {
          "output_type": "display_data",
          "data": {
            "text/plain": [
              "<Figure size 600x600 with 1 Axes>"
            ],
            "image/png": "[encoded data removed]"
          },
          "metadata": {}
        },
        {
          "output_type": "stream",
          "name": "stdout",
          "text": [
            "Basic statistics for churned users:\n",
            "Basic statistics for active users:\n"
          ]
        },
        {
          "output_type": "execute_result",
          "data": {
            "text/plain": [
              "count    173.000000\n",
              "mean      61.803468\n",
              "std       70.416424\n",
              "min        0.000000\n",
              "25%       14.000000\n",
              "50%       41.000000\n",
              "75%       84.000000\n",
              "max      437.000000\n",
              "dtype: float64"
            ]
          },
          "metadata": {},
          "execution_count": 80
        }
      ],
      "source": [
        "# plot avg_session_length\n",
        "# store column values as array\n",
        "churn = df_ml.select('total_thumbsup').where(df_ml['churn'] == 1).toPandas()\n",
        "active = df_ml.select('total_thumbsup').where(df_ml['churn'] == 0).toPandas()\n",
        "\n",
        "churn = churn['total_thumbsup'].tolist()\n",
        "active = active['total_thumbsup'].tolist()\n",
        "\n",
        "# plot boxplots of both arrays in the same plot\n",
        "data = [churn, active]\n",
        "fig, ax = plt.subplots(figsize=(6,6))\n",
        "ax.boxplot(data)\n",
        "ax.set_xticklabels(['Churned', 'Active'])\n",
        "plt.title('Total Thumbsup')\n",
        "plt.show()\n",
        "\n",
        "# plot basic statistics\n",
        "print('Basic statistics for churned users:')\n",
        "churn = pd.Series(churn)\n",
        "churn.describe()\n",
        "\n",
        "print('Basic statistics for active users:')\n",
        "active = pd.Series(active)\n",
        "active.describe()"
      ]
    },
    {
      "cell_type": "code",
      "execution_count": 81,
      "metadata": {
        "colab": {
          "base_uri": "https://localhost:8080/",
          "height": 736
        },
        "id": "ThtD2rA_plL3",
        "outputId": "81935cba-ac6c-4ed2-ab8d-a57151614621"
      },
      "outputs": [
        {
          "output_type": "display_data",
          "data": {
            "text/plain": [
              "<Figure size 600x600 with 1 Axes>"
            ],
            "image/png": "[encoded data removed]"
          },
          "metadata": {}
        },
        {
          "output_type": "stream",
          "name": "stdout",
          "text": [
            "Basic statistics for churned users:\n",
            "Basic statistics for active users:\n"
          ]
        },
        {
          "output_type": "execute_result",
          "data": {
            "text/plain": [
              "count    173.000000\n",
              "mean      48.612717\n",
              "std       50.936181\n",
              "min        0.000000\n",
              "25%       14.000000\n",
              "50%       35.000000\n",
              "75%       69.000000\n",
              "max      355.000000\n",
              "dtype: float64"
            ]
          },
          "metadata": {},
          "execution_count": 81
        }
      ],
      "source": [
        "# plot avg_session_length\n",
        "# store column values as array\n",
        "churn = df_ml.select('total_home').where(df_ml['churn'] == 1).toPandas()\n",
        "active = df_ml.select('total_home').where(df_ml['churn'] == 0).toPandas()\n",
        "\n",
        "churn = churn['total_home'].tolist()\n",
        "active = active['total_home'].tolist()\n",
        "\n",
        "# plot boxplots of both arrays in the same plot\n",
        "data = [churn, active]\n",
        "fig, ax = plt.subplots(figsize=(6,6))\n",
        "ax.boxplot(data)\n",
        "ax.set_xticklabels(['Churned', 'Active'])\n",
        "plt.title('Total Home')\n",
        "plt.show()\n",
        "\n",
        "# plot basic statistics\n",
        "print('Basic statistics for churned users:')\n",
        "churn = pd.Series(churn)\n",
        "churn.describe()\n",
        "\n",
        "print('Basic statistics for active users:')\n",
        "active = pd.Series(active)\n",
        "active.describe()"
      ]
    },
    {
      "cell_type": "code",
      "execution_count": 82,
      "metadata": {
        "colab": {
          "base_uri": "https://localhost:8080/",
          "height": 736
        },
        "id": "-mrmc-6fppno",
        "outputId": "24c1bd72-919d-4c8c-9ec0-fd5c57dd4af7"
      },
      "outputs": [
        {
          "output_type": "display_data",
          "data": {
            "text/plain": [
              "<Figure size 600x600 with 1 Axes>"
            ],
            "image/png": "[encoded data removed]"
          },
          "metadata": {}
        },
        {
          "output_type": "stream",
          "name": "stdout",
          "text": [
            "Basic statistics for churned users:\n",
            "Basic statistics for active users:\n"
          ]
        },
        {
          "output_type": "execute_result",
          "data": {
            "text/plain": [
              "count    173.000000\n",
              "mean      21.046243\n",
              "std       22.286667\n",
              "min        0.000000\n",
              "25%        6.000000\n",
              "50%       16.000000\n",
              "75%       28.000000\n",
              "max      143.000000\n",
              "dtype: float64"
            ]
          },
          "metadata": {},
          "execution_count": 82
        }
      ],
      "source": [
        "# plot avg_session_length\n",
        "# store column values as array\n",
        "churn = df_ml.select('total_addfriend').where(df_ml['churn'] == 1).toPandas()\n",
        "active = df_ml.select('total_addfriend').where(df_ml['churn'] == 0).toPandas()\n",
        "\n",
        "churn = churn['total_addfriend'].tolist()\n",
        "active = active['total_addfriend'].tolist()\n",
        "\n",
        "# plot boxplots of both arrays in the same plot\n",
        "data = [churn, active]\n",
        "fig, ax = plt.subplots(figsize=(6,6))\n",
        "ax.boxplot(data)\n",
        "ax.set_xticklabels(['Churned', 'Active'])\n",
        "plt.title('Total AddFriend')\n",
        "plt.show()\n",
        "\n",
        "# plot basic statistics\n",
        "print('Basic statistics for churned users:')\n",
        "churn = pd.Series(churn)\n",
        "churn.describe()\n",
        "\n",
        "print('Basic statistics for active users:')\n",
        "active = pd.Series(active)\n",
        "active.describe()"
      ]
    },
    {
      "cell_type": "code",
      "execution_count": 84,
      "metadata": {
        "colab": {
          "base_uri": "https://localhost:8080/",
          "height": 736
        },
        "id": "h0r55FwhhUsE",
        "outputId": "3e9725fd-de35-4504-cba0-16cd91fd70b4"
      },
      "outputs": [
        {
          "output_type": "display_data",
          "data": {
            "text/plain": [
              "<Figure size 600x600 with 1 Axes>"
            ],
            "image/png": "[encoded data removed]"
          },
          "metadata": {}
        },
        {
          "output_type": "stream",
          "name": "stdout",
          "text": [
            "Basic statistics for churned users:\n",
            "Basic statistics for active users:\n"
          ]
        },
        {
          "output_type": "execute_result",
          "data": {
            "text/plain": [
              "count    173.000000\n",
              "mean      17.144509\n",
              "std       21.527077\n",
              "min        0.000000\n",
              "25%        3.000000\n",
              "50%       11.000000\n",
              "75%       21.000000\n",
              "max      128.000000\n",
              "dtype: float64"
            ]
          },
          "metadata": {},
          "execution_count": 84
        }
      ],
      "source": [
        "# plot roll_advert\n",
        "# store column values as array\n",
        "churn = df_ml.select('total_rolladvert').where(df_ml['churn'] == 1).toPandas()\n",
        "active = df_ml.select('total_rolladvert').where(df_ml['churn'] == 0).toPandas()\n",
        "\n",
        "churn = churn['total_rolladvert'].tolist()\n",
        "active = active['total_rolladvert'].tolist()\n",
        "\n",
        "# plot boxplots of both arrays in the same plot\n",
        "data = [churn, active]\n",
        "fig, ax = plt.subplots(figsize=(6,6))\n",
        "ax.boxplot(data)\n",
        "ax.set_xticklabels(['Churned', 'Active'])\n",
        "plt.title('Total RollAdvertisements')\n",
        "plt.show()\n",
        "\n",
        "# plot basic statistics\n",
        "print('Basic statistics for churned users:')\n",
        "churn = pd.Series(churn)\n",
        "churn.describe()\n",
        "\n",
        "print('Basic statistics for active users:')\n",
        "active = pd.Series(active)\n",
        "active.describe()"
      ]
    },
    {
      "cell_type": "code",
      "execution_count": 85,
      "metadata": {
        "colab": {
          "base_uri": "https://localhost:8080/",
          "height": 997
        },
        "id": "U6fxam6NhZDr",
        "outputId": "9b93276f-7d41-40a5-b7c1-24361f05cc7a"
      },
      "outputs": [
        {
          "output_type": "display_data",
          "data": {
            "text/plain": [
              "<Figure size 1500x1200 with 2 Axes>"
            ],
            "image/png": "[encoded data removed]"
          },
          "metadata": {}
        }
      ],
      "source": [
        "import matplotlib.colors as mcolors\n",
        "\n",
        "# Filter out non-numeric columns before computing correlation\n",
        "numeric_cols = [col_name for col_name, dtype in df_ml.dtypes if dtype != 'string']\n",
        "df_numeric = df_ml.select(numeric_cols)\n",
        "\n",
        "# Now compute the correlation matrix\n",
        "df_corr = df_numeric.toPandas().corr()\n",
        "\n",
        "# Plot the correlation matrix\n",
        "plt.figure(figsize=(15,12))\n",
        "plt.title('Correlation between numerical columns')\n",
        "\n",
        "# Create a mask for the upper triangle\n",
        "mask = np.zeros_like(df_corr)\n",
        "mask[np.triu_indices_from(mask)] = True\n",
        "\n",
        "# Create custom color range for heatmap to match other graphs in notebook\n",
        "cmap = mcolors.LinearSegmentedColormap.from_list('n', ['#99E1A8', '#FFFFFF', '#97BFEE'])\n",
        "\n",
        "# Plot heatmap\n",
        "sns.heatmap(df_corr, mask=mask, annot=True, linewidths=0.5, cmap=cmap)\n",
        "plt.show()"
      ]
    },
    {
      "cell_type": "code",
      "execution_count": 86,
      "metadata": {
        "id": "H56nRNlehect"
      },
      "outputs": [],
      "source": [
        "# data modeling preparation pipeline\n",
        "from pyspark.ml.feature import StringIndexer, OneHotEncoder, VectorAssembler, MinMaxScaler\n",
        "from pyspark.ml import Pipeline\n",
        "\n",
        "\n",
        "# list of numerical columns\n",
        "numerical_cols = ['avg_session_length',\n",
        "                  'days_registered',\n",
        "                  'total_events',\n",
        "                  'total_sessions',\n",
        "                  'unique_artists',\n",
        "                  'unique_songs',\n",
        "                  'total_nextsong',\n",
        "                  'total_thumbsup',\n",
        "                  'total_home',\n",
        "                  'total_addfriend',\n",
        "                  'total_rolladvert']\n",
        "\n",
        "# convert sting column to index column\n",
        "indexer = StringIndexer(inputCol='state', outputCol='stateIndex', handleInvalid='keep')\n",
        "inputs = [indexer.getOutputCol(), 'gender']\n",
        "# one hot encode categorical columns to numerical vector columns\n",
        "encoder = OneHotEncoder(inputCols=inputs, outputCols=['stateVec', 'genderVec'], handleInvalid='keep')\n",
        "# transform numerical columns to a single vector column\n",
        "num_assembler = VectorAssembler(inputCols=numerical_cols, outputCol='num_features')\n",
        "# apply scaler (MinMax scaler preserves original data distribution)\n",
        "scaler = MinMaxScaler(inputCol='num_features', outputCol='scaled_features')\n",
        "# transform all create vector columns into one vector column\n",
        "assembler = VectorAssembler(inputCols=['stateVec', 'genderVec', 'scaled_features'], outputCol='features')\n",
        "# create pipeline with above steps\n",
        "data_pipeline = Pipeline(stages=[indexer, encoder, num_assembler, scaler, assembler])\n",
        "# fit dataframe to pipleine and transform\n",
        "df_ml = data_pipeline.fit(df_ml).transform(df_ml)"
      ]
    },
    {
      "cell_type": "code",
      "execution_count": 87,
      "metadata": {
        "colab": {
          "base_uri": "https://localhost:8080/",
          "height": 448
        },
        "id": "6uGrpOC5m05X",
        "outputId": "60420f3b-9df9-463b-e408-13b16954a27b"
      },
      "outputs": [
        {
          "output_type": "execute_result",
          "data": {
            "text/plain": [
              "   userId  churn  gender state  avg_session_length  days_registered  total_events  total_sessions  unique_artists  unique_songs  total_nextsong  total_thumbsup  total_home  total_addfriend  total_rolladvert  stateIndex                                                                                                                                                                                                            stateVec   genderVec                                                                        num_features                                                                                                                                                                                                       scaled_features                                                                                                                                                                                                                                                                                                                                                                                                                                          features\n",
              "0  100010      0       1    CT            3.389725               55           381               7             252           269             275              17          11                4                52         9.0  (0.0, 0.0, 0.0, 0.0, 0.0, 0.0, 0.0, 0.0, 0.0, 1.0, 0.0, 0.0, 0.0, 0.0, 0.0, 0.0, 0.0, 0.0, 0.0, 0.0, 0.0, 0.0, 0.0, 0.0, 0.0, 0.0, 0.0, 0.0, 0.0, 0.0, 0.0, 0.0, 0.0, 0.0, 0.0, 0.0, 0.0, 0.0, 0.0, 0.0, 0.0, 0.0)  (0.0, 1.0)  [3.3897250685791955, 55.0, 381.0, 7.0, 252.0, 269.0, 275.0, 17.0, 11.0, 4.0, 52.0]  [0.0749345339549984, 0.21484375, 0.03895699148140453, 0.05660377358490566, 0.07031911889296809, 0.0447585394581861, 0.034004250531316414, 0.038901601830663615, 0.030985915492957747, 0.027972027972027972, 0.40625]  (0.0, 0.0, 0.0, 0.0, 0.0, 0.0, 0.0, 0.0, 0.0, 1.0, 0.0, 0.0, 0.0, 0.0, 0.0, 0.0, 0.0, 0.0, 0.0, 0.0, 0.0, 0.0, 0.0, 0.0, 0.0, 0.0, 0.0, 0.0, 0.0, 0.0, 0.0, 0.0, 0.0, 0.0, 0.0, 0.0, 0.0, 0.0, 0.0, 0.0, 0.0, 0.0, 0.0, 1.0, 0.0749345339549984, 0.21484375, 0.03895699148140453, 0.05660377358490566, 0.07031911889296809, 0.0447585394581861, 0.034004250531316414, 0.038901601830663615, 0.030985915492957747, 0.027972027972027972, 0.40625)"
            ],
            "text/html": [
              "\n",
              "  <div id=\"df-166155b2-fd08-4394-a297-13e8732f7acd\" class=\"colab-df-container\">\n",
              "    <div>\n",
              "<style scoped>\n",
              "    .dataframe tbody tr th:only-of-type {\n",
              "        vertical-align: middle;\n",
              "    }\n",
              "\n",
              "    .dataframe tbody tr th {\n",
              "        vertical-align: top;\n",
              "    }\n",
              "\n",
              "    .dataframe thead th {\n",
              "        text-align: right;\n",
              "    }\n",
              "</style>\n",
              "<table border=\"1\" class=\"dataframe\">\n",
              "  <thead>\n",
              "    <tr style=\"text-align: right;\">\n",
              "      <th></th>\n",
              "      <th>userId</th>\n",
              "      <th>churn</th>\n",
              "      <th>gender</th>\n",
              "      <th>state</th>\n",
              "      <th>avg_session_length</th>\n",
              "      <th>days_registered</th>\n",
              "      <th>total_events</th>\n",
              "      <th>total_sessions</th>\n",
              "      <th>unique_artists</th>\n",
              "      <th>unique_songs</th>\n",
              "      <th>total_nextsong</th>\n",
              "      <th>total_thumbsup</th>\n",
              "      <th>total_home</th>\n",
              "      <th>total_addfriend</th>\n",
              "      <th>total_rolladvert</th>\n",
              "      <th>stateIndex</th>\n",
              "      <th>stateVec</th>\n",
              "      <th>genderVec</th>\n",
              "      <th>num_features</th>\n",
              "      <th>scaled_features</th>\n",
              "      <th>features</th>\n",
              "    </tr>\n",
              "  </thead>\n",
              "  <tbody>\n",
              "    <tr>\n",
              "      <th>0</th>\n",
              "      <td>100010</td>\n",
              "      <td>0</td>\n",
              "      <td>1</td>\n",
              "      <td>CT</td>\n",
              "      <td>3.389725</td>\n",
              "      <td>55</td>\n",
              "      <td>381</td>\n",
              "      <td>7</td>\n",
              "      <td>252</td>\n",
              "      <td>269</td>\n",
              "      <td>275</td>\n",
              "      <td>17</td>\n",
              "      <td>11</td>\n",
              "      <td>4</td>\n",
              "      <td>52</td>\n",
              "      <td>9.0</td>\n",
              "      <td>(0.0, 0.0, 0.0, 0.0, 0.0, 0.0, 0.0, 0.0, 0.0, 1.0, 0.0, 0.0, 0.0, 0.0, 0.0, 0.0, 0.0, 0.0, 0.0, 0.0, 0.0, 0.0, 0.0, 0.0, 0.0, 0.0, 0.0, 0.0, 0.0, 0.0, 0.0, 0.0, 0.0, 0.0, 0.0, 0.0, 0.0, 0.0, 0.0, 0.0, 0.0, 0.0)</td>\n",
              "      <td>(0.0, 1.0)</td>\n",
              "      <td>[3.3897250685791955, 55.0, 381.0, 7.0, 252.0, 269.0, 275.0, 17.0, 11.0, 4.0, 52.0]</td>\n",
              "      <td>[0.0749345339549984, 0.21484375, 0.03895699148140453, 0.05660377358490566, 0.07031911889296809, 0.0447585394581861, 0.034004250531316414, 0.038901601830663615, 0.030985915492957747, 0.027972027972027972, 0.40625]</td>\n",
              "      <td>(0.0, 0.0, 0.0, 0.0, 0.0, 0.0, 0.0, 0.0, 0.0, 1.0, 0.0, 0.0, 0.0, 0.0, 0.0, 0.0, 0.0, 0.0, 0.0, 0.0, 0.0, 0.0, 0.0, 0.0, 0.0, 0.0, 0.0, 0.0, 0.0, 0.0, 0.0, 0.0, 0.0, 0.0, 0.0, 0.0, 0.0, 0.0, 0.0, 0.0, 0.0, 0.0, 0.0, 1.0, 0.0749345339549984, 0.21484375, 0.03895699148140453, 0.05660377358490566, 0.07031911889296809, 0.0447585394581861, 0.034004250531316414, 0.038901601830663615, 0.030985915492957747, 0.027972027972027972, 0.40625)</td>\n",
              "    </tr>\n",
              "  </tbody>\n",
              "</table>\n",
              "</div>\n",
              "    <div class=\"colab-df-buttons\">\n",
              "\n",
              "  <div class=\"colab-df-container\">\n",
              "    <button class=\"colab-df-convert\" onclick=\"convertToInteractive('df-166155b2-fd08-4394-a297-13e8732f7acd')\"\n",
              "            title=\"Convert this dataframe to an interactive table.\"\n",
              "            style=\"display:none;\">\n",
              "\n",
              "  <svg xmlns=\"http://www.w3.org/2000/svg\" height=\"24px\" viewBox=\"0 -960 960 960\">\n",
              "    <path d=\"M120-120v-720h720v720H120Zm60-500h600v-160H180v160Zm220 220h160v-160H400v160Zm0 220h160v-160H400v160ZM180-400h160v-160H180v160Zm440 0h160v-160H620v160ZM180-180h160v-160H180v160Zm440 0h160v-160H620v160Z\"/>\n",
              "  </svg>\n",
              "    </button>\n",
              "\n",
              "  <style>\n",
              "    .colab-df-container {\n",
              "      display:flex;\n",
              "      gap: 12px;\n",
              "    }\n",
              "\n",
              "    .colab-df-convert {\n",
              "      background-color: #E8F0FE;\n",
              "      border: none;\n",
              "      border-radius: 50%;\n",
              "      cursor: pointer;\n",
              "      display: none;\n",
              "      fill: #1967D2;\n",
              "      height: 32px;\n",
              "      padding: 0 0 0 0;\n",
              "      width: 32px;\n",
              "    }\n",
              "\n",
              "    .colab-df-convert:hover {\n",
              "      background-color: #E2EBFA;\n",
              "      box-shadow: 0px 1px 2px rgba(60, 64, 67, 0.3), 0px 1px 3px 1px rgba(60, 64, 67, 0.15);\n",
              "      fill: #174EA6;\n",
              "    }\n",
              "\n",
              "    .colab-df-buttons div {\n",
              "      margin-bottom: 4px;\n",
              "    }\n",
              "\n",
              "    [theme=dark] .colab-df-convert {\n",
              "      background-color: #3B4455;\n",
              "      fill: #D2E3FC;\n",
              "    }\n",
              "\n",
              "    [theme=dark] .colab-df-convert:hover {\n",
              "      background-color: #434B5C;\n",
              "      box-shadow: 0px 1px 3px 1px rgba(0, 0, 0, 0.15);\n",
              "      filter: drop-shadow(0px 1px 2px rgba(0, 0, 0, 0.3));\n",
              "      fill: #FFFFFF;\n",
              "    }\n",
              "  </style>\n",
              "\n",
              "    <script>\n",
              "      const buttonEl =\n",
              "        document.querySelector('#df-166155b2-fd08-4394-a297-13e8732f7acd button.colab-df-convert');\n",
              "      buttonEl.style.display =\n",
              "        google.colab.kernel.accessAllowed ? 'block' : 'none';\n",
              "\n",
              "      async function convertToInteractive(key) {\n",
              "        const element = document.querySelector('#df-166155b2-fd08-4394-a297-13e8732f7acd');\n",
              "        const dataTable =\n",
              "          await google.colab.kernel.invokeFunction('convertToInteractive',\n",
              "                                                    [key], {});\n",
              "        if (!dataTable) return;\n",
              "\n",
              "        const docLinkHtml = 'Like what you see? Visit the ' +\n",
              "          '<a target=\"_blank\" href=https://colab.research.google.com/notebooks/data_table.ipynb>data table notebook</a>'\n",
              "          + ' to learn more about interactive tables.';\n",
              "        element.innerHTML = '';\n",
              "        dataTable['output_type'] = 'display_data';\n",
              "        await google.colab.output.renderOutput(dataTable, element);\n",
              "        const docLink = document.createElement('div');\n",
              "        docLink.innerHTML = docLinkHtml;\n",
              "        element.appendChild(docLink);\n",
              "      }\n",
              "    </script>\n",
              "  </div>\n",
              "\n",
              "\n",
              "    </div>\n",
              "  </div>\n"
            ],
            "application/vnd.google.colaboratory.intrinsic+json": {
              "type": "dataframe"
            }
          },
          "metadata": {},
          "execution_count": 87
        }
      ],
      "source": [
        "df_ml.toPandas().head(1)"
      ]
    },
    {
      "cell_type": "code",
      "execution_count": 90,
      "metadata": {
        "colab": {
          "base_uri": "https://localhost:8080/"
        },
        "id": "KBBadL0Gm3UI",
        "outputId": "5dd0cf95-c5bc-43dc-a945-726e971f3e6c"
      },
      "outputs": [
        {
          "output_type": "stream",
          "name": "stdout",
          "text": [
            "Shape of train, validation and test sets:\n",
            "(156, 21)\n",
            "(14, 21)\n",
            "(55, 21)\n"
          ]
        }
      ],
      "source": [
        "# split data into train, validation and test sets\n",
        "train, validation_test = df_ml.randomSplit([0.7, 0.3], seed = 4)\n",
        "validation, test = validation_test.randomSplit([0.5, 0.5], seed = 4)\n",
        "\n",
        "# shape of datasets (spark random split doesn't guarantee a split exactly to the input weigths)\n",
        "print('Shape of train, validation and test sets:')\n",
        "print((train.count(), len(train.columns)))\n",
        "print((validation.count(), len(validation.columns)))\n",
        "print((test.count(), len(test.columns)))"
      ]
    },
    {
      "cell_type": "code",
      "execution_count": 91,
      "metadata": {
        "colab": {
          "base_uri": "https://localhost:8080/"
        },
        "id": "x6juLh9Gm_Pv",
        "outputId": "7af7399b-8bf8-4244-eaf4-c3dbae6be0f6"
      },
      "outputs": [
        {
          "output_type": "stream",
          "name": "stdout",
          "text": [
            "Total training time for naive bayes: 11.462976455688477 seconds\n",
            "Total training time for logic regression: 422.9518897533417 seconds\n",
            "Total training time for linear svc: 735.3697195053101 seconds\n",
            "Total training time for random forest: 60.407700538635254 seconds\n",
            "Total training time for decision tree: 39.587690591812134 seconds\n"
          ]
        }
      ],
      "source": [
        "# set up and fit models to training data\n",
        "# baseline results for each model without any hyperparameter tuning\n",
        "# add timer to see how long it takes to train each model\n",
        "\n",
        "from pyspark.ml.classification import NaiveBayes, LogisticRegression, RandomForestClassifier, DecisionTreeClassifier, GBTClassifier\n",
        "from pyspark.ml.classification import LinearSVC\n",
        "from time import time\n",
        "\n",
        "# naive bayes\n",
        "start1 = time()\n",
        "nb = NaiveBayes(featuresCol='features', labelCol='churn')\n",
        "nb_model = nb.fit(train)\n",
        "end1 = time()\n",
        "\n",
        "print('Total training time for naive bayes: {} seconds'.format(end1 - start1))\n",
        "\n",
        "# logistic regression\n",
        "start2 = time()\n",
        "lr = LogisticRegression(featuresCol='features', labelCol='churn')\n",
        "lr_model = lr.fit(train)\n",
        "end2 = time()\n",
        "\n",
        "print('Total training time for logic regression: {} seconds'.format(end2 - start2))\n",
        "\n",
        "# linear svc (support vector machine)\n",
        "start3 = time()\n",
        "svc = LinearSVC(featuresCol='features', labelCol='churn')\n",
        "svc_model = svc.fit(train)\n",
        "end3 = time()\n",
        "\n",
        "print('Total training time for linear svc: {} seconds'.format(end3 - start3))\n",
        "\n",
        "# random forest\n",
        "start4 = time()\n",
        "rf = RandomForestClassifier(featuresCol='features', labelCol='churn', seed=4)\n",
        "rf_model = rf.fit(train)\n",
        "end4 = time()\n",
        "\n",
        "print('Total training time for random forest: {} seconds'.format(end4 - start4))\n",
        "\n",
        "# decision tree\n",
        "start5 = time()\n",
        "dt = DecisionTreeClassifier(featuresCol='features', labelCol='churn', seed=4)\n",
        "dt_model = dt.fit(train)\n",
        "end5 = time()\n",
        "\n",
        "print('Total training time for decision tree: {} seconds'.format(end5 - start5))\n",
        "\n",
        "\n"
      ]
    },
    {
      "cell_type": "code",
      "execution_count": 92,
      "metadata": {
        "colab": {
          "base_uri": "https://localhost:8080/"
        },
        "id": "JP7LNfQHs3_4",
        "outputId": "9be5df10-3348-4307-d3da-7b9207261488"
      },
      "outputs": [
        {
          "output_type": "stream",
          "name": "stdout",
          "text": [
            "F1 score for naive bayes on validation set: 0.6149068322981366\n",
            "Area under PR for naive bayes on validation set: 0.10714285714285714\n",
            "\n",
            "F1 score for logistic regression on validation set: 0.5714285714285714\n",
            "Area under PR for logistic regression on validation set: 0.10714285714285714\n",
            "\n",
            "F1 score for linear svc on validation set: 0.5714285714285714\n",
            "Area under PR for linear svc on validation set: 0.10714285714285714\n",
            "\n",
            "F1 score for random forest on validation set: 0.8273809523809522\n",
            "Area under PR for random forest on validation set: 0.7380952380952381\n",
            "\n",
            "F1 score for decision tree on validation set: 0.7357142857142855\n",
            "Area under PR for decision tree on validation set: 0.36904761904761907\n",
            "\n"
          ]
        }
      ],
      "source": [
        "# baseline model predictions\n",
        "# create lists with the models and their respective names\n",
        "models = [nb_model,\n",
        "          lr_model,\n",
        "          svc_model,\n",
        "          rf_model,\n",
        "          dt_model]\n",
        "\n",
        "model_names = ['naive bayes',\n",
        "               'logistic regression',\n",
        "               'linear svc',\n",
        "               'random forest',\n",
        "               'decision tree']\n",
        "\n",
        "# for all models, make prediction, calculate f1 scores and display results\n",
        "for i in range(len(models)):\n",
        "    model = models[i]\n",
        "    model_name = model_names[i]\n",
        "    # predict on validation set\n",
        "    validation_prediction = model.transform(validation)\n",
        "    # use MulticlassClassificationEvaluator to get f1 scores\n",
        "    evaluator1 = MulticlassClassificationEvaluator(labelCol='churn')\n",
        "    # use BinaryClassificationEvaluator to get area under PR\n",
        "    evaluator2 = BinaryClassificationEvaluator(rawPredictionCol='prediction', labelCol='churn')\n",
        "    # make evaluation and print f1-score and area under PR per model\n",
        "    print('F1 score for {} on validation set: {}'.format((model_name), (evaluator1.evaluate(\n",
        "        validation_prediction, {evaluator1.metricName:'f1'}))))\n",
        "\n",
        "    print('Area under PR for {} on validation set: {}'.format((model_name), (evaluator2.evaluate(\n",
        "        validation_prediction, {evaluator2.metricName:'areaUnderPR'}))))\n",
        "\n",
        "    print('')"
      ]
    },
    {
      "cell_type": "code",
      "execution_count": 93,
      "metadata": {
        "colab": {
          "base_uri": "https://localhost:8080/",
          "height": 140
        },
        "id": "oHSDsFDFtrpr",
        "outputId": "d1844712-06c7-4dc9-8974-589f17c7fead"
      },
      "outputs": [
        {
          "output_type": "execute_result",
          "data": {
            "text/plain": [
              "\"bootstrap: Whether bootstrap samples are used when building trees. (default: True)\\ncacheNodeIds: If false, the algorithm will pass trees to executors to match instances with nodes. If true, the algorithm will cache node IDs for each instance. Caching can speed up training of deeper trees. Users can set how often should the cache be checkpointed or disable it by setting checkpointInterval. (default: False)\\ncheckpointInterval: set checkpoint interval (>= 1) or disable checkpoint (-1). E.g. 10 means that the cache will get checkpointed every 10 iterations. Note: this setting will be ignored if the checkpoint directory is not set in the SparkContext. (default: 10)\\nfeatureSubsetStrategy: The number of features to consider for splits at each tree node. Supported options: 'auto' (choose automatically for task: If numTrees == 1, set to 'all'. If numTrees > 1 (forest), set to 'sqrt' for classification and to 'onethird' for regression), 'all' (use all features), 'onethird' (use 1/3 of the features), 'sqrt' (use sqrt(number of features)), 'log2' (use log2(number of features)), 'n' (when n is in the range (0, 1.0], use n * number of features. When n is in the range (1, number of features), use n features). default = 'auto' (default: auto)\\nfeaturesCol: features column name. (default: features, current: features)\\nimpurity: Criterion used for information gain calculation (case-insensitive). Supported options: entropy, gini (default: gini)\\nlabelCol: label column name. (default: label, current: churn)\\nleafCol: Leaf indices column name. Predicted leaf index of each instance in each tree by preorder. (default: )\\nmaxBins: Max number of bins for discretizing continuous features.  Must be >=2 and >= number of categories for any categorical feature. (default: 32)\\nmaxDepth: Maximum depth of the tree. (>= 0) E.g., depth 0 means 1 leaf node; depth 1 means 1 internal node + 2 leaf nodes. Must be in range [0, 30]. (default: 5)\\nmaxMemoryInMB: Maximum memory in MB allocated to histogram aggregation. If too small, then 1 node will be split per iteration, and its aggregates may exceed this size. (default: 256)\\nminInfoGain: Minimum information gain for a split to be considered at a tree node. (default: 0.0)\\nminInstancesPerNode: Minimum number of instances each child must have after split. If a split causes the left or right child to have fewer than minInstancesPerNode, the split will be discarded as invalid. Should be >= 1. (default: 1)\\nminWeightFractionPerNode: Minimum fraction of the weighted sample count that each child must have after split. If a split causes the fraction of the total weight in the left or right child to be less than minWeightFractionPerNode, the split will be discarded as invalid. Should be in interval [0.0, 0.5). (default: 0.0)\\nnumTrees: Number of trees to train (>= 1). (default: 20)\\npredictionCol: prediction column name. (default: prediction)\\nprobabilityCol: Column name for predicted class conditional probabilities. Note: Not all models output well-calibrated probability estimates! These probabilities should be treated as confidences, not precise probabilities. (default: probability)\\nrawPredictionCol: raw prediction (a.k.a. confidence) column name. (default: rawPrediction)\\nseed: random seed. (default: 5360536651010786862, current: 4)\\nsubsamplingRate: Fraction of the training data used for learning each decision tree, in range (0, 1]. (default: 1.0)\\nthresholds: Thresholds in multi-class classification to adjust the probability of predicting each class. Array must have length equal to the number of classes, with values > 0, excepting that at most one value may be 0. The class with largest value p/t is predicted, where p is the original probability of that class and t is the class's threshold. (undefined)\\nweightCol: weight column name. If this is not set or empty, we treat all instance weights as 1.0. (undefined)\""
            ],
            "application/vnd.google.colaboratory.intrinsic+json": {
              "type": "string"
            }
          },
          "metadata": {},
          "execution_count": 93
        }
      ],
      "source": [
        "# get parameter options for decision tree model\n",
        "rf.explainParams()"
      ]
    },
    {
      "cell_type": "code",
      "execution_count": 95,
      "metadata": {
        "colab": {
          "base_uri": "https://localhost:8080/"
        },
        "id": "HnFGe4Ret_do",
        "outputId": "4971ccdc-886e-4e07-a1af-576a2443d24d"
      },
      "outputs": [
        {
          "output_type": "stream",
          "name": "stdout",
          "text": [
            "Total training time for hyperparameter tuning on random forest model: 1920.4084079265594 seconds\n"
          ]
        }
      ],
      "source": [
        "# tune hyperparapeters with ParamGridBuilder and CrossValidator\n",
        "# build paramGrid with hyperparameters to tune\n",
        "paramGrid = (ParamGridBuilder()\n",
        "            .addGrid(rf.impurity,['entropy', 'gini']) # default: gini\n",
        "            .addGrid(rf.maxDepth, [5, 10, 15]) # default: 5\n",
        "            .build())\n",
        "# add paramGrid to CrossValidator\n",
        "crossval = CrossValidator(estimator = rf,\n",
        "                          estimatorParamMaps = paramGrid,\n",
        "                          evaluator = MulticlassClassificationEvaluator(labelCol='churn'),\n",
        "                          numFolds = 5)\n",
        "\n",
        "# fit cv model\n",
        "start7 = time()\n",
        "cv_rf = crossval.fit(train)\n",
        "end7 = time()\n",
        "\n",
        "print('Total training time for hyperparameter tuning on random forest model: {} seconds'.format(end7 - start7))"
      ]
    },
    {
      "cell_type": "code",
      "execution_count": 107,
      "metadata": {
        "colab": {
          "base_uri": "https://localhost:8080/"
        },
        "id": "5FFUVmMlJxPE",
        "outputId": "20637e1c-b0af-4856-e652-a5c54cf4e580"
      },
      "outputs": [
        {
          "output_type": "stream",
          "name": "stdout",
          "text": [
            "F1 score for tuned random forest model on validation set: 0.8273809523809522\n"
          ]
        }
      ],
      "source": [
        "# predict on validation set\n",
        "validation_prediction_rf = cv_rf.transform(validation)\n",
        "\n",
        "# make evaluation and print f1-score\n",
        "print('F1 score for tuned random forest model on validation set: {}'.format(evaluator1.evaluate(\n",
        "    validation_prediction_rf, {evaluator1.metricName:'f1'})))"
      ]
    },
    {
      "cell_type": "code",
      "execution_count": 108,
      "metadata": {
        "colab": {
          "base_uri": "https://localhost:8080/"
        },
        "id": "TdSyL0d2KCe2",
        "outputId": "b3c52589-248a-4008-b301-68af94ef21b6"
      },
      "outputs": [
        {
          "output_type": "stream",
          "name": "stdout",
          "text": [
            "F1 score for tuned random forest model on test set: 0.6726980884284255\n"
          ]
        }
      ],
      "source": [
        "# predict on test set\n",
        "test_prediction_rf = cv_rf.transform(test)\n",
        "\n",
        "# make evaluation and print f1-score\n",
        "print('F1 score for tuned random forest model on test set: {}'.format(evaluator1.evaluate(test_prediction_rf,\n",
        "                                                                     {evaluator1.metricName:'f1'})))"
      ]
    },
    {
      "cell_type": "code",
      "execution_count": 109,
      "metadata": {
        "colab": {
          "base_uri": "https://localhost:8080/"
        },
        "id": "9pkQo1YBKJXf",
        "outputId": "2f3f83d1-66b5-4e3b-aa78-bbda2e5bb825"
      },
      "outputs": [
        {
          "output_type": "stream",
          "name": "stdout",
          "text": [
            "F1 score for baseline random forest model on test set: 0.6180939833113747\n"
          ]
        }
      ],
      "source": [
        "# test baseline random forest model on test set\n",
        "# predict on test set\n",
        "test_prediction_rf_baseline = rf_model.transform(test)\n",
        "\n",
        "# make evaluation and print f1-score\n",
        "print('F1 score for baseline random forest model on test set: {}'.format(evaluator1.evaluate(\n",
        "            test_prediction_rf_baseline, {evaluator1.metricName:'f1'})))"
      ]
    },
    {
      "cell_type": "code",
      "execution_count": 99,
      "metadata": {
        "colab": {
          "base_uri": "https://localhost:8080/"
        },
        "id": "-GMCsMMYKV0M",
        "outputId": "84b1d8f7-41c6-42a7-e0d3-edcaf3284b50"
      },
      "outputs": [
        {
          "output_type": "execute_result",
          "data": {
            "text/plain": [
              "{Param(parent='RandomForestClassifier_b12d450b4939', name='bootstrap', doc='Whether bootstrap samples are used when building trees.'): True,\n",
              " Param(parent='RandomForestClassifier_b12d450b4939', name='cacheNodeIds', doc='If false, the algorithm will pass trees to executors to match instances with nodes. If true, the algorithm will cache node IDs for each instance. Caching can speed up training of deeper trees. Users can set how often should the cache be checkpointed or disable it by setting checkpointInterval.'): False,\n",
              " Param(parent='RandomForestClassifier_b12d450b4939', name='checkpointInterval', doc='set checkpoint interval (>= 1) or disable checkpoint (-1). E.g. 10 means that the cache will get checkpointed every 10 iterations. Note: this setting will be ignored if the checkpoint directory is not set in the SparkContext.'): 10,\n",
              " Param(parent='RandomForestClassifier_b12d450b4939', name='featureSubsetStrategy', doc=\"The number of features to consider for splits at each tree node. Supported options: 'auto' (choose automatically for task: If numTrees == 1, set to 'all'. If numTrees > 1 (forest), set to 'sqrt' for classification and to 'onethird' for regression), 'all' (use all features), 'onethird' (use 1/3 of the features), 'sqrt' (use sqrt(number of features)), 'log2' (use log2(number of features)), 'n' (when n is in the range (0, 1.0], use n * number of features. When n is in the range (1, number of features), use n features). default = 'auto'\"): 'auto',\n",
              " Param(parent='RandomForestClassifier_b12d450b4939', name='featuresCol', doc='features column name.'): 'features',\n",
              " Param(parent='RandomForestClassifier_b12d450b4939', name='impurity', doc='Criterion used for information gain calculation (case-insensitive). Supported options: entropy, gini'): 'gini',\n",
              " Param(parent='RandomForestClassifier_b12d450b4939', name='labelCol', doc='label column name.'): 'churn',\n",
              " Param(parent='RandomForestClassifier_b12d450b4939', name='leafCol', doc='Leaf indices column name. Predicted leaf index of each instance in each tree by preorder.'): '',\n",
              " Param(parent='RandomForestClassifier_b12d450b4939', name='maxBins', doc='Max number of bins for discretizing continuous features.  Must be >=2 and >= number of categories for any categorical feature.'): 32,\n",
              " Param(parent='RandomForestClassifier_b12d450b4939', name='maxDepth', doc='Maximum depth of the tree. (>= 0) E.g., depth 0 means 1 leaf node; depth 1 means 1 internal node + 2 leaf nodes. Must be in range [0, 30].'): 10,\n",
              " Param(parent='RandomForestClassifier_b12d450b4939', name='maxMemoryInMB', doc='Maximum memory in MB allocated to histogram aggregation. If too small, then 1 node will be split per iteration, and its aggregates may exceed this size.'): 256,\n",
              " Param(parent='RandomForestClassifier_b12d450b4939', name='minInfoGain', doc='Minimum information gain for a split to be considered at a tree node.'): 0.0,\n",
              " Param(parent='RandomForestClassifier_b12d450b4939', name='minInstancesPerNode', doc='Minimum number of instances each child must have after split. If a split causes the left or right child to have fewer than minInstancesPerNode, the split will be discarded as invalid. Should be >= 1.'): 1,\n",
              " Param(parent='RandomForestClassifier_b12d450b4939', name='minWeightFractionPerNode', doc='Minimum fraction of the weighted sample count that each child must have after split. If a split causes the fraction of the total weight in the left or right child to be less than minWeightFractionPerNode, the split will be discarded as invalid. Should be in interval [0.0, 0.5).'): 0.0,\n",
              " Param(parent='RandomForestClassifier_b12d450b4939', name='numTrees', doc='Number of trees to train (>= 1).'): 20,\n",
              " Param(parent='RandomForestClassifier_b12d450b4939', name='predictionCol', doc='prediction column name.'): 'prediction',\n",
              " Param(parent='RandomForestClassifier_b12d450b4939', name='probabilityCol', doc='Column name for predicted class conditional probabilities. Note: Not all models output well-calibrated probability estimates! These probabilities should be treated as confidences, not precise probabilities.'): 'probability',\n",
              " Param(parent='RandomForestClassifier_b12d450b4939', name='rawPredictionCol', doc='raw prediction (a.k.a. confidence) column name.'): 'rawPrediction',\n",
              " Param(parent='RandomForestClassifier_b12d450b4939', name='seed', doc='random seed.'): 4,\n",
              " Param(parent='RandomForestClassifier_b12d450b4939', name='subsamplingRate', doc='Fraction of the training data used for learning each decision tree, in range (0, 1].'): 1.0}"
            ]
          },
          "metadata": {},
          "execution_count": 99
        }
      ],
      "source": [
        "cv_rf.bestModel.extractParamMap()"
      ]
    },
    {
      "cell_type": "code",
      "execution_count": 100,
      "metadata": {
        "id": "J2vnop2uKaCr"
      },
      "outputs": [],
      "source": [
        "# function to extract feature importance score and name for model, convert to pandas dataframe and\n",
        "# add column with cumulative score\n",
        "# source: https://www.timlrx.com/2018/06/19/feature-selection-using-feature-importance-\n",
        "# score-creating-a-pyspark-estimator/\n",
        "\n",
        "def extract_feature_imp(featureImp, dataset, featuresCol):\n",
        "    # dictionary to replace vector name with feature name\n",
        "    feat_name_dict = {\n",
        "        'scaled_features_0': 'avg_session_length',\n",
        "        'scaled_features_1': 'days_registered',\n",
        "        'scaled_features_2': 'total_events',\n",
        "        'scaled_features_3': 'total_sessions',\n",
        "        'scaled_features_4': 'unique_artists',\n",
        "        'scaled_features_5': 'unique_songs',\n",
        "        'scaled_features_6': 'total_nextsong',\n",
        "        'scaled_features_7': 'total_thumbsup',\n",
        "        'scaled_features_8': 'total_home',\n",
        "        'scaled_features_9': 'total_addfriend',\n",
        "        'scaled_features_10': 'total_rolladvert',\n",
        "        'stateVec_ CA': 'state: CA',\n",
        "        'stateVec_ NY': 'state: NY',\n",
        "        'stateVec_ TX': 'state: TX',\n",
        "        'stateVec_ FL': 'state: FL',\n",
        "        'stateVec_ NC': 'state: NC',\n",
        "        'stateVec_ IL': 'state: IL',\n",
        "        'stateVec_ PA': 'state: PA',\n",
        "        'stateVec_ MO': 'state: MO',\n",
        "        'stateVec_ CT': 'state: CT',\n",
        "        'stateVec_ AZ': 'state: AZ',\n",
        "        'stateVec_ GA': 'state: GA',\n",
        "        'stateVec_ OH': 'state: OH',\n",
        "        'stateVec_ MA': 'state: MA',\n",
        "        'stateVec_ MI': 'state: MI',\n",
        "        'stateVec_ DC': 'state: DC',\n",
        "        'stateVec_ CO': 'state: CO',\n",
        "        'stateVec_ AL': 'state: AL',\n",
        "        'stateVec_ VA': 'state: VA',\n",
        "        'stateVec_ KY': 'state: KY',\n",
        "        'stateVec_ WA': 'state: WA',\n",
        "        'stateVec_ OR': 'state: OR',\n",
        "         'stateVec_ MS': 'state: MS',\n",
        "        'stateVec_ SC': 'state: SC',\n",
        "        'stateVec_ MN': 'state: MN',\n",
        "        'stateVec_ IN': 'state: IN',\n",
        "        'stateVec_ TN': 'state: TN',\n",
        "        'stateVec_ MD': 'state: MD',\n",
        "        'stateVec_ NV': 'state: NV',\n",
        "        'stateVec_ RI': 'state: RI',\n",
        "        'stateVec_ MT': 'state: MT',\n",
        "        'stateVec_ NH': 'state: NH',\n",
        "        'stateVec_ LA': 'state: LA',\n",
        "        'stateVec_ UT': 'state: UT',\n",
        "        'stateVec_ AK': 'state: AK',\n",
        "        'stateVec_ NJ': 'state: NJ',\n",
        "        'stateVec_ WI': 'state: WI',\n",
        "        'stateVec_ WV': 'state: WV',\n",
        "        'stateVec_ IA': 'state: IA',\n",
        "        'stateVec_ OK': 'state: OK',\n",
        "        'stateVec_ NE': 'state: NE',\n",
        "        'stateVec_ AR': 'state: AR',\n",
        "        'stateVec___unknown': 'state:__unknown',\n",
        "        'genderVec_0': 'gender: male',\n",
        "        'genderVec_1': 'gender: female'}\n",
        "\n",
        "    list_extract = []\n",
        "\n",
        "    for i in dataset.schema[featuresCol].metadata[\"ml_attr\"][\"attrs\"]:\n",
        "        list_extract = list_extract + dataset.schema[featuresCol].metadata[\"ml_attr\"][\"attrs\"][i]\n",
        "\n",
        "   # create pandas dataframe with index and feature vector name from metadata\n",
        "    df = pd.DataFrame(list_extract)\n",
        "    # add column with feature importance score\n",
        "    df['score'] = df['idx'].apply(lambda x: featureImp[x])\n",
        "    df = df.sort_values('score', ascending = False)\n",
        "    # add column with cumulative feature importance score\n",
        "    df['cumulative_score'] = df['score'].cumsum()\n",
        "    # replace feature vector name with feature name\n",
        "    df['name'] = df['name'].map(feat_name_dict)\n",
        "\n",
        "    return df"
      ]
    },
    {
      "cell_type": "code",
      "execution_count": 101,
      "metadata": {
        "colab": {
          "base_uri": "https://localhost:8080/",
          "height": 519
        },
        "id": "YsU79DIFKj2f",
        "outputId": "e5a2a56f-d2c6-44dc-ece0-3f7746b56530"
      },
      "outputs": [
        {
          "output_type": "execute_result",
          "data": {
            "text/plain": [
              "    idx                name     score  cumulative_score\n",
              "1    45     days_registered  0.197506          0.197506\n",
              "7    51      total_thumbsup  0.077596          0.275102\n",
              "0    44  avg_session_length  0.066996          0.342098\n",
              "10   54    total_rolladvert  0.064591          0.406689\n",
              "6    50      total_nextsong  0.055441          0.462130\n",
              "5    49        unique_songs  0.054210          0.516340\n",
              "8    52          total_home  0.051916          0.568256\n",
              "2    46        total_events  0.050251          0.618507\n",
              "9    53     total_addfriend  0.048804          0.667311\n",
              "4    48      unique_artists  0.048370          0.715680\n",
              "3    47      total_sessions  0.047794          0.763474\n",
              "26   15           state: CO  0.029788          0.793262\n",
              "54   43      gender: female  0.029414          0.822675\n",
              "40   29           state: LA  0.021259          0.843934\n",
              "30   19           state: WA  0.019347          0.863281"
            ],
            "text/html": [
              "\n",
              "  <div id=\"df-00dec720-d46c-4a87-8c71-dda83162632e\" class=\"colab-df-container\">\n",
              "    <div>\n",
              "<style scoped>\n",
              "    .dataframe tbody tr th:only-of-type {\n",
              "        vertical-align: middle;\n",
              "    }\n",
              "\n",
              "    .dataframe tbody tr th {\n",
              "        vertical-align: top;\n",
              "    }\n",
              "\n",
              "    .dataframe thead th {\n",
              "        text-align: right;\n",
              "    }\n",
              "</style>\n",
              "<table border=\"1\" class=\"dataframe\">\n",
              "  <thead>\n",
              "    <tr style=\"text-align: right;\">\n",
              "      <th></th>\n",
              "      <th>idx</th>\n",
              "      <th>name</th>\n",
              "      <th>score</th>\n",
              "      <th>cumulative_score</th>\n",
              "    </tr>\n",
              "  </thead>\n",
              "  <tbody>\n",
              "    <tr>\n",
              "      <th>1</th>\n",
              "      <td>45</td>\n",
              "      <td>days_registered</td>\n",
              "      <td>0.197506</td>\n",
              "      <td>0.197506</td>\n",
              "    </tr>\n",
              "    <tr>\n",
              "      <th>7</th>\n",
              "      <td>51</td>\n",
              "      <td>total_thumbsup</td>\n",
              "      <td>0.077596</td>\n",
              "      <td>0.275102</td>\n",
              "    </tr>\n",
              "    <tr>\n",
              "      <th>0</th>\n",
              "      <td>44</td>\n",
              "      <td>avg_session_length</td>\n",
              "      <td>0.066996</td>\n",
              "      <td>0.342098</td>\n",
              "    </tr>\n",
              "    <tr>\n",
              "      <th>10</th>\n",
              "      <td>54</td>\n",
              "      <td>total_rolladvert</td>\n",
              "      <td>0.064591</td>\n",
              "      <td>0.406689</td>\n",
              "    </tr>\n",
              "    <tr>\n",
              "      <th>6</th>\n",
              "      <td>50</td>\n",
              "      <td>total_nextsong</td>\n",
              "      <td>0.055441</td>\n",
              "      <td>0.462130</td>\n",
              "    </tr>\n",
              "    <tr>\n",
              "      <th>5</th>\n",
              "      <td>49</td>\n",
              "      <td>unique_songs</td>\n",
              "      <td>0.054210</td>\n",
              "      <td>0.516340</td>\n",
              "    </tr>\n",
              "    <tr>\n",
              "      <th>8</th>\n",
              "      <td>52</td>\n",
              "      <td>total_home</td>\n",
              "      <td>0.051916</td>\n",
              "      <td>0.568256</td>\n",
              "    </tr>\n",
              "    <tr>\n",
              "      <th>2</th>\n",
              "      <td>46</td>\n",
              "      <td>total_events</td>\n",
              "      <td>0.050251</td>\n",
              "      <td>0.618507</td>\n",
              "    </tr>\n",
              "    <tr>\n",
              "      <th>9</th>\n",
              "      <td>53</td>\n",
              "      <td>total_addfriend</td>\n",
              "      <td>0.048804</td>\n",
              "      <td>0.667311</td>\n",
              "    </tr>\n",
              "    <tr>\n",
              "      <th>4</th>\n",
              "      <td>48</td>\n",
              "      <td>unique_artists</td>\n",
              "      <td>0.048370</td>\n",
              "      <td>0.715680</td>\n",
              "    </tr>\n",
              "    <tr>\n",
              "      <th>3</th>\n",
              "      <td>47</td>\n",
              "      <td>total_sessions</td>\n",
              "      <td>0.047794</td>\n",
              "      <td>0.763474</td>\n",
              "    </tr>\n",
              "    <tr>\n",
              "      <th>26</th>\n",
              "      <td>15</td>\n",
              "      <td>state: CO</td>\n",
              "      <td>0.029788</td>\n",
              "      <td>0.793262</td>\n",
              "    </tr>\n",
              "    <tr>\n",
              "      <th>54</th>\n",
              "      <td>43</td>\n",
              "      <td>gender: female</td>\n",
              "      <td>0.029414</td>\n",
              "      <td>0.822675</td>\n",
              "    </tr>\n",
              "    <tr>\n",
              "      <th>40</th>\n",
              "      <td>29</td>\n",
              "      <td>state: LA</td>\n",
              "      <td>0.021259</td>\n",
              "      <td>0.843934</td>\n",
              "    </tr>\n",
              "    <tr>\n",
              "      <th>30</th>\n",
              "      <td>19</td>\n",
              "      <td>state: WA</td>\n",
              "      <td>0.019347</td>\n",
              "      <td>0.863281</td>\n",
              "    </tr>\n",
              "  </tbody>\n",
              "</table>\n",
              "</div>\n",
              "    <div class=\"colab-df-buttons\">\n",
              "\n",
              "  <div class=\"colab-df-container\">\n",
              "    <button class=\"colab-df-convert\" onclick=\"convertToInteractive('df-00dec720-d46c-4a87-8c71-dda83162632e')\"\n",
              "            title=\"Convert this dataframe to an interactive table.\"\n",
              "            style=\"display:none;\">\n",
              "\n",
              "  <svg xmlns=\"http://www.w3.org/2000/svg\" height=\"24px\" viewBox=\"0 -960 960 960\">\n",
              "    <path d=\"M120-120v-720h720v720H120Zm60-500h600v-160H180v160Zm220 220h160v-160H400v160Zm0 220h160v-160H400v160ZM180-400h160v-160H180v160Zm440 0h160v-160H620v160ZM180-180h160v-160H180v160Zm440 0h160v-160H620v160Z\"/>\n",
              "  </svg>\n",
              "    </button>\n",
              "\n",
              "  <style>\n",
              "    .colab-df-container {\n",
              "      display:flex;\n",
              "      gap: 12px;\n",
              "    }\n",
              "\n",
              "    .colab-df-convert {\n",
              "      background-color: #E8F0FE;\n",
              "      border: none;\n",
              "      border-radius: 50%;\n",
              "      cursor: pointer;\n",
              "      display: none;\n",
              "      fill: #1967D2;\n",
              "      height: 32px;\n",
              "      padding: 0 0 0 0;\n",
              "      width: 32px;\n",
              "    }\n",
              "\n",
              "    .colab-df-convert:hover {\n",
              "      background-color: #E2EBFA;\n",
              "      box-shadow: 0px 1px 2px rgba(60, 64, 67, 0.3), 0px 1px 3px 1px rgba(60, 64, 67, 0.15);\n",
              "      fill: #174EA6;\n",
              "    }\n",
              "\n",
              "    .colab-df-buttons div {\n",
              "      margin-bottom: 4px;\n",
              "    }\n",
              "\n",
              "    [theme=dark] .colab-df-convert {\n",
              "      background-color: #3B4455;\n",
              "      fill: #D2E3FC;\n",
              "    }\n",
              "\n",
              "    [theme=dark] .colab-df-convert:hover {\n",
              "      background-color: #434B5C;\n",
              "      box-shadow: 0px 1px 3px 1px rgba(0, 0, 0, 0.15);\n",
              "      filter: drop-shadow(0px 1px 2px rgba(0, 0, 0, 0.3));\n",
              "      fill: #FFFFFF;\n",
              "    }\n",
              "  </style>\n",
              "\n",
              "    <script>\n",
              "      const buttonEl =\n",
              "        document.querySelector('#df-00dec720-d46c-4a87-8c71-dda83162632e button.colab-df-convert');\n",
              "      buttonEl.style.display =\n",
              "        google.colab.kernel.accessAllowed ? 'block' : 'none';\n",
              "\n",
              "      async function convertToInteractive(key) {\n",
              "        const element = document.querySelector('#df-00dec720-d46c-4a87-8c71-dda83162632e');\n",
              "        const dataTable =\n",
              "          await google.colab.kernel.invokeFunction('convertToInteractive',\n",
              "                                                    [key], {});\n",
              "        if (!dataTable) return;\n",
              "\n",
              "        const docLinkHtml = 'Like what you see? Visit the ' +\n",
              "          '<a target=\"_blank\" href=https://colab.research.google.com/notebooks/data_table.ipynb>data table notebook</a>'\n",
              "          + ' to learn more about interactive tables.';\n",
              "        element.innerHTML = '';\n",
              "        dataTable['output_type'] = 'display_data';\n",
              "        await google.colab.output.renderOutput(dataTable, element);\n",
              "        const docLink = document.createElement('div');\n",
              "        docLink.innerHTML = docLinkHtml;\n",
              "        element.appendChild(docLink);\n",
              "      }\n",
              "    </script>\n",
              "  </div>\n",
              "\n",
              "\n",
              "<div id=\"df-727555a8-a777-4040-9f46-24b31a27db8c\">\n",
              "  <button class=\"colab-df-quickchart\" onclick=\"quickchart('df-727555a8-a777-4040-9f46-24b31a27db8c')\"\n",
              "            title=\"Suggest charts\"\n",
              "            style=\"display:none;\">\n",
              "\n",
              "<svg xmlns=\"http://www.w3.org/2000/svg\" height=\"24px\"viewBox=\"0 0 24 24\"\n",
              "     width=\"24px\">\n",
              "    <g>\n",
              "        <path d=\"M19 3H5c-1.1 0-2 .9-2 2v14c0 1.1.9 2 2 2h14c1.1 0 2-.9 2-2V5c0-1.1-.9-2-2-2zM9 17H7v-7h2v7zm4 0h-2V7h2v10zm4 0h-2v-4h2v4z\"/>\n",
              "    </g>\n",
              "</svg>\n",
              "  </button>\n",
              "\n",
              "<style>\n",
              "  .colab-df-quickchart {\n",
              "      --bg-color: #E8F0FE;\n",
              "      --fill-color: #1967D2;\n",
              "      --hover-bg-color: #E2EBFA;\n",
              "      --hover-fill-color: #174EA6;\n",
              "      --disabled-fill-color: #AAA;\n",
              "      --disabled-bg-color: #DDD;\n",
              "  }\n",
              "\n",
              "  [theme=dark] .colab-df-quickchart {\n",
              "      --bg-color: #3B4455;\n",
              "      --fill-color: #D2E3FC;\n",
              "      --hover-bg-color: #434B5C;\n",
              "      --hover-fill-color: #FFFFFF;\n",
              "      --disabled-bg-color: #3B4455;\n",
              "      --disabled-fill-color: #666;\n",
              "  }\n",
              "\n",
              "  .colab-df-quickchart {\n",
              "    background-color: var(--bg-color);\n",
              "    border: none;\n",
              "    border-radius: 50%;\n",
              "    cursor: pointer;\n",
              "    display: none;\n",
              "    fill: var(--fill-color);\n",
              "    height: 32px;\n",
              "    padding: 0;\n",
              "    width: 32px;\n",
              "  }\n",
              "\n",
              "  .colab-df-quickchart:hover {\n",
              "    background-color: var(--hover-bg-color);\n",
              "    box-shadow: 0 1px 2px rgba(60, 64, 67, 0.3), 0 1px 3px 1px rgba(60, 64, 67, 0.15);\n",
              "    fill: var(--button-hover-fill-color);\n",
              "  }\n",
              "\n",
              "  .colab-df-quickchart-complete:disabled,\n",
              "  .colab-df-quickchart-complete:disabled:hover {\n",
              "    background-color: var(--disabled-bg-color);\n",
              "    fill: var(--disabled-fill-color);\n",
              "    box-shadow: none;\n",
              "  }\n",
              "\n",
              "  .colab-df-spinner {\n",
              "    border: 2px solid var(--fill-color);\n",
              "    border-color: transparent;\n",
              "    border-bottom-color: var(--fill-color);\n",
              "    animation:\n",
              "      spin 1s steps(1) infinite;\n",
              "  }\n",
              "\n",
              "  @keyframes spin {\n",
              "    0% {\n",
              "      border-color: transparent;\n",
              "      border-bottom-color: var(--fill-color);\n",
              "      border-left-color: var(--fill-color);\n",
              "    }\n",
              "    20% {\n",
              "      border-color: transparent;\n",
              "      border-left-color: var(--fill-color);\n",
              "      border-top-color: var(--fill-color);\n",
              "    }\n",
              "    30% {\n",
              "      border-color: transparent;\n",
              "      border-left-color: var(--fill-color);\n",
              "      border-top-color: var(--fill-color);\n",
              "      border-right-color: var(--fill-color);\n",
              "    }\n",
              "    40% {\n",
              "      border-color: transparent;\n",
              "      border-right-color: var(--fill-color);\n",
              "      border-top-color: var(--fill-color);\n",
              "    }\n",
              "    60% {\n",
              "      border-color: transparent;\n",
              "      border-right-color: var(--fill-color);\n",
              "    }\n",
              "    80% {\n",
              "      border-color: transparent;\n",
              "      border-right-color: var(--fill-color);\n",
              "      border-bottom-color: var(--fill-color);\n",
              "    }\n",
              "    90% {\n",
              "      border-color: transparent;\n",
              "      border-bottom-color: var(--fill-color);\n",
              "    }\n",
              "  }\n",
              "</style>\n",
              "\n",
              "  <script>\n",
              "    async function quickchart(key) {\n",
              "      const quickchartButtonEl =\n",
              "        document.querySelector('#' + key + ' button');\n",
              "      quickchartButtonEl.disabled = true;  // To prevent multiple clicks.\n",
              "      quickchartButtonEl.classList.add('colab-df-spinner');\n",
              "      try {\n",
              "        const charts = await google.colab.kernel.invokeFunction(\n",
              "            'suggestCharts', [key], {});\n",
              "      } catch (error) {\n",
              "        console.error('Error during call to suggestCharts:', error);\n",
              "      }\n",
              "      quickchartButtonEl.classList.remove('colab-df-spinner');\n",
              "      quickchartButtonEl.classList.add('colab-df-quickchart-complete');\n",
              "    }\n",
              "    (() => {\n",
              "      let quickchartButtonEl =\n",
              "        document.querySelector('#df-727555a8-a777-4040-9f46-24b31a27db8c button');\n",
              "      quickchartButtonEl.style.display =\n",
              "        google.colab.kernel.accessAllowed ? 'block' : 'none';\n",
              "    })();\n",
              "  </script>\n",
              "</div>\n",
              "\n",
              "    </div>\n",
              "  </div>\n"
            ],
            "application/vnd.google.colaboratory.intrinsic+json": {
              "type": "dataframe",
              "variable_name": "df_feat_imp_rf",
              "summary": "{\n  \"name\": \"df_feat_imp_rf\",\n  \"rows\": 55,\n  \"fields\": [\n    {\n      \"column\": \"idx\",\n      \"properties\": {\n        \"dtype\": \"number\",\n        \"std\": 16,\n        \"min\": 0,\n        \"max\": 54,\n        \"num_unique_values\": 55,\n        \"samples\": [\n          4,\n          49,\n          16\n        ],\n        \"semantic_type\": \"\",\n        \"description\": \"\"\n      }\n    },\n    {\n      \"column\": \"name\",\n      \"properties\": {\n        \"dtype\": \"string\",\n        \"num_unique_values\": 55,\n        \"samples\": [\n          \"state: NC\",\n          \"unique_songs\",\n          \"state: DC\"\n        ],\n        \"semantic_type\": \"\",\n        \"description\": \"\"\n      }\n    },\n    {\n      \"column\": \"score\",\n      \"properties\": {\n        \"dtype\": \"number\",\n        \"std\": 0.032709291718952906,\n        \"min\": 0.0,\n        \"max\": 0.19750612496134662,\n        \"num_unique_values\": 38,\n        \"samples\": [\n          0.00040432404982255,\n          7.217647656810474e-06,\n          0.05544093467512334\n        ],\n        \"semantic_type\": \"\",\n        \"description\": \"\"\n      }\n    },\n    {\n      \"column\": \"cumulative_score\",\n      \"properties\": {\n        \"dtype\": \"number\",\n        \"std\": 0.20949318677883846,\n        \"min\": 0.19750612496134662,\n        \"max\": 1.0000000000000002,\n        \"num_unique_values\": 37,\n        \"samples\": [\n          0.909272958957777,\n          0.84393433806394,\n          0.4621298570317922\n        ],\n        \"semantic_type\": \"\",\n        \"description\": \"\"\n      }\n    }\n  ]\n}"
            }
          },
          "metadata": {},
          "execution_count": 101
        }
      ],
      "source": [
        "# get dataframe with feature importance\n",
        "df_feat_imp_rf = extract_feature_imp(cv_rf.bestModel.featureImportances, df_ml, 'features')\n",
        "df_feat_imp_rf.head(15)"
      ]
    },
    {
      "cell_type": "code",
      "execution_count": 103,
      "metadata": {
        "colab": {
          "base_uri": "https://localhost:8080/",
          "height": 898
        },
        "id": "YCoLjCMQKlmE",
        "outputId": "c7de5514-3793-4095-de9d-e907733d4aec"
      },
      "outputs": [
        {
          "output_type": "display_data",
          "data": {
            "text/plain": [
              "<Figure size 1500x1000 with 1 Axes>"
            ],
            "image/png": "[encoded data removed]"
          },
          "metadata": {}
        }
      ],
      "source": [
        "# plot feature score and cumulative score for most important features for tuned decision tree model\n",
        "# keep only top 15 most important features for plotting\n",
        "df_feat_imp_rf_15 = df_feat_imp_rf.head(15)\n",
        "\n",
        "ind = np.arange(len(df_feat_imp_rf_15['name']))\n",
        "\n",
        "fig = plt.figure(figsize = (15,10))\n",
        "plt.bar(ind, df_feat_imp_rf_15['score'], label='Feature score')\n",
        "plt.plot(ind, df_feat_imp_rf_15['cumulative_score'], label='Cumulative score')\n",
        "plt.title('Most important features for tuned decision tree model')\n",
        "plt.legend(loc='upper left')\n",
        "plt.ylabel('Score')\n",
        "plt.yticks(np.arange(0, 1.1, step=0.1))\n",
        "plt.xlabel('Feature')\n",
        "plt.xticks(ind, df_feat_imp_rf_15['name'], rotation=90)\n",
        "plt.show()"
      ]
    }
  ],
  "metadata": {
    "colab": {
      "provenance": []
    },
    "kernelspec": {
      "display_name": "Python 3",
      "name": "python3"
    },
    "language_info": {
      "name": "python"
    }
  },
  "nbformat": 4,
  "nbformat_minor": 0
}